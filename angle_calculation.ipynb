{
 "cells": [
  {
   "cell_type": "code",
   "execution_count": null,
   "metadata": {},
   "outputs": [],
   "source": [
    "from Bio.PDB import PDBList\n",
    "\n",
    "#def pdb_retriever(file_name):\n",
    "file_name = 'AF-A0A1D8PD42-F1-model_v4'\n",
    "#file_name = '3goe'\n",
    "\n",
    "pdbl = PDBList()\n",
    "#pdbl.retrieve_pdb_file(\"3goe\", file_format='mmCif', pdir=\".\")\n",
    "pdbl.retrieve_pdb_file(file_name, file_format='mmCif', pdir=\".\")\n",
    "# import the needed class\n",
    "from Bio.PDB.MMCIFParser import MMCIFParser\n",
    "\n",
    "# instantiate the class to prepare the parser\n",
    "cif_parser = MMCIFParser()\n",
    "# load the structure to an object\n",
    "structure = cif_parser.get_structure(file_name, f\"{file_name}.cif\")\n",
    "#structure = cif_parser.get_structure(\"3goe\", \"3goe.cif\")\n",
    "\n",
    "model0 = structure[0]\n",
    "\n",
    "#model0 = structure[1] - error due to there only being one model\n",
    "chain_A = model0['A']  # and we get chain A\n",
    "# dictionary converting 3-letter codes to 1-letter codes\n",
    "# this is a very common need in bioinformatics of proteins\n",
    "d3to1 = {'CYS': 'C', 'ASP': 'D', 'SER': 'S', 'GLN': 'Q', 'LYS': 'K',\n",
    " 'ILE': 'I', 'PRO': 'P', 'THR': 'T', 'PHE': 'F', 'ASN': 'N',\n",
    " 'GLY': 'G', 'HIS': 'H', 'LEU': 'L', 'ARG': 'R', 'TRP': 'W',\n",
    " 'ALA': 'A', 'VAL':'V', 'GLU': 'E', 'TYR': 'Y', 'MET': 'M'}\n",
    "\n",
    "seq = []\n",
    "for residue in chain_A:\n",
    "    # for simplicity we can use X for heteroatoms (ions and water)\n",
    "    seq.append(d3to1.get(residue.get_resname(), 'X'))  #converts water and ions to X\n",
    "print(''.join(seq))"
   ]
  },
  {
   "cell_type": "code",
   "execution_count": null,
   "metadata": {},
   "outputs": [],
   "source": [
    "#phi and psi\n",
    "from Bio.PDB import PICIO, PDBIO\n",
    "from Bio import PDB\n",
    "from typing import TypedDict, Dict, Tuple\n",
    "structure.atom_to_internal_coordinates() # turns xyz coordinates into angles and bond lengths\n",
    "\n",
    "chain:PDB.Chain.Chain = list(structure.get_chains())[0]#iterator of chains, turns it into list, [0] first chain\n",
    "\n",
    "ic_chain: PDB.internal_coords.IC_Chain = chain.internal_coord #this access the internal chain coords of the chain object\n",
    "\n",
    "d: Dict[Tuple[PDB.internal_coords.AtomKey, \n",
    "              PDB.internal_coords.AtomKey,\n",
    "              PDB.internal_coords.AtomKey,\n",
    "              PDB.internal_coords.AtomKey],\n",
    "        PDB.internal_coords.Dihedron] = ic_chain.dihedra\n",
    "\n",
    "cnt = 1\n",
    "phi_angles = {}\n",
    "psi_angles = {}\n",
    "\n",
    "for key in d:\n",
    "    if key[0].akl[3] == 'N' and key[1].akl[3] == 'CA' and key[2].akl[3] == 'C' and key[3].akl[3] == 'N':\n",
    "        phi_angles[key] = d[key].angle\n",
    "    elif key[0].akl[3] == 'CA' and key[1].akl[3] == 'C' and key[2].akl[3] == 'N' and key[3].akl[3] == 'CA':\n",
    "        psi_angles[key] = d[key].angle\n",
    "for key in phi_angles:\n",
    "    print(f\"Phi Angle {key}: {phi_angles[key]}\")\n",
    "\n",
    "\n",
    "structure.internal_to_atom_coordinates(verbose = True)\n",
    "io = PDBIO() #this is to write a pdb file again\n",
    "io.set_structure(structure)#set structure, the structure you wan tin the pdb file\n",
    "io.save('atom_coord.pdb',  preserve_atom_numbering=True) #saves to a file, filename you a , true - preserves the original atom numbering"
   ]
  },
  {
   "cell_type": "code",
   "execution_count": null,
   "metadata": {},
   "outputs": [],
   "source": [
    "for key in psi_angles:\n",
    "    print(f\"Psi Angle {key}: {psi_angles[key]}\")"
   ]
  }
 ],
 "metadata": {
  "language_info": {
   "name": "python"
  }
 },
 "nbformat": 4,
 "nbformat_minor": 2
}
