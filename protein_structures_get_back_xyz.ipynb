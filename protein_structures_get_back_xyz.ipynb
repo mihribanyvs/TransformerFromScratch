{
  "cells": [
    {
      "cell_type": "code",
      "execution_count": 20,
      "id": "W88QxGCyqUhg",
      "metadata": {
        "id": "W88QxGCyqUhg",
        "colab": {
          "base_uri": "https://localhost:8080/"
        },
        "outputId": "ca4ab8ce-eab8-48dc-8d1f-8ba8f588febb"
      },
      "outputs": [
        {
          "output_type": "stream",
          "name": "stdout",
          "text": [
            "Requirement already satisfied: biopython in /usr/local/lib/python3.10/dist-packages (1.83)\n",
            "Requirement already satisfied: matplotlib in /usr/local/lib/python3.10/dist-packages (3.7.1)\n",
            "Requirement already satisfied: numpy in /usr/local/lib/python3.10/dist-packages (from biopython) (1.25.2)\n",
            "Requirement already satisfied: contourpy>=1.0.1 in /usr/local/lib/python3.10/dist-packages (from matplotlib) (1.2.1)\n",
            "Requirement already satisfied: cycler>=0.10 in /usr/local/lib/python3.10/dist-packages (from matplotlib) (0.12.1)\n",
            "Requirement already satisfied: fonttools>=4.22.0 in /usr/local/lib/python3.10/dist-packages (from matplotlib) (4.51.0)\n",
            "Requirement already satisfied: kiwisolver>=1.0.1 in /usr/local/lib/python3.10/dist-packages (from matplotlib) (1.4.5)\n",
            "Requirement already satisfied: packaging>=20.0 in /usr/local/lib/python3.10/dist-packages (from matplotlib) (24.0)\n",
            "Requirement already satisfied: pillow>=6.2.0 in /usr/local/lib/python3.10/dist-packages (from matplotlib) (9.4.0)\n",
            "Requirement already satisfied: pyparsing>=2.3.1 in /usr/local/lib/python3.10/dist-packages (from matplotlib) (3.1.2)\n",
            "Requirement already satisfied: python-dateutil>=2.7 in /usr/local/lib/python3.10/dist-packages (from matplotlib) (2.8.2)\n",
            "Requirement already satisfied: six>=1.5 in /usr/local/lib/python3.10/dist-packages (from python-dateutil>=2.7->matplotlib) (1.16.0)\n"
          ]
        }
      ],
      "source": [
        "!pip install biopython matplotlib"
      ]
    },
    {
      "cell_type": "markdown",
      "id": "84d1ae85",
      "metadata": {
        "id": "84d1ae85"
      },
      "source": [
        "# Code to extract sequence"
      ]
    },
    {
      "cell_type": "code",
      "execution_count": 21,
      "id": "2986acaf",
      "metadata": {
        "colab": {
          "base_uri": "https://localhost:8080/"
        },
        "id": "2986acaf",
        "outputId": "34198d49-acd7-43c5-f12f-85cb9596cf62"
      },
      "outputs": [
        {
          "output_type": "stream",
          "name": "stdout",
          "text": [
            "Downloading PDB structure 'af-a0a1d8pd42-f1-model_v4'...\n",
            "Desired structure doesn't exist\n",
            "MSSSNTDNQYPKYINDTTPPTITLKEYDNASWASTTCLDHNPIKNQYIVVVMENPNQIVAIIDQQDNMILDILFKNAHDAHSKQEYSTK\n"
          ]
        }
      ],
      "source": [
        "from Bio.PDB import PDBList\n",
        "\n",
        "#def pdb_retriever(file_name):\n",
        "file_name = 'AF-A0A1D8PD42-F1-model_v4'\n",
        "#file_name = '3goe'\n",
        "\n",
        "pdbl = PDBList()\n",
        "#pdbl.retrieve_pdb_file(\"3goe\", file_format='mmCif', pdir=\".\")\n",
        "pdbl.retrieve_pdb_file(file_name, file_format='mmCif', pdir=\".\")\n",
        "# import the needed class\n",
        "from Bio.PDB.MMCIFParser import MMCIFParser\n",
        "\n",
        "# instantiate the class to prepare the parser\n",
        "cif_parser = MMCIFParser()\n",
        "# load the structure to an object\n",
        "structure = cif_parser.get_structure(file_name, f\"{file_name}.cif\")\n",
        "#structure = cif_parser.get_structure(\"3goe\", \"3goe.cif\")\n",
        "\n",
        "model0 = structure[0]\n",
        "\n",
        "#model0 = structure[1] - error due to there only being one model\n",
        "chain_A = model0['A']  # and we get chain A\n",
        "# dictionary converting 3-letter codes to 1-letter codes\n",
        "# this is a very common need in bioinformatics of proteins\n",
        "d3to1 = {'CYS': 'C', 'ASP': 'D', 'SER': 'S', 'GLN': 'Q', 'LYS': 'K',\n",
        " 'ILE': 'I', 'PRO': 'P', 'THR': 'T', 'PHE': 'F', 'ASN': 'N',\n",
        " 'GLY': 'G', 'HIS': 'H', 'LEU': 'L', 'ARG': 'R', 'TRP': 'W',\n",
        " 'ALA': 'A', 'VAL':'V', 'GLU': 'E', 'TYR': 'Y', 'MET': 'M'}\n",
        "\n",
        "seq = []\n",
        "for residue in chain_A:\n",
        "    # for simplicity we can use X for heteroatoms (ions and water)\n",
        "    seq.append(d3to1.get(residue.get_resname(), 'X'))  #converts water and ions to X\n",
        "print(''.join(seq))"
      ]
    },
    {
      "cell_type": "code",
      "execution_count": 22,
      "id": "4df88691",
      "metadata": {
        "id": "4df88691",
        "colab": {
          "base_uri": "https://localhost:8080/",
          "height": 106
        },
        "outputId": "ad7cd85e-6298-46ba-fe0f-5d1a52ff5318"
      },
      "outputs": [
        {
          "output_type": "error",
          "ename": "IndentationError",
          "evalue": "expected an indented block after function definition on line 3 (<ipython-input-22-097388e76cd2>, line 5)",
          "traceback": [
            "\u001b[0;36m  File \u001b[0;32m\"<ipython-input-22-097388e76cd2>\"\u001b[0;36m, line \u001b[0;32m5\u001b[0m\n\u001b[0;31m    pdbl = PDBList()\u001b[0m\n\u001b[0m    ^\u001b[0m\n\u001b[0;31mIndentationError\u001b[0m\u001b[0;31m:\u001b[0m expected an indented block after function definition on line 3\n"
          ]
        }
      ],
      "source": [
        "from Bio.PDB import PDBList\n",
        "\n",
        "def pdb_retriever(file_name):\n",
        "\n",
        "pdbl = PDBList()\n",
        "#pdbl.retrieve_pdb_file(\"3goe\", file_format='mmCif', pdir=\".\")\n",
        "pdbl.retrieve_pdb_file(\"AF-O06917-F1-model_v4\", file_format='mmCif', pdir=\".\")\n",
        "# import the needed class\n",
        "from Bio.PDB.MMCIFParser import MMCIFParser\n",
        "\n",
        "# instantiate the class to prepare the parser\n",
        "cif_parser = MMCIFParser()\n",
        "# load the structure to an object\n",
        "structure = cif_parser.get_structure(\"AF-O06917-F1-model_v4\", \"AF-O06917-F1-model_v4.cif\")\n",
        "#structure = cif_parser.get_structure(\"3goe\", \"3goe.cif\")\n",
        "\n",
        "model0 = structure[0]\n",
        "\n",
        "#model0 = structure[1] - error due to there only being one model\n",
        "chain_A = model0['A']  # and we get chain A\n",
        "# dictionary converting 3-letter codes to 1-letter codes\n",
        "# this is a very common need in bioinformatics of proteins\n",
        "d3to1 = {'CYS': 'C', 'ASP': 'D', 'SER': 'S', 'GLN': 'Q', 'LYS': 'K',\n",
        " 'ILE': 'I', 'PRO': 'P', 'THR': 'T', 'PHE': 'F', 'ASN': 'N',\n",
        " 'GLY': 'G', 'HIS': 'H', 'LEU': 'L', 'ARG': 'R', 'TRP': 'W',\n",
        " 'ALA': 'A', 'VAL':'V', 'GLU': 'E', 'TYR': 'Y', 'MET': 'M'}\n",
        "\n",
        "seq = []\n",
        "for residue in chain_A:\n",
        "    # for simplicity we can use X for heteroatoms (ions and water)\n",
        "    seq.append(d3to1.get(residue.get_resname(), 'X'))  # do you understand this line in Python?\n",
        "print(''.join(seq))"
      ]
    },
    {
      "cell_type": "code",
      "execution_count": null,
      "id": "9bbb571f",
      "metadata": {
        "id": "9bbb571f"
      },
      "outputs": [],
      "source": [
        "#phi and psi\n",
        "from Bio.PDB import PICIO, PDBIO\n",
        "from Bio import PDB\n",
        "from typing import TypedDict, Dict, Tuple\n",
        "structure.atom_to_internal_coordinates() # turns xyz coordinates into angles and bond lengths\n",
        "\n",
        "chain:PDB.Chain.Chain = list(structure.get_chains())[0]#iterator of chains, turns it into list, [0] first chain\n",
        "\n",
        "ic_chain: PDB.internal_coords.IC_Chain = chain.internal_coord #this access the internal chain coords of the chain object\n",
        "#if you modify this, you will modify the orgiginal\n",
        "\n",
        "d: Dict[Tuple[PDB.internal_coords.AtomKey,\n",
        "              PDB.internal_coords.AtomKey,\n",
        "              PDB.internal_coords.AtomKey,\n",
        "              PDB.internal_coords.AtomKey],\n",
        "        PDB.internal_coords.Dihedron] = ic_chain.dihedra\n",
        "\n",
        "cnt = 1\n",
        "phi_angles = {}\n",
        "psi_angles = {}\n",
        "\n",
        "for key in d:\n",
        "    if key[0].akl[3] == 'N' and key[1].akl[3] == 'CA' and key[2].akl[3] == 'C' and key[3].akl[3] == 'N':\n",
        "        phi_angles[key] = d[key].angle\n",
        "    elif key[0].akl[3] == 'CA' and key[1].akl[3] == 'C' and key[2].akl[3] == 'N' and key[3].akl[3] == 'CA':\n",
        "        psi_angles[key] = d[key].angle\n",
        "for key in phi_angles:\n",
        "    print(f\"Phi Angle {key}: {phi_angles[key]}\")\n",
        "\n",
        "\n",
        "structure.internal_to_atom_coordinates(verbose = True)\n",
        "io = PDBIO() #this is to write a pdb file again\n",
        "io.set_structure(structure)#set structure, the structure you wan tin the pdb file\n",
        "io.save('atom_coord.pdb',  preserve_atom_numbering=True) #saves to a file, filename you a , true - preserves the original atom numbering\n",
        "\n"
      ]
    },
    {
      "cell_type": "code",
      "execution_count": 25,
      "id": "517d4f40",
      "metadata": {
        "colab": {
          "base_uri": "https://localhost:8080/"
        },
        "id": "517d4f40",
        "outputId": "57240ca0-1053-4439-c322-7e3683a66279"
      },
      "outputs": [
        {
          "output_type": "stream",
          "name": "stdout",
          "text": [
            "Psi Angle (1_M_CA, 1_M_C, 2_S_N, 2_S_CA): 37.387901306152344\n",
            "Psi Angle (2_S_CA, 2_S_C, 3_S_N, 3_S_CA): 37.387901306152344\n",
            "Psi Angle (3_S_CA, 3_S_C, 4_S_N, 4_S_CA): 37.387901306152344\n",
            "Psi Angle (4_S_CA, 4_S_C, 5_N_N, 5_N_CA): 37.387901306152344\n",
            "Psi Angle (5_N_CA, 5_N_C, 6_T_N, 6_T_CA): 37.387901306152344\n",
            "Psi Angle (6_T_CA, 6_T_C, 7_D_N, 7_D_CA): 37.387901306152344\n",
            "Psi Angle (7_D_CA, 7_D_C, 8_N_N, 8_N_CA): 37.387901306152344\n",
            "Psi Angle (8_N_CA, 8_N_C, 9_Q_N, 9_Q_CA): 37.387901306152344\n",
            "Psi Angle (9_Q_CA, 9_Q_C, 10_Y_N, 10_Y_CA): 37.387901306152344\n",
            "Psi Angle (10_Y_CA, 10_Y_C, 11_P_N, 11_P_CA): 37.387901306152344\n",
            "Psi Angle (11_P_CA, 11_P_C, 12_K_N, 12_K_CA): 37.387901306152344\n",
            "Psi Angle (12_K_CA, 12_K_C, 13_Y_N, 13_Y_CA): 37.387901306152344\n",
            "Psi Angle (13_Y_CA, 13_Y_C, 14_I_N, 14_I_CA): 37.387901306152344\n",
            "Psi Angle (14_I_CA, 14_I_C, 15_N_N, 15_N_CA): 37.387901306152344\n",
            "Psi Angle (15_N_CA, 15_N_C, 16_D_N, 16_D_CA): 37.387901306152344\n",
            "Psi Angle (16_D_CA, 16_D_C, 17_T_N, 17_T_CA): 37.387901306152344\n",
            "Psi Angle (17_T_CA, 17_T_C, 18_T_N, 18_T_CA): 37.387901306152344\n",
            "Psi Angle (18_T_CA, 18_T_C, 19_P_N, 19_P_CA): 37.387901306152344\n",
            "Psi Angle (19_P_CA, 19_P_C, 20_P_N, 20_P_CA): 37.387901306152344\n",
            "Psi Angle (20_P_CA, 20_P_C, 21_T_N, 21_T_CA): 37.387901306152344\n",
            "Psi Angle (21_T_CA, 21_T_C, 22_I_N, 22_I_CA): 37.387901306152344\n",
            "Psi Angle (22_I_CA, 22_I_C, 23_T_N, 23_T_CA): 37.387901306152344\n",
            "Psi Angle (23_T_CA, 23_T_C, 24_L_N, 24_L_CA): 37.387901306152344\n",
            "Psi Angle (24_L_CA, 24_L_C, 25_K_N, 25_K_CA): 37.387901306152344\n",
            "Psi Angle (25_K_CA, 25_K_C, 26_E_N, 26_E_CA): 37.387901306152344\n",
            "Psi Angle (26_E_CA, 26_E_C, 27_Y_N, 27_Y_CA): 37.387901306152344\n",
            "Psi Angle (27_Y_CA, 27_Y_C, 28_D_N, 28_D_CA): 37.387901306152344\n",
            "Psi Angle (28_D_CA, 28_D_C, 29_N_N, 29_N_CA): 37.387901306152344\n",
            "Psi Angle (29_N_CA, 29_N_C, 30_A_N, 30_A_CA): 37.387901306152344\n",
            "Psi Angle (30_A_CA, 30_A_C, 31_S_N, 31_S_CA): 37.387901306152344\n",
            "Psi Angle (31_S_CA, 31_S_C, 32_W_N, 32_W_CA): 37.387901306152344\n",
            "Psi Angle (32_W_CA, 32_W_C, 33_A_N, 33_A_CA): 37.387901306152344\n",
            "Psi Angle (33_A_CA, 33_A_C, 34_S_N, 34_S_CA): 37.387901306152344\n",
            "Psi Angle (34_S_CA, 34_S_C, 35_T_N, 35_T_CA): 37.387901306152344\n",
            "Psi Angle (35_T_CA, 35_T_C, 36_T_N, 36_T_CA): 37.387901306152344\n",
            "Psi Angle (36_T_CA, 36_T_C, 37_C_N, 37_C_CA): 37.387901306152344\n",
            "Psi Angle (37_C_CA, 37_C_C, 38_L_N, 38_L_CA): 37.387901306152344\n",
            "Psi Angle (38_L_CA, 38_L_C, 39_D_N, 39_D_CA): 37.387901306152344\n",
            "Psi Angle (39_D_CA, 39_D_C, 40_H_N, 40_H_CA): 37.387901306152344\n",
            "Psi Angle (40_H_CA, 40_H_C, 41_N_N, 41_N_CA): 37.387901306152344\n",
            "Psi Angle (41_N_CA, 41_N_C, 42_P_N, 42_P_CA): 37.387901306152344\n",
            "Psi Angle (42_P_CA, 42_P_C, 43_I_N, 43_I_CA): 37.387901306152344\n",
            "Psi Angle (43_I_CA, 43_I_C, 44_K_N, 44_K_CA): 37.387901306152344\n",
            "Psi Angle (44_K_CA, 44_K_C, 45_N_N, 45_N_CA): 37.387901306152344\n",
            "Psi Angle (45_N_CA, 45_N_C, 46_Q_N, 46_Q_CA): 37.387901306152344\n",
            "Psi Angle (46_Q_CA, 46_Q_C, 47_Y_N, 47_Y_CA): 37.387901306152344\n",
            "Psi Angle (47_Y_CA, 47_Y_C, 48_I_N, 48_I_CA): 37.387901306152344\n",
            "Psi Angle (48_I_CA, 48_I_C, 49_V_N, 49_V_CA): 37.387901306152344\n",
            "Psi Angle (49_V_CA, 49_V_C, 50_V_N, 50_V_CA): 37.387901306152344\n",
            "Psi Angle (50_V_CA, 50_V_C, 51_V_N, 51_V_CA): 37.387901306152344\n",
            "Psi Angle (51_V_CA, 51_V_C, 52_M_N, 52_M_CA): 37.387901306152344\n",
            "Psi Angle (52_M_CA, 52_M_C, 53_E_N, 53_E_CA): 37.387901306152344\n",
            "Psi Angle (53_E_CA, 53_E_C, 54_N_N, 54_N_CA): 37.387901306152344\n",
            "Psi Angle (54_N_CA, 54_N_C, 55_P_N, 55_P_CA): 37.387901306152344\n",
            "Psi Angle (55_P_CA, 55_P_C, 56_N_N, 56_N_CA): 37.387901306152344\n",
            "Psi Angle (56_N_CA, 56_N_C, 57_Q_N, 57_Q_CA): 37.387901306152344\n",
            "Psi Angle (57_Q_CA, 57_Q_C, 58_I_N, 58_I_CA): 37.387901306152344\n",
            "Psi Angle (58_I_CA, 58_I_C, 59_V_N, 59_V_CA): 37.387901306152344\n",
            "Psi Angle (59_V_CA, 59_V_C, 60_A_N, 60_A_CA): 37.387901306152344\n",
            "Psi Angle (60_A_CA, 60_A_C, 61_I_N, 61_I_CA): 37.387901306152344\n",
            "Psi Angle (61_I_CA, 61_I_C, 62_I_N, 62_I_CA): 37.387901306152344\n",
            "Psi Angle (62_I_CA, 62_I_C, 63_D_N, 63_D_CA): 37.387901306152344\n",
            "Psi Angle (63_D_CA, 63_D_C, 64_Q_N, 64_Q_CA): 37.387901306152344\n",
            "Psi Angle (64_Q_CA, 64_Q_C, 65_Q_N, 65_Q_CA): 37.387901306152344\n",
            "Psi Angle (65_Q_CA, 65_Q_C, 66_D_N, 66_D_CA): 37.387901306152344\n",
            "Psi Angle (66_D_CA, 66_D_C, 67_N_N, 67_N_CA): 37.387901306152344\n",
            "Psi Angle (67_N_CA, 67_N_C, 68_M_N, 68_M_CA): 37.387901306152344\n",
            "Psi Angle (68_M_CA, 68_M_C, 69_I_N, 69_I_CA): 37.387901306152344\n",
            "Psi Angle (69_I_CA, 69_I_C, 70_L_N, 70_L_CA): 37.387901306152344\n",
            "Psi Angle (70_L_CA, 70_L_C, 71_D_N, 71_D_CA): 37.387901306152344\n",
            "Psi Angle (71_D_CA, 71_D_C, 72_I_N, 72_I_CA): 37.387901306152344\n",
            "Psi Angle (72_I_CA, 72_I_C, 73_L_N, 73_L_CA): 37.387901306152344\n",
            "Psi Angle (73_L_CA, 73_L_C, 74_F_N, 74_F_CA): 37.387901306152344\n",
            "Psi Angle (74_F_CA, 74_F_C, 75_K_N, 75_K_CA): 37.387901306152344\n",
            "Psi Angle (75_K_CA, 75_K_C, 76_N_N, 76_N_CA): 37.387901306152344\n",
            "Psi Angle (76_N_CA, 76_N_C, 77_A_N, 77_A_CA): 37.387901306152344\n",
            "Psi Angle (77_A_CA, 77_A_C, 78_H_N, 78_H_CA): 37.387901306152344\n",
            "Psi Angle (78_H_CA, 78_H_C, 79_D_N, 79_D_CA): 37.387901306152344\n",
            "Psi Angle (79_D_CA, 79_D_C, 80_A_N, 80_A_CA): 37.387901306152344\n",
            "Psi Angle (80_A_CA, 80_A_C, 81_H_N, 81_H_CA): 37.387901306152344\n",
            "Psi Angle (81_H_CA, 81_H_C, 82_S_N, 82_S_CA): 37.387901306152344\n",
            "Psi Angle (82_S_CA, 82_S_C, 83_K_N, 83_K_CA): 37.387901306152344\n",
            "Psi Angle (83_K_CA, 83_K_C, 84_Q_N, 84_Q_CA): 37.387901306152344\n",
            "Psi Angle (84_Q_CA, 84_Q_C, 85_E_N, 85_E_CA): 37.387901306152344\n",
            "Psi Angle (85_E_CA, 85_E_C, 86_Y_N, 86_Y_CA): 37.387901306152344\n",
            "Psi Angle (86_Y_CA, 86_Y_C, 87_S_N, 87_S_CA): 37.387901306152344\n",
            "Psi Angle (87_S_CA, 87_S_C, 88_T_N, 88_T_CA): 37.387901306152344\n",
            "Psi Angle (88_T_CA, 88_T_C, 89_K_N, 89_K_CA): 37.387901306152344\n"
          ]
        }
      ],
      "source": [
        "cntt = 0\n",
        "for key in psi_angles:\n",
        "    print(f\"Psi Angle {key}: {psi_angles[key]}\")\n",
        "    cnt+=1"
      ]
    },
    {
      "cell_type": "code",
      "source": [
        "print(cnt)"
      ],
      "metadata": {
        "colab": {
          "base_uri": "https://localhost:8080/"
        },
        "id": "QdK4BWi2JGFN",
        "outputId": "8531d6f5-7c41-4bcb-eae6-3e50f0abc79a"
      },
      "id": "QdK4BWi2JGFN",
      "execution_count": 26,
      "outputs": [
        {
          "output_type": "stream",
          "name": "stdout",
          "text": [
            "88\n"
          ]
        }
      ]
    },
    {
      "cell_type": "code",
      "source": [
        "import tensorflow"
      ],
      "metadata": {
        "id": "D4KazhJ1HMhO"
      },
      "id": "D4KazhJ1HMhO",
      "execution_count": null,
      "outputs": []
    },
    {
      "cell_type": "code",
      "source": [
        "!pip install torch"
      ],
      "metadata": {
        "id": "IBlOWnOmHV79"
      },
      "id": "IBlOWnOmHV79",
      "execution_count": null,
      "outputs": []
    },
    {
      "cell_type": "code",
      "source": [
        "print(np.shape((psi_angles)))"
      ],
      "metadata": {
        "colab": {
          "base_uri": "https://localhost:8080/"
        },
        "id": "2v8et3YCIxHs",
        "outputId": "1071e883-513d-4a79-aa24-3ee8f3dea857"
      },
      "id": "2v8et3YCIxHs",
      "execution_count": 24,
      "outputs": [
        {
          "output_type": "stream",
          "name": "stdout",
          "text": [
            "()\n"
          ]
        }
      ]
    },
    {
      "cell_type": "code",
      "source": [
        "import torch\n",
        "import numpy as np"
      ],
      "metadata": {
        "id": "YY-tEiN6IVk4"
      },
      "id": "YY-tEiN6IVk4",
      "execution_count": null,
      "outputs": []
    },
    {
      "cell_type": "code",
      "execution_count": 37,
      "id": "3a7d6345",
      "metadata": {
        "colab": {
          "base_uri": "https://localhost:8080/"
        },
        "id": "3a7d6345",
        "outputId": "157681fe-6da5-4a5a-f987-84fa26bcac2c"
      },
      "outputs": [
        {
          "output_type": "stream",
          "name": "stdout",
          "text": [
            "torch.Size([1, 89, 2])\n",
            "AF-A0A1D8PD42-F1-model_v4 A coordinates for 707 dihedra updated in 270 iterations\n"
          ]
        }
      ],
      "source": [
        "angles = torch.tensor([[[83.7707, 37.3879],\n",
        "         [84.4341, 37.8883],\n",
        "         [86.7918, 39.4870],\n",
        "         [92.6615, 40.0501],\n",
        "         [92.7952, 39.3154],\n",
        "         [91.5713, 39.9635],\n",
        "         [87.7357, 39.1289],\n",
        "         [81.1086, 37.8383],\n",
        "         [92.4623, 39.5643],\n",
        "         [86.7375, 39.5260],\n",
        "         [92.3808, 40.1548],\n",
        "         [92.7762, 39.3351],\n",
        "         [91.3537, 40.0770],\n",
        "         [92.8497, 39.4057],\n",
        "         [83.6761, 38.4148],\n",
        "         [92.7883, 39.5683],\n",
        "         [84.4509, 38.9229],\n",
        "         [88.6491, 39.8602],\n",
        "         [87.4553, 39.0821],\n",
        "         [92.7422, 39.6550],\n",
        "         [91.9417, 39.7965],\n",
        "         [92.0327, 40.1771],\n",
        "         [91.7683, 40.0814],\n",
        "         [87.3618, 38.8404],\n",
        "         [92.7556, 39.5275],\n",
        "         [90.8786, 40.2651],\n",
        "         [80.8313, 37.7016],\n",
        "         [87.9381, 39.2948],\n",
        "         [78.8106, 37.0053],\n",
        "         [88.6156, 39.9596],\n",
        "         [83.4503, 37.2489],\n",
        "         [91.8554, 40.2424],\n",
        "         [85.5664, 38.0940],\n",
        "         [83.4323, 37.2444],\n",
        "         [92.7990, 39.3070],\n",
        "         [86.9978, 38.7547],\n",
        "         [87.3971, 39.1696],\n",
        "         [90.5622, 40.0581],\n",
        "         [86.5461, 39.1973],\n",
        "         [79.2300, 37.1280],\n",
        "         [79.5490, 37.3415],\n",
        "         [85.9104, 39.3162],\n",
        "         [92.7330, 39.4584],\n",
        "         [83.8078, 38.1422],\n",
        "         [85.0259, 37.5679],\n",
        "         [83.5131, 38.6537],\n",
        "         [78.7581, 36.9798],\n",
        "         [82.8828, 38.4529],\n",
        "         [81.4297, 37.6868],\n",
        "         [80.5397, 37.6668],\n",
        "         [81.2672, 37.9478],\n",
        "         [84.2740, 38.1620],\n",
        "         [91.7387, 39.9662],\n",
        "         [81.6939, 37.7670],\n",
        "         [83.4111, 38.2950],\n",
        "         [84.9132, 38.3275],\n",
        "         [82.9087, 38.4818],\n",
        "         [80.1067, 37.5458],\n",
        "         [82.1737, 37.8568],\n",
        "         [80.0662, 37.5538],\n",
        "         [87.7576, 39.5095],\n",
        "         [83.8960, 38.4453],\n",
        "         [81.7789, 37.8603],\n",
        "         [79.0249, 37.1158],\n",
        "         [79.7629, 37.4000],\n",
        "         [80.1171, 37.5618],\n",
        "         [82.1145, 37.8549],\n",
        "         [92.6002, 39.5836],\n",
        "         [92.7968, 39.4566],\n",
        "         [83.6778, 38.3386],\n",
        "         [87.1373, 39.5037],\n",
        "         [78.9561, 37.0816],\n",
        "         [81.8158, 37.7943],\n",
        "         [84.9873, 38.6937],\n",
        "         [81.6848, 38.0450],\n",
        "         [86.0478, 38.2326],\n",
        "         [85.1749, 39.0696],\n",
        "         [84.3412, 37.5757],\n",
        "         [78.4858, 36.8478],\n",
        "         [78.5944, 36.9063],\n",
        "         [83.5075, 37.2701],\n",
        "         [82.8042, 37.9217],\n",
        "         [92.9107, 39.5176],\n",
        "         [84.5495, 37.5476],\n",
        "         [79.9289, 37.3865],\n",
        "         [82.4838, 38.1821],\n",
        "         [84.7495, 37.7934],\n",
        "         [92.8220, 39.5213],\n",
        "         [84.8266, 37.8852]]])\n",
        "print(np.shape(angles))\n",
        "\n",
        "structure.atom_to_internal_coordinates() # turns xyz coordinates into angles and bond lengths\n",
        "\n",
        "chain:PDB.Chain.Chain = list(structure.get_chains())[0]#iterator of chains, turns it into list, [0] first chain\n",
        "\n",
        "ic_chain: PDB.internal_coords.IC_Chain = chain.internal_coord #this access the internal chain coords of the chain object\n",
        "#if you modify this, you will modify the orgiginal\n",
        "\n",
        "d: Dict[Tuple[PDB.internal_coords.AtomKey,\n",
        "              PDB.internal_coords.AtomKey,\n",
        "              PDB.internal_coords.AtomKey,\n",
        "              PDB.internal_coords.AtomKey],\n",
        "        PDB.internal_coords.Dihedron] = ic_chain.dihedra\n",
        "\n",
        "cnt = 0\n",
        "phi_angles = {}\n",
        "psi_angles = {}\n",
        "\n",
        "for key in d:\n",
        "    if key[0].akl[3] == 'N' and key[1].akl[3] == 'CA' and key[2].akl[3] == 'C' and key[3].akl[3] == 'N':\n",
        "\n",
        "        d[key].angle = angles[0, cnt, 0].item()\n",
        "        #print('phi clculated')\n",
        "    elif key[0].akl[3] == 'CA' and key[1].akl[3] == 'C' and key[2].akl[3] == 'N' and key[3].akl[3] == 'CA':\n",
        "        d[key].angle = angles[0, cnt, 1].item()\n",
        "        #print(\"psi calcukated\")\n",
        "        #print(cnt)\n",
        "        cnt += 1\n",
        "\n",
        "\n",
        "\n",
        "structure.internal_to_atom_coordinates(verbose = True)\n",
        "io = PDBIO() #this is to write a pdb file again\n",
        "io.set_structure(structure)#set structure, the structure you want in the pdb file\n",
        "io.save('AF-A0A1D8PD42-F1-model_v4_pred.pdb',  preserve_atom_numbering=True) #saves to a file, filename you a , true - preserves the original atom numbering\n",
        "\n",
        "\n"
      ]
    },
    {
      "cell_type": "code",
      "execution_count": null,
      "id": "5c6622b9",
      "metadata": {
        "id": "5c6622b9"
      },
      "outputs": [],
      "source": []
    }
  ],
  "metadata": {
    "colab": {
      "provenance": []
    },
    "kernelspec": {
      "display_name": "Python 3 (ipykernel)",
      "language": "python",
      "name": "python3"
    },
    "language_info": {
      "codemirror_mode": {
        "name": "ipython",
        "version": 3
      },
      "file_extension": ".py",
      "mimetype": "text/x-python",
      "name": "python",
      "nbconvert_exporter": "python",
      "pygments_lexer": "ipython3",
      "version": "3.10.11"
    }
  },
  "nbformat": 4,
  "nbformat_minor": 5
}