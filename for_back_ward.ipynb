{
  "cells": [
    {
      "cell_type": "markdown",
      "metadata": {
        "id": "RxLr3K4MCZZa"
      },
      "source": [
        "##Installation of the libraries"
      ]
    },
    {
      "cell_type": "code",
      "execution_count": null,
      "metadata": {
        "id": "WOpqGFLLtdTJ"
      },
      "outputs": [],
      "source": [
        "!pip install -q transformers"
      ]
    },
    {
      "cell_type": "code",
      "execution_count": null,
      "metadata": {
        "colab": {
          "base_uri": "https://localhost:8080/"
        },
        "id": "Dqat9Mqke5_y",
        "outputId": "ef7c1872-5119-4af3-ac0a-28dbfc98ac4c"
      },
      "outputs": [
        {
          "output_type": "stream",
          "name": "stdout",
          "text": [
            "Collecting biopython\n",
            "  Downloading biopython-1.83-cp310-cp310-manylinux_2_17_x86_64.manylinux2014_x86_64.whl (3.1 MB)\n",
            "\u001b[2K     \u001b[90m━━━━━━━━━━━━━━━━━━━━━━━━━━━━━━━━━━━━━━━━\u001b[0m \u001b[32m3.1/3.1 MB\u001b[0m \u001b[31m21.0 MB/s\u001b[0m eta \u001b[36m0:00:00\u001b[0m\n",
            "\u001b[?25hRequirement already satisfied: numpy in /usr/local/lib/python3.10/dist-packages (from biopython) (1.25.2)\n",
            "Installing collected packages: biopython\n",
            "Successfully installed biopython-1.83\n"
          ]
        }
      ],
      "source": [
        "!pip install biopython"
      ]
    },
    {
      "cell_type": "code",
      "execution_count": null,
      "metadata": {
        "colab": {
          "base_uri": "https://localhost:8080/"
        },
        "id": "2dcG5B0v7sNw",
        "outputId": "ec04a020-efea-4f25-dde1-29e542de62fc"
      },
      "outputs": [
        {
          "output_type": "stream",
          "name": "stdout",
          "text": [
            "Requirement already satisfied: torch in /usr/local/lib/python3.10/dist-packages (2.3.0+cu121)\n",
            "Requirement already satisfied: filelock in /usr/local/lib/python3.10/dist-packages (from torch) (3.14.0)\n",
            "Requirement already satisfied: typing-extensions>=4.8.0 in /usr/local/lib/python3.10/dist-packages (from torch) (4.11.0)\n",
            "Requirement already satisfied: sympy in /usr/local/lib/python3.10/dist-packages (from torch) (1.12)\n",
            "Requirement already satisfied: networkx in /usr/local/lib/python3.10/dist-packages (from torch) (3.3)\n",
            "Requirement already satisfied: jinja2 in /usr/local/lib/python3.10/dist-packages (from torch) (3.1.4)\n",
            "Requirement already satisfied: fsspec in /usr/local/lib/python3.10/dist-packages (from torch) (2023.6.0)\n",
            "Collecting nvidia-cuda-nvrtc-cu12==12.1.105 (from torch)\n",
            "  Using cached nvidia_cuda_nvrtc_cu12-12.1.105-py3-none-manylinux1_x86_64.whl (23.7 MB)\n",
            "Collecting nvidia-cuda-runtime-cu12==12.1.105 (from torch)\n",
            "  Using cached nvidia_cuda_runtime_cu12-12.1.105-py3-none-manylinux1_x86_64.whl (823 kB)\n",
            "Collecting nvidia-cuda-cupti-cu12==12.1.105 (from torch)\n",
            "  Using cached nvidia_cuda_cupti_cu12-12.1.105-py3-none-manylinux1_x86_64.whl (14.1 MB)\n",
            "Collecting nvidia-cudnn-cu12==8.9.2.26 (from torch)\n",
            "  Using cached nvidia_cudnn_cu12-8.9.2.26-py3-none-manylinux1_x86_64.whl (731.7 MB)\n",
            "Collecting nvidia-cublas-cu12==12.1.3.1 (from torch)\n",
            "  Using cached nvidia_cublas_cu12-12.1.3.1-py3-none-manylinux1_x86_64.whl (410.6 MB)\n",
            "Collecting nvidia-cufft-cu12==11.0.2.54 (from torch)\n",
            "  Using cached nvidia_cufft_cu12-11.0.2.54-py3-none-manylinux1_x86_64.whl (121.6 MB)\n",
            "Collecting nvidia-curand-cu12==10.3.2.106 (from torch)\n",
            "  Using cached nvidia_curand_cu12-10.3.2.106-py3-none-manylinux1_x86_64.whl (56.5 MB)\n",
            "Collecting nvidia-cusolver-cu12==11.4.5.107 (from torch)\n",
            "  Using cached nvidia_cusolver_cu12-11.4.5.107-py3-none-manylinux1_x86_64.whl (124.2 MB)\n",
            "Collecting nvidia-cusparse-cu12==12.1.0.106 (from torch)\n",
            "  Using cached nvidia_cusparse_cu12-12.1.0.106-py3-none-manylinux1_x86_64.whl (196.0 MB)\n",
            "Collecting nvidia-nccl-cu12==2.20.5 (from torch)\n",
            "  Using cached nvidia_nccl_cu12-2.20.5-py3-none-manylinux2014_x86_64.whl (176.2 MB)\n",
            "Collecting nvidia-nvtx-cu12==12.1.105 (from torch)\n",
            "  Using cached nvidia_nvtx_cu12-12.1.105-py3-none-manylinux1_x86_64.whl (99 kB)\n",
            "Requirement already satisfied: triton==2.3.0 in /usr/local/lib/python3.10/dist-packages (from torch) (2.3.0)\n",
            "Collecting nvidia-nvjitlink-cu12 (from nvidia-cusolver-cu12==11.4.5.107->torch)\n",
            "  Downloading nvidia_nvjitlink_cu12-12.5.40-py3-none-manylinux2014_x86_64.whl (21.3 MB)\n",
            "\u001b[2K     \u001b[90m━━━━━━━━━━━━━━━━━━━━━━━━━━━━━━━━━━━━━━━━\u001b[0m \u001b[32m21.3/21.3 MB\u001b[0m \u001b[31m61.7 MB/s\u001b[0m eta \u001b[36m0:00:00\u001b[0m\n",
            "\u001b[?25hRequirement already satisfied: MarkupSafe>=2.0 in /usr/local/lib/python3.10/dist-packages (from jinja2->torch) (2.1.5)\n",
            "Requirement already satisfied: mpmath>=0.19 in /usr/local/lib/python3.10/dist-packages (from sympy->torch) (1.3.0)\n",
            "Installing collected packages: nvidia-nvtx-cu12, nvidia-nvjitlink-cu12, nvidia-nccl-cu12, nvidia-curand-cu12, nvidia-cufft-cu12, nvidia-cuda-runtime-cu12, nvidia-cuda-nvrtc-cu12, nvidia-cuda-cupti-cu12, nvidia-cublas-cu12, nvidia-cusparse-cu12, nvidia-cudnn-cu12, nvidia-cusolver-cu12\n",
            "Successfully installed nvidia-cublas-cu12-12.1.3.1 nvidia-cuda-cupti-cu12-12.1.105 nvidia-cuda-nvrtc-cu12-12.1.105 nvidia-cuda-runtime-cu12-12.1.105 nvidia-cudnn-cu12-8.9.2.26 nvidia-cufft-cu12-11.0.2.54 nvidia-curand-cu12-10.3.2.106 nvidia-cusolver-cu12-11.4.5.107 nvidia-cusparse-cu12-12.1.0.106 nvidia-nccl-cu12-2.20.5 nvidia-nvjitlink-cu12-12.5.40 nvidia-nvtx-cu12-12.1.105\n"
          ]
        }
      ],
      "source": [
        "#!pip3 uninstall --yes torch torchaudio torchvision torchtext torchdata\n",
        "!pip3 install torch"
      ]
    },
    {
      "cell_type": "markdown",
      "metadata": {
        "id": "LH_JLvuAIbf-"
      },
      "source": [
        "Torch optimization."
      ]
    },
    {
      "cell_type": "markdown",
      "metadata": {
        "id": "Ajkx476vCNeg"
      },
      "source": [
        "##All libraries needed for training"
      ]
    },
    {
      "cell_type": "code",
      "execution_count": null,
      "metadata": {
        "id": "HdSZUMUnOd6t"
      },
      "outputs": [],
      "source": [
        "import os\n",
        "import math\n",
        "import numpy as np\n",
        "import random\n",
        "import logging\n",
        "\n",
        "# Bring in PyTorch\n",
        "import torch\n",
        "import torch.nn as nn\n",
        "import torch.optim as optim\n",
        "# Most of the examples have typing on the signatures for readability\n",
        "from typing import Optional, Callable, List, Tuple\n",
        "from Bio import SeqIO\n",
        "# For data loading\n",
        "from torch.utils.data import Dataset, IterableDataset, TensorDataset, DataLoader\n",
        "import json\n",
        "import glob\n",
        "import gzip\n",
        "import bz2\n",
        "import torch.nn.functional as F\n",
        "# For progress and timing\n",
        "from tqdm import tqdm\n",
        "import time\n",
        "import shutil\n",
        "from Bio.PDB import PDBList\n",
        "from Bio.PDB.MMCIFParser import MMCIFParser\n",
        "import re"
      ]
    },
    {
      "cell_type": "code",
      "execution_count": null,
      "metadata": {
        "id": "MLizYwG0Iaf_"
      },
      "outputs": [],
      "source": [
        "device = torch.device(\"cuda\" if torch.cuda.is_available() else \"cpu\")"
      ]
    },
    {
      "cell_type": "markdown",
      "metadata": {
        "id": "pmLGfrATCu2f"
      },
      "source": [
        "##Data processing"
      ]
    },
    {
      "cell_type": "markdown",
      "metadata": {
        "id": "rxCNl4b7DEjK"
      },
      "source": [
        "Getting the sequence of a given file in the target folder (contains only the files with desired sequences)."
      ]
    },
    {
      "cell_type": "code",
      "execution_count": null,
      "metadata": {
        "colab": {
          "base_uri": "https://localhost:8080/"
        },
        "id": "fsWswnTdTXNk",
        "outputId": "6ea2722d-2b00-4620-b208-4d34789f3132"
      },
      "outputs": [
        {
          "output_type": "stream",
          "name": "stdout",
          "text": [
            "Downloading PDB structure 'af-a0a1d8pd42-f1-model_v4.cif'...\n",
            "Desired structure doesn't exist\n",
            "MSSSNTDNQYPKYINDTTPPTITLKEYDNASWASTTCLDHNPIKNQYIVVVMENPNQIVAIIDQQDNMILDILFKNAHDAHSKQEYSTK\n"
          ]
        }
      ],
      "source": [
        "file_path = \"AF-A0A1D8PD42-F1-model_v4.cif\"\n",
        "file_model = \"AF-A0A1D8PD42-F1-model_v4\"\n",
        "pdbl = PDBList()\n",
        "pdbl.retrieve_pdb_file(file_path, file_format='mmCif', pdir=\".\")\n",
        "# import the needed class\n",
        "# instantiate the class to prepare the parser\n",
        "cif_parser = MMCIFParser()\n",
        "#structure = cif_parser.get_structure(\"3goe\", \"3goe.cif\")\n",
        "structure = cif_parser.get_structure(file_model, file_path)\n",
        "model0 = structure[0]\n",
        "chain_A = model0['A']  # and we get chain A\n",
        "# dictionary converting 3-letter codes to 1-letter codes\n",
        "# this is a very common need in bioinformatics of proteins\n",
        "d3to1 = {'CYS': 'C', 'ASP': 'D', 'SER': 'S', 'GLN': 'Q', 'LYS': 'K',\n",
        " 'ILE': 'I', 'PRO': 'P', 'THR': 'T', 'PHE': 'F', 'ASN': 'N',\n",
        " 'GLY': 'G', 'HIS': 'H', 'LEU': 'L', 'ARG': 'R', 'TRP': 'W',\n",
        " 'ALA': 'A', 'VAL':'V', 'GLU': 'E', 'TYR': 'Y', 'MET': 'M'}\n",
        "\n",
        "sequence = []\n",
        "for residue in chain_A:\n",
        "    # for simplicity we can use X for heteroatoms (ions and water)\n",
        "    sequence.append(d3to1.get(residue.get_resname(), 'X'))  #converts water and ions to X\n",
        "print(''.join(sequence))"
      ]
    },
    {
      "cell_type": "markdown",
      "metadata": {
        "id": "MPYE1LduF1So"
      },
      "source": [
        "Calculating the angles for the given sequence"
      ]
    },
    {
      "cell_type": "code",
      "execution_count": null,
      "metadata": {
        "colab": {
          "base_uri": "https://localhost:8080/"
        },
        "id": "f3mLNbSgGEYP",
        "outputId": "c4dceaf1-0ed7-4f7c-9b16-fd9289f0851e"
      },
      "outputs": [
        {
          "output_type": "stream",
          "name": "stdout",
          "text": [
            "AF-A0A1D8PD42-F1-model_v4 A coordinates for 0 dihedra updated in 0 iterations\n"
          ]
        }
      ],
      "source": [
        "#phi and psi\n",
        "from Bio.PDB import PICIO, PDBIO\n",
        "from Bio import PDB\n",
        "from typing import TypedDict, Dict, Tuple\n",
        "structure.atom_to_internal_coordinates() # turns xyz coordinates into angles and bond lengths\n",
        "\n",
        "chain:PDB.Chain.Chain = list(structure.get_chains())[0]#iterator of chains, turns it into list, [0] first chain\n",
        "\n",
        "ic_chain: PDB.internal_coords.IC_Chain = chain.internal_coord #this access the internal chain coords of the chain object\n",
        "\n",
        "d: Dict[Tuple[PDB.internal_coords.AtomKey,\n",
        "              PDB.internal_coords.AtomKey,\n",
        "              PDB.internal_coords.AtomKey,\n",
        "              PDB.internal_coords.AtomKey],\n",
        "        PDB.internal_coords.Dihedron] = ic_chain.dihedra\n",
        "\n",
        "cnt = 1\n",
        "phi_angles = {}\n",
        "phi_angles_list = []\n",
        "psi_angles = {}\n",
        "psi_angles_list = []\n",
        "\n",
        "for key in d:\n",
        "    if key[0].akl[3] == 'N' and key[1].akl[3] == 'CA' and key[2].akl[3] == 'C' and key[3].akl[3] == 'N':\n",
        "        phi_angles[key] = d[key].angle\n",
        "        phi_angles_list.append(d[key].angle)\n",
        "    elif key[0].akl[3] == 'CA' and key[1].akl[3] == 'C' and key[2].akl[3] == 'N' and key[3].akl[3] == 'CA':\n",
        "        psi_angles[key] = d[key].angle\n",
        "        psi_angles_list.append(d[key].angle)\n",
        "\n",
        "\n",
        "structure.internal_to_atom_coordinates(verbose = True)\n",
        "io = PDBIO() #this is to write a pdb file again\n",
        "io.set_structure(structure)#set structure, the structure you wan tin the pdb file"
      ]
    },
    {
      "cell_type": "markdown",
      "metadata": {
        "id": "2rHgtHIxGRIK"
      },
      "source": [
        "Putting angles in a matrix."
      ]
    },
    {
      "cell_type": "code",
      "execution_count": null,
      "metadata": {
        "id": "zPaNC7EOGUCJ"
      },
      "outputs": [],
      "source": [
        "phi_angles_list.append(0)\n",
        "psi_angles_list.append(0)\n",
        "\n",
        "phi = np.asarray(phi_angles_list,dtype=np.float32)\n",
        "psi = np.asarray(psi_angles_list,dtype=np.float32)\n",
        "angles = np.vstack((psi,phi))"
      ]
    },
    {
      "cell_type": "markdown",
      "metadata": {
        "id": "NEwvvTTpDQdc"
      },
      "source": [
        "Changing sequence for to be used in the Prot-Bert embedding."
      ]
    },
    {
      "cell_type": "code",
      "execution_count": null,
      "metadata": {
        "colab": {
          "base_uri": "https://localhost:8080/",
          "height": 53
        },
        "id": "210cltz3TVpu",
        "outputId": "e807996e-4d6d-473e-d5dd-21b4ae570bfa"
      },
      "outputs": [
        {
          "output_type": "execute_result",
          "data": {
            "text/plain": [
              "'M S S S N T D N Q Y P K Y I N D T T P P T I T L K E Y D N A S W A S T T C L D H N P I K N Q Y I V V V M E N P N Q I V A I I D Q Q D N M I L D I L F K N A H D A H S K Q E Y S T K'"
            ],
            "application/vnd.google.colaboratory.intrinsic+json": {
              "type": "string"
            }
          },
          "metadata": {},
          "execution_count": 9
        }
      ],
      "source": [
        "seq_example =  ' '.join(sequence)\n",
        "seq_example"
      ]
    },
    {
      "cell_type": "markdown",
      "metadata": {
        "id": "iMjT-OTkDaTq"
      },
      "source": [
        "##Embedding space creation (using Prot-Bert)"
      ]
    },
    {
      "cell_type": "code",
      "execution_count": null,
      "metadata": {
        "colab": {
          "base_uri": "https://localhost:8080/",
          "height": 304,
          "referenced_widgets": [
            "5cec9b5805e1427291097565bc4fb92b",
            "ffce1268f15a40939225c8e5bc895bf0",
            "66bb10d0511f4603a43359ceb5920deb",
            "eb47cd6db4aa4d388b2f80b541d1be3a",
            "9a24d01ff2e34deaba29c102d1b05096",
            "1363c6d0cd034aa1b7d8a3cf82a6769a",
            "24b11ecd747343a68bd081bf65c9ff82",
            "f9a769c043f149f0b7438c56d6ccbcc2",
            "c0262e15f86f42f48f13bf62b0954609",
            "6f1489a81aaf47d78829e6dd841483d6",
            "03481ab812cf4d98a0aef2bd621cefb0",
            "e8cfb68cf89f479dae2644d51a6862fd",
            "cce773ebf27742e690795dcc4a9853ff",
            "f0c864785a244618a3e960650ccaf243",
            "19e53f0b72db4279aa1afbc1b766ba5e",
            "09234db733264e31a067765ed292484f",
            "053f967cff6b463fb72807bbd3a7d4cf",
            "539971abd235448caa8a57058792b437",
            "6eace77125914fffa67b623a64047c93",
            "249ab73ba04246fb92fb61c50537df8f",
            "780e0e5f07a5421fa6f3f833db5b5067",
            "3aec3aa85dcb4cd1be99e0afc3eac3d5",
            "58cee878a4a541e39a1cb7278e4778e3",
            "428be0bf9a014df99c5b98075e856471",
            "112bb16c292a4ebf82bf16c91c05dd34",
            "6514bdfccca24a21a6a1343f49a9395b",
            "4a405ccd105a4413a5eac4f4cfcd98f3",
            "0901650cb01749ecbf5af1a1be1acc0c",
            "9f64a6ddcf864eb4a5902b2ee8dd3508",
            "f188299fe885435f8359be3529717ab6",
            "cdba650081e744018fb929bfc1e8c02c",
            "843f3d530d6f4435968e65a28d7cd341",
            "92c670fc692345e8816141b7c56b1ddc",
            "b679bddc636a4fffaa964d87f48a1b5b",
            "32a4be4d93654a1196b7fdd9343e1ab0",
            "362c3f5e5b04422ab32b97f0c5cbd37d",
            "a879ce51b5044ba3b42dff9fdcaa9e97",
            "dd6e342f93234fb2b415540e8ff875ee",
            "adbc3d467f3446f0ae6f8c3c0952c0f8",
            "0eab64bc516b4b14bfc2f20e02a0132f",
            "791e2beca8d041e7b89d58a61bd9d447",
            "acc6c81e93eb43c2876695be2d032cbd",
            "9b926600fd6e44cf9e3d50806d118e04",
            "61fa3e17580a459ab442cdfacc9d00bd"
          ]
        },
        "id": "JE8wgGamS8q3",
        "outputId": "070cc273-cfe5-4507-ea9e-6d17f2faa3f4"
      },
      "outputs": [
        {
          "output_type": "stream",
          "name": "stderr",
          "text": [
            "/usr/local/lib/python3.10/dist-packages/huggingface_hub/utils/_token.py:89: UserWarning: \n",
            "The secret `HF_TOKEN` does not exist in your Colab secrets.\n",
            "To authenticate with the Hugging Face Hub, create a token in your settings tab (https://huggingface.co/settings/tokens), set it as secret in your Google Colab and restart your session.\n",
            "You will be able to reuse this secret in all of your notebooks.\n",
            "Please note that authentication is recommended but still optional to access public models or datasets.\n",
            "  warnings.warn(\n"
          ]
        },
        {
          "output_type": "display_data",
          "data": {
            "text/plain": [
              "tokenizer_config.json:   0%|          | 0.00/86.0 [00:00<?, ?B/s]"
            ],
            "application/vnd.jupyter.widget-view+json": {
              "version_major": 2,
              "version_minor": 0,
              "model_id": "5cec9b5805e1427291097565bc4fb92b"
            }
          },
          "metadata": {}
        },
        {
          "output_type": "display_data",
          "data": {
            "text/plain": [
              "vocab.txt:   0%|          | 0.00/81.0 [00:00<?, ?B/s]"
            ],
            "application/vnd.jupyter.widget-view+json": {
              "version_major": 2,
              "version_minor": 0,
              "model_id": "e8cfb68cf89f479dae2644d51a6862fd"
            }
          },
          "metadata": {}
        },
        {
          "output_type": "display_data",
          "data": {
            "text/plain": [
              "special_tokens_map.json:   0%|          | 0.00/112 [00:00<?, ?B/s]"
            ],
            "application/vnd.jupyter.widget-view+json": {
              "version_major": 2,
              "version_minor": 0,
              "model_id": "58cee878a4a541e39a1cb7278e4778e3"
            }
          },
          "metadata": {}
        },
        {
          "output_type": "stream",
          "name": "stderr",
          "text": [
            "/usr/local/lib/python3.10/dist-packages/huggingface_hub/file_download.py:1132: FutureWarning: `resume_download` is deprecated and will be removed in version 1.0.0. Downloads always resume when possible. If you want to force a new download, use `force_download=True`.\n",
            "  warnings.warn(\n"
          ]
        },
        {
          "output_type": "display_data",
          "data": {
            "text/plain": [
              "config.json:   0%|          | 0.00/361 [00:00<?, ?B/s]"
            ],
            "application/vnd.jupyter.widget-view+json": {
              "version_major": 2,
              "version_minor": 0,
              "model_id": "b679bddc636a4fffaa964d87f48a1b5b"
            }
          },
          "metadata": {}
        }
      ],
      "source": [
        "from transformers import BertModel, BertTokenizer\n",
        "import re\n",
        "tokenizer = BertTokenizer.from_pretrained(\"Rostlab/prot_bert\", do_lower_case=False )\n",
        "seq = re.sub(r\"[UZOB]\", \"X\", seq_example)\n",
        "encoded_input = tokenizer(seq, return_tensors='pt')"
      ]
    },
    {
      "cell_type": "markdown",
      "metadata": {
        "id": "gTpKMzbcEdit"
      },
      "source": [
        "##Single-head self unmasked attention layer"
      ]
    },
    {
      "cell_type": "code",
      "execution_count": null,
      "metadata": {
        "id": "GrauGDe4WeTm"
      },
      "outputs": [],
      "source": [
        "class SelfAttention(nn.Module):\n",
        "    def __init__(self, embed_dim: int):\n",
        "        super(SelfAttention, self).__init__()\n",
        "        self.embed_dim = embed_dim\n",
        "        self.w_q = nn.Parameter(torch.randn(embed_dim, embed_dim))\n",
        "        self.w_k = nn.Parameter(torch.randn(embed_dim, embed_dim))\n",
        "        self.w_v = nn.Parameter(torch.randn(embed_dim, embed_dim))\n",
        "\n",
        "    def forward(self, embeddings_prot_bert: torch.Tensor) -> torch.Tensor:\n",
        "        Q = torch.matmul(embeddings_prot_bert, self.w_q)\n",
        "        K = torch.matmul(embeddings_prot_bert, self.w_k)\n",
        "        V = torch.matmul(embeddings_prot_bert, self.w_v)\n",
        "\n",
        "        scores = torch.matmul(Q, K.transpose(-1, -2)) / np.sqrt(K.size(-1))\n",
        "        attn = torch.softmax(scores, dim=-1)\n",
        "        attention_output = torch.matmul(attn, V)\n",
        "\n",
        "        return attention_output"
      ]
    },
    {
      "cell_type": "markdown",
      "metadata": {
        "id": "F-byNjH-FAbp"
      },
      "source": [
        "##Encoder with attention and 2 layer FFNN"
      ]
    },
    {
      "cell_type": "code",
      "execution_count": null,
      "metadata": {
        "id": "eh9FkMFIff6L"
      },
      "outputs": [],
      "source": [
        "class TransformerModel(nn.Module):\n",
        "    def __init__(self, embed_dim: int, feed_forward_dim1: int, feed_forward_dim2: int, output_dim: int = 2, dropout_rate: float = 0.1):\n",
        "        super(TransformerModel, self).__init__()\n",
        "        self.self_attention = SelfAttention(embed_dim)\n",
        "        self.layer_norm1 = nn.LayerNorm(embed_dim)\n",
        "        self.layer_norm2 = nn.LayerNorm(output_dim)\n",
        "        self.dropout = nn.Dropout(dropout_rate)\n",
        "        self.feed_forward = nn.Sequential(\n",
        "            nn.Linear(embed_dim, feed_forward_dim1),\n",
        "            nn.GELU(),\n",
        "            self.dropout,\n",
        "            nn.Linear(feed_forward_dim1, feed_forward_dim2),\n",
        "            nn.GELU(),\n",
        "            self.dropout,\n",
        "            nn.Linear(feed_forward_dim2, output_dim)\n",
        "        )\n",
        "\n",
        "    def forward(self, embeddings: torch.Tensor) -> torch.Tensor:\n",
        "        attention_output = self.self_attention(embeddings)\n",
        "        normalized_attention_output = self.layer_norm1(attention_output)\n",
        "        ff_output = self.feed_forward(normalized_attention_output)\n",
        "        output = self.layer_norm2(ff_output)\n",
        "        return ff_output\n"
      ]
    },
    {
      "cell_type": "code",
      "execution_count": null,
      "metadata": {
        "id": "h_Bu2bDM8uRH"
      },
      "outputs": [],
      "source": [
        "class CustomLoss(nn.Module):\n",
        "    def __init__(self, predicted_angles, angles_tensor):\n",
        "        super(CustomLoss, self).__init__()\n",
        "        self.predicted_angles= predicted_angles\n",
        "        self.angles_tensor= angles_tensor\n",
        "    def forward(self):\n",
        "        print(self.predicted_angles)\n",
        "        print(self.angles_tensor)\n",
        "        d_list = []\n",
        "        for i in range(len(self.angles_tensor)):\n",
        "            x1, y1 = self.predicted_angles[0][i]\n",
        "            x2, y2 = self.angles_tensor[i]\n",
        "            ax_x = torch.min(torch.abs(x2 - x1), torch.abs(360 - torch.abs(x2 - x1)))\n",
        "            ax_y = torch.min(torch.abs(y2 - y1), torch.abs(360 - torch.abs(y2 - y1)))\n",
        "            d = torch.sqrt(ax_x**2 + ax_y**2)\n",
        "            d_list.append(d)\n",
        "        d_tensor = torch.stack(d_list)\n",
        "        return d_tensor.mean()\n"
      ]
    },
    {
      "cell_type": "code",
      "source": [
        "### I changed the custom loss and try to write a back propagation:\n",
        "import torch\n",
        "from torch.autograd import Function\n",
        "\n",
        "class TorusDistanceFunction(Function):\n",
        "    @staticmethod\n",
        "    def forward(ctx, input, target, dimensions):\n",
        "        ctx.save_for_backward(input, target, dimensions)\n",
        "\n",
        "        diff = torch.abs(input - target)\n",
        "        dist = torch.min(diff, dimensions - diff)\n",
        "        loss = torch.sum(dist ** 2, dim=-1).mean()\n",
        "\n",
        "        return loss\n",
        "\n",
        "    @staticmethod\n",
        "    def backward(ctx, grad_output):\n",
        "        input, target, dimensions = ctx.saved_tensors\n",
        "\n",
        "        diff = input - target\n",
        "        alt_diff = dimensions - diff.abs()\n",
        "        mask = (diff.abs() > alt_diff).float()\n",
        "\n",
        "        grad_input = 2 * (diff - dimensions * mask) * grad_output.unsqueeze(-1) / input.size(0)\n",
        "        grad_target = -grad_input\n",
        "\n",
        "        return grad_input, grad_target, None\n",
        "\n",
        "\n",
        "class TorusDistanceLoss(nn.Module):\n",
        "    def __init__(self, dimensions):\n",
        "        super(TorusDistanceLoss, self).__init__()\n",
        "        self.dimensions = dimensions\n",
        "\n",
        "    def forward(self, input, target):\n",
        "        return TorusDistanceFunction.apply(input, target, self.dimensions)\n"
      ],
      "metadata": {
        "id": "9qIlGb5yKafF"
      },
      "execution_count": null,
      "outputs": []
    },
    {
      "cell_type": "code",
      "execution_count": null,
      "metadata": {
        "id": "hV0N38Gz8uRH"
      },
      "outputs": [],
      "source": [
        "class TransformerTrainer:\n",
        "    def __init__(self, model: nn.Module, CustomLoss: nn.Module, num_epochs: int, sequence: torch.Tensor, angles: torch.Tensor):\n",
        "        self.model = model\n",
        "        self.CustomLoss = CustomLoss\n",
        "        self.num_epochs = num_epochs\n",
        "        self.sequence = sequence\n",
        "        self.angles_tensor = angles\n",
        "        self.optimizer = optim.SGD(model.parameters(), lr=0.001)\n",
        "        self.scheduler = optim.lr_scheduler.StepLR(self.optimizer, step_size=10, gamma=0.1)\n",
        "\n",
        "    def train(self):\n",
        "        for epoch in range(self.num_epochs):\n",
        "            self.optimizer.zero_grad()\n",
        "            predictions = self.model.forward(self.sequence)[:, :len(self.angles_tensor)]\n",
        "            print(self.angles_tensor)\n",
        "            loss = CustomLoss()\n",
        "            loss.forward(torch.tensor(predictions, requires_grad=True), self.angles_tensor)\n",
        "            #loss = self.criterion(predictions.squeeze(), self.angles_tensor)\n",
        "            loss.backward(retain_graph=True)\n",
        "            self.optimizer.step()\n",
        "            #self.scheduler.step()\n",
        "            #loss_list.append(loss.item())\n",
        "            print(loss)\n",
        "            print(f\"Epoch {epoch + 1}/{self.num_epochs}, Loss: {loss.item()}\")\n",
        "        return loss\n",
        "\n"
      ]
    },
    {
      "cell_type": "code",
      "execution_count": null,
      "metadata": {
        "id": "FOAVuYjd8uRI"
      },
      "outputs": [],
      "source": [
        "def inc_lr(step_size,init_lr,epoch):\n",
        "    if(epoch % step_size):\n",
        "        return init_lr + 0.05"
      ]
    },
    {
      "cell_type": "code",
      "execution_count": null,
      "metadata": {
        "id": "JFs4ikoY8uRJ"
      },
      "outputs": [],
      "source": [
        "angles_tensor = torch.from_numpy(angles.T)\n",
        "predicted_angles = model.forward(embedded_pb)[:, :len(angles_tensor)]"
      ]
    },
    {
      "cell_type": "code",
      "execution_count": null,
      "metadata": {
        "colab": {
          "base_uri": "https://localhost:8080/",
          "height": 1000
        },
        "id": "wGeC0OLN8uRI",
        "outputId": "00632c2c-5694-4982-aeb2-324605304d7b"
      },
      "outputs": [
        {
          "output_type": "stream",
          "name": "stdout",
          "text": [
            "tensor([[ 179.9299,   98.1640],\n",
            "        [ 166.9430,   82.5050],\n",
            "        [ 175.7644,   79.1991],\n",
            "        [ 153.2986,   83.0741],\n",
            "        [ 139.6692,   60.0443],\n",
            "        [ 176.9491,  102.7947],\n",
            "        [ 164.3176,   85.2867],\n",
            "        [ 178.5258,   42.9345],\n",
            "        [ 171.2007,  127.9657],\n",
            "        [ 174.5847,  155.6947],\n",
            "        [ 173.7650,  138.0246],\n",
            "        [ 172.4886,  137.1495],\n",
            "        [ 179.3246,  146.5627],\n",
            "        [ 170.6717,  -34.0441],\n",
            "        [-176.4155, -179.8297],\n",
            "        [-173.8806,   -4.4963],\n",
            "        [-169.4366,  -13.8653],\n",
            "        [ 173.5445,  110.5009],\n",
            "        [ 175.3131,  148.9942],\n",
            "        [ 167.3701,  154.4301],\n",
            "        [ 176.2569,  130.1698],\n",
            "        [ 170.4209,  157.8414],\n",
            "        [ 171.9277,  157.4808],\n",
            "        [ 175.1485,  -35.6816],\n",
            "        [ 175.1972,  -41.2917],\n",
            "        [ 173.9927,  -40.0640],\n",
            "        [-179.1476,  -50.0214],\n",
            "        [-179.6617,  -27.9610],\n",
            "        [-177.6897,   -0.5788],\n",
            "        [ 176.5145,  132.7397],\n",
            "        [ 179.8077,  -31.3434],\n",
            "        [-178.6272,   -4.1441],\n",
            "        [-179.7450,  -30.8138],\n",
            "        [ 176.3559,  -11.5470],\n",
            "        [-174.0475,    5.4796],\n",
            "        [ 169.0206,  166.8030],\n",
            "        [ 169.2334,  156.0447],\n",
            "        [ 174.9530,  135.8312],\n",
            "        [ 174.4217,  159.4467],\n",
            "        [ 172.1912,  123.8316],\n",
            "        [-175.6914,  105.7858],\n",
            "        [-179.1390,  -25.9636],\n",
            "        [ 179.3049,  -41.5578],\n",
            "        [-173.1527,   -4.6714],\n",
            "        [-177.3201,   54.0436],\n",
            "        [ 169.2061,  151.3552],\n",
            "        [-177.7225,  134.9019],\n",
            "        [ 170.7543,  155.7460],\n",
            "        [-177.7716,  125.4379],\n",
            "        [ 175.8568,  154.7035],\n",
            "        [-177.0777,  128.3065],\n",
            "        [ 178.2578,  -39.9658],\n",
            "        [ 179.1063,  -19.2827],\n",
            "        [-173.7524,   80.6644],\n",
            "        [ 172.8689,  -13.8165],\n",
            "        [ 178.4152,  -16.4918],\n",
            "        [ 174.1122,  105.2002],\n",
            "        [-179.4346,  128.0513],\n",
            "        [ 173.4318,  -21.1448],\n",
            "        [ 167.9802,  162.8817],\n",
            "        [ 174.0376,  137.5172],\n",
            "        [ 176.1247,  136.0228],\n",
            "        [-176.0058,  140.0051],\n",
            "        [ 176.3120,  -24.2327],\n",
            "        [-178.3390,  -27.2739],\n",
            "        [-177.9725,   -4.1440],\n",
            "        [ 179.4951,  -40.6668],\n",
            "        [ 178.4277,  -38.2618],\n",
            "        [ 179.5794,  -45.7369],\n",
            "        [ 175.3748,  -43.0280],\n",
            "        [ 177.0571,  -44.0883],\n",
            "        [ 179.5929,  -44.5258],\n",
            "        [ 178.7871,  -49.6702],\n",
            "        [ 174.6558,  -41.7922],\n",
            "        [ 179.7204,  -48.1185],\n",
            "        [ 175.4010,  -40.1346],\n",
            "        [ 175.4036,  -43.5840],\n",
            "        [ 179.5199,  -51.1662],\n",
            "        [ 176.2607,  -38.9660],\n",
            "        [ 178.1636,  -43.9283],\n",
            "        [ 176.8904,  -45.8699],\n",
            "        [ 177.0213,  -37.4090],\n",
            "        [ 178.0379,  -35.1505],\n",
            "        [ 174.8337,  -34.9014],\n",
            "        [ 175.8945,  -25.8116],\n",
            "        [ 179.6117,  -29.4542],\n",
            "        [-179.2758,   -3.9683],\n",
            "        [ 169.5994,    9.9946],\n",
            "        [   0.0000,    0.0000]])\n"
          ]
        },
        {
          "output_type": "error",
          "ename": "TypeError",
          "evalue": "CustomLoss.__init__() missing 2 required positional arguments: 'predicted_angles' and 'angles_tensor'",
          "traceback": [
            "\u001b[0;31m---------------------------------------------------------------------------\u001b[0m",
            "\u001b[0;31mTypeError\u001b[0m                                 Traceback (most recent call last)",
            "\u001b[0;32m<ipython-input-22-33daee2f7b35>\u001b[0m in \u001b[0;36m<cell line: 17>\u001b[0;34m()\u001b[0m\n\u001b[1;32m     15\u001b[0m \u001b[0mangles_tensor\u001b[0m \u001b[0;34m=\u001b[0m \u001b[0mtorch\u001b[0m\u001b[0;34m.\u001b[0m\u001b[0mfrom_numpy\u001b[0m\u001b[0;34m(\u001b[0m\u001b[0mangles\u001b[0m\u001b[0;34m.\u001b[0m\u001b[0mT\u001b[0m\u001b[0;34m)\u001b[0m\u001b[0;34m\u001b[0m\u001b[0;34m\u001b[0m\u001b[0m\n\u001b[1;32m     16\u001b[0m \u001b[0mtrainer\u001b[0m \u001b[0;34m=\u001b[0m \u001b[0mTransformerTrainer\u001b[0m\u001b[0;34m(\u001b[0m\u001b[0mmodel\u001b[0m\u001b[0;34m,\u001b[0m \u001b[0mcriterion\u001b[0m\u001b[0;34m,\u001b[0m \u001b[0mnum_epochs\u001b[0m\u001b[0;34m,\u001b[0m \u001b[0membedded_pb\u001b[0m\u001b[0;34m,\u001b[0m \u001b[0mangles_tensor\u001b[0m\u001b[0;34m)\u001b[0m\u001b[0;34m\u001b[0m\u001b[0;34m\u001b[0m\u001b[0m\n\u001b[0;32m---> 17\u001b[0;31m \u001b[0mtrainer\u001b[0m\u001b[0;34m.\u001b[0m\u001b[0mtrain\u001b[0m\u001b[0;34m(\u001b[0m\u001b[0;34m)\u001b[0m\u001b[0;34m\u001b[0m\u001b[0;34m\u001b[0m\u001b[0m\n\u001b[0m",
            "\u001b[0;32m<ipython-input-14-46e7c1f676e8>\u001b[0m in \u001b[0;36mtrain\u001b[0;34m(self)\u001b[0m\n\u001b[1;32m     14\u001b[0m             \u001b[0mpredictions\u001b[0m \u001b[0;34m=\u001b[0m \u001b[0mself\u001b[0m\u001b[0;34m.\u001b[0m\u001b[0mmodel\u001b[0m\u001b[0;34m.\u001b[0m\u001b[0mforward\u001b[0m\u001b[0;34m(\u001b[0m\u001b[0mself\u001b[0m\u001b[0;34m.\u001b[0m\u001b[0msequence\u001b[0m\u001b[0;34m)\u001b[0m\u001b[0;34m[\u001b[0m\u001b[0;34m:\u001b[0m\u001b[0;34m,\u001b[0m \u001b[0;34m:\u001b[0m\u001b[0mlen\u001b[0m\u001b[0;34m(\u001b[0m\u001b[0mself\u001b[0m\u001b[0;34m.\u001b[0m\u001b[0mangles_tensor\u001b[0m\u001b[0;34m)\u001b[0m\u001b[0;34m]\u001b[0m\u001b[0;34m\u001b[0m\u001b[0;34m\u001b[0m\u001b[0m\n\u001b[1;32m     15\u001b[0m             \u001b[0mprint\u001b[0m\u001b[0;34m(\u001b[0m\u001b[0mself\u001b[0m\u001b[0;34m.\u001b[0m\u001b[0mangles_tensor\u001b[0m\u001b[0;34m)\u001b[0m\u001b[0;34m\u001b[0m\u001b[0;34m\u001b[0m\u001b[0m\n\u001b[0;32m---> 16\u001b[0;31m             \u001b[0mloss\u001b[0m \u001b[0;34m=\u001b[0m \u001b[0mCustomLoss\u001b[0m\u001b[0;34m(\u001b[0m\u001b[0;34m)\u001b[0m\u001b[0;34m\u001b[0m\u001b[0;34m\u001b[0m\u001b[0m\n\u001b[0m\u001b[1;32m     17\u001b[0m             \u001b[0mloss\u001b[0m\u001b[0;34m.\u001b[0m\u001b[0mforward\u001b[0m\u001b[0;34m(\u001b[0m\u001b[0mtorch\u001b[0m\u001b[0;34m.\u001b[0m\u001b[0mtensor\u001b[0m\u001b[0;34m(\u001b[0m\u001b[0mpredictions\u001b[0m\u001b[0;34m,\u001b[0m \u001b[0mrequires_grad\u001b[0m\u001b[0;34m=\u001b[0m\u001b[0;32mTrue\u001b[0m\u001b[0;34m)\u001b[0m\u001b[0;34m,\u001b[0m \u001b[0mself\u001b[0m\u001b[0;34m.\u001b[0m\u001b[0mangles_tensor\u001b[0m\u001b[0;34m)\u001b[0m\u001b[0;34m\u001b[0m\u001b[0;34m\u001b[0m\u001b[0m\n\u001b[1;32m     18\u001b[0m             \u001b[0;31m#loss = self.criterion(predictions.squeeze(), self.angles_tensor)\u001b[0m\u001b[0;34m\u001b[0m\u001b[0;34m\u001b[0m\u001b[0m\n",
            "\u001b[0;31mTypeError\u001b[0m: CustomLoss.__init__() missing 2 required positional arguments: 'predicted_angles' and 'angles_tensor'"
          ]
        }
      ],
      "source": [
        "bert_model = BertModel.from_pretrained(\"Rostlab/prot_bert\")\n",
        "output = bert_model(**encoded_input)\n",
        "embedded_pb = output.last_hidden_state\n",
        "N, D = embedded_pb.size()[1], embedded_pb.size()[2]\n",
        "embeddings = embedded_pb\n",
        "criterion = CustomLoss(predicted_angles, angles_tensor)\n",
        "# Initialize and train transformer model\n",
        "feed_forward_dim1 = 512\n",
        "feed_forward_dim2 = 256\n",
        "feed_forward_dim3 = 128\n",
        "num_epochs = 20\n",
        "dropout_rate = 0.1\n",
        "model = TransformerModel(embed_dim=D, feed_forward_dim1=feed_forward_dim1, feed_forward_dim2= feed_forward_dim2, dropout_rate = dropout_rate)\n",
        "#model.forward(embeddings)\n",
        "angles_tensor = torch.from_numpy(angles.T)\n",
        "trainer = TransformerTrainer(model, criterion, num_epochs, embedded_pb, angles_tensor)\n",
        "trainer.train()"
      ]
    },
    {
      "cell_type": "code",
      "execution_count": null,
      "metadata": {
        "id": "o2xN9Wpd8uRJ",
        "outputId": "d257509f-d8f9-4afa-9fa2-d32f6feeadc8"
      },
      "outputs": [
        {
          "data": {
            "text/plain": [
              "torch.Size([89, 2])"
            ]
          },
          "execution_count": 206,
          "metadata": {},
          "output_type": "execute_result"
        }
      ],
      "source": [
        "angles_tensor.size()"
      ]
    },
    {
      "cell_type": "code",
      "execution_count": null,
      "metadata": {
        "id": "v7rGokbV8uRJ"
      },
      "outputs": [],
      "source": [
        "pred = predicted_angles*(180/np.pi)\n",
        "torch.save(pred,'predictions/GELU_dr_A0A1D8PD42-F1_200_dyn001_AdamW.pt')"
      ]
    },
    {
      "cell_type": "code",
      "execution_count": null,
      "metadata": {
        "id": "Lb3_eiIT8uRL"
      },
      "outputs": [],
      "source": [
        "structure.atom_to_internal_coordinates() # turns xyz coordinates into angles and bond lengths\n",
        "\n",
        "chain:PDB.Chain.Chain = list(structure.get_chains())[0]#iterator of chains, turns it into list, [0] first chain\n",
        "\n",
        "ic_chain: PDB.internal_coords.IC_Chain = chain.internal_coord #this access the internal chain coords of the chain object\n",
        "#if you modify this, you will modify the orgiginal\n",
        "\n",
        "d: Dict[Tuple[PDB.internal_coords.AtomKey,\n",
        "              PDB.internal_coords.AtomKey,\n",
        "              PDB.internal_coords.AtomKey,\n",
        "              PDB.internal_coords.AtomKey],\n",
        "        PDB.internal_coords.Dihedron] = ic_chain.dihedra\n",
        "\n",
        "cnt = 0\n",
        "phi_angles = {}\n",
        "psi_angles = {}\n",
        "\n",
        "for key in d:\n",
        "    if key[0].akl[3] == 'N' and key[1].akl[3] == 'CA' and key[2].akl[3] == 'C' and key[3].akl[3] == 'N':\n",
        "\n",
        "        d[key].angle = angles_tensor[cnt, 0].item()\n",
        "        #print('phi clculated')\n",
        "    elif key[0].akl[3] == 'CA' and key[1].akl[3] == 'C' and key[2].akl[3] == 'N' and key[3].akl[3] == 'CA':\n",
        "        d[key].angle = angles_tensor[cnt, 1].item()\n",
        "        #print(\"psi calcukated\")\n",
        "        #print(cnt)\n",
        "        cnt += 1\n",
        "\n",
        "\n",
        "\n",
        "structure.internal_to_atom_coordinates(verbose = True)\n",
        "io = PDBIO() #this is to write a pdb file again\n",
        "io.set_structure(structure)#set structure, the structure you want in the pdb file\n",
        "io.save('AF-A0A1D8PD42-F1-model_v4_pred.pdb',  preserve_atom_numbering=True) #saves to a file, filename you a , true - preserves the original atom numbering"
      ]
    },
    {
      "cell_type": "code",
      "execution_count": null,
      "metadata": {
        "id": "kUM-T7lP8uRL",
        "outputId": "8260ab71-8163-4769-f728-f6ef4f880a67"
      },
      "outputs": [
        {
          "data": {
            "text/plain": [
              "tensor([[[ 74.1757,  28.8847],\n",
              "         [ 57.2479,  24.9863],\n",
              "         [ 86.2554,  34.1374],\n",
              "         [ 86.4051,  33.7590],\n",
              "         [ 82.5085,  33.3565],\n",
              "         [ 71.9535,  29.7960],\n",
              "         [ 90.0583,  36.6838],\n",
              "         [ 66.7501,  26.7866],\n",
              "         [ 80.9579,  32.8670],\n",
              "         [ 72.4080,  26.1636],\n",
              "         [ 80.9807,  33.0184],\n",
              "         [ 78.6896,  28.2421],\n",
              "         [ 85.5589,  35.1791],\n",
              "         [ 98.6753,  40.0326],\n",
              "         [ 86.5369,  34.2731],\n",
              "         [ 75.8065,  27.3482],\n",
              "         [ 91.3342,  36.7512],\n",
              "         [ 88.7715,  36.1417],\n",
              "         [ 74.8099,  31.3776],\n",
              "         [ 99.7788,  40.1597],\n",
              "         [ 74.1245,  32.5588],\n",
              "         [ 74.0548,  27.1079],\n",
              "         [ 92.5032,  37.8754],\n",
              "         [ 86.7356,  34.9321],\n",
              "         [ 71.7873,  33.4278],\n",
              "         [ 85.6146,  33.2339],\n",
              "         [ 85.5991,  35.0503],\n",
              "         [ 91.0717,  38.0940],\n",
              "         [ 95.2574,  38.2588],\n",
              "         [ 73.1474,  35.4199],\n",
              "         [ 51.2226,  24.2663],\n",
              "         [ 93.3594,  36.9697],\n",
              "         [ 44.9534,  10.7899],\n",
              "         [ 86.6859,  35.0091],\n",
              "         [ 73.7683,  36.1498],\n",
              "         [ 67.1080,  30.4704],\n",
              "         [ 99.9295,  37.8464],\n",
              "         [ 86.0346,  33.8658],\n",
              "         [ 92.2408,  38.3785],\n",
              "         [ 77.6926,  29.9004],\n",
              "         [ 63.1253,  24.2244],\n",
              "         [ 46.4447,  16.5204],\n",
              "         [ 94.3466,  38.1970],\n",
              "         [ 68.0057,  27.8429],\n",
              "         [ 96.2098,  39.2357],\n",
              "         [ 66.7346,  33.6143],\n",
              "         [ 79.1629,  30.0547],\n",
              "         [100.2830,  40.4133],\n",
              "         [ 79.2317,  30.8164],\n",
              "         [ 85.6366,  33.1982],\n",
              "         [ 97.1880,  40.5997],\n",
              "         [ 94.5349,  37.2590],\n",
              "         [ 65.2179,  27.4989],\n",
              "         [ 75.9794,  30.4703],\n",
              "         [ 81.8884,  33.0317],\n",
              "         [ 70.8702,  30.7081],\n",
              "         [ 87.4932,  35.5495],\n",
              "         [ 94.6788,  37.7494],\n",
              "         [ 76.3767,  37.2534],\n",
              "         [ 91.6970,  38.1958],\n",
              "         [ 85.8117,  33.3211],\n",
              "         [ 94.9160,  38.0434],\n",
              "         [ 94.8841,  38.6934],\n",
              "         [ 95.7470,  39.9822],\n",
              "         [ 91.8868,  36.4654],\n",
              "         [ 80.4842,  27.5644],\n",
              "         [ 81.8233,  32.5230],\n",
              "         [ 75.0354,  29.8356],\n",
              "         [ 61.7231,  26.8653],\n",
              "         [ 95.9759,  37.8135],\n",
              "         [ 76.9658,  31.8007],\n",
              "         [ 82.6088,  32.5828],\n",
              "         [ 84.4365,  32.9073],\n",
              "         [ 81.3462,  26.2775],\n",
              "         [ 94.3089,  39.2796],\n",
              "         [ 89.7112,  35.9175],\n",
              "         [ 93.7168,  37.1868],\n",
              "         [ 86.7326,  35.8172],\n",
              "         [ 98.9764,  39.5885],\n",
              "         [ 99.6972,  35.6053],\n",
              "         [ 91.2585,  37.1609],\n",
              "         [ 85.6954,  33.6462],\n",
              "         [ 84.0781,  33.8246],\n",
              "         [ 94.4252,  35.4915],\n",
              "         [ 95.5192,  39.2424],\n",
              "         [ 82.8307,  34.3924],\n",
              "         [ 77.7750,  28.3435],\n",
              "         [ 73.3037,  26.8026],\n",
              "         [ 88.6077,  31.4842]]], requires_grad=True)"
            ]
          },
          "execution_count": 238,
          "metadata": {},
          "output_type": "execute_result"
        }
      ],
      "source": [
        "model = torch.load(\"/Users/goudarzimandanagmail.com/Desktop/TransformerFromScratch/predictions/GELU_dr_A0A1D8PD42-F1_200_01_AdamW.pt\")\n",
        "model"
      ]
    },
    {
      "cell_type": "code",
      "execution_count": null,
      "metadata": {
        "id": "J5z6OjeJ8uRM"
      },
      "outputs": [],
      "source": []
    },
    {
      "cell_type": "markdown",
      "source": [
        "# Writing the back propagation"
      ],
      "metadata": {
        "id": "WztMD_TAObb6"
      }
    },
    {
      "cell_type": "code",
      "source": [
        "import torch\n",
        "from torch.autograd import Function\n",
        "\n",
        "class TorusDistanceFunction(Function):\n",
        "    @staticmethod\n",
        "    def forward(ctx, pred, target, dimensions):\n",
        "        ctx.save_for_backward(pred, target, dimensions)\n",
        "        # cts : a context object used to save information during the forward pass for use in the backward pass.\n",
        "        # it save the parameters for backward part\n",
        "        # we can put dimensions here too , but I put it as an input because maybe we want to change it to pi\n",
        "\n",
        "        # it's the torus distance calculation\n",
        "        diff = torch.abs(pred - target)\n",
        "        dist = torch.min(diff, dimensions - diff)\n",
        "        loss = torch.sum(dist ** 2, dim=-1).mean()\n",
        "\n",
        "        return loss\n",
        "\n",
        "    @staticmethod\n",
        "    def backward(ctx, grad_output): #computes the gradients of the loss\n",
        "        pred, target, dimensions = ctx.saved_tensors\n",
        "        # it use the save parameters from the forward part\n",
        "\n",
        "        diff = pred - target\n",
        "        alt_diff = dimensions - diff.abs()\n",
        "        # mask indicating which difference (direct or alternative) is smaller (like what Mihriban mentioned, we should find the nearest distance in out donut)\n",
        "        # If diff.abs() was used (direct path), the gradient contribution is straightforward.\n",
        "        # If alt_diff was used (wrapped path), the gradient needs to be adjusted to account for the wrapping effect.\n",
        "        mask = (diff.abs() > alt_diff).float()\n",
        "\n",
        "        grad_pred = 2 * (diff - dimensions * mask) * grad_output.unsqueeze(-1) / input.size(0)\n",
        "        # grad_output.unsqueeze(-1): Scale by the incoming gradient from the previous layer.\n",
        "        # input.size(0): Normalize by the batch size.\n",
        "        grad_target = -grad_pred\n",
        "\n",
        "        return grad_pred, grad_target, None\n",
        "\n",
        "# Example usage:\n",
        "class TorusDistanceLoss(nn.Module):\n",
        "    def __init__(self, dimensions):\n",
        "        super(TorusDistanceLoss, self).__init__()\n",
        "        self.dimensions = dimensions\n",
        "\n",
        "    def forward(self, input, target):\n",
        "        return TorusDistanceFunction.apply(input, target, self.dimensions)\n",
        "\n",
        "\n"
      ],
      "metadata": {
        "id": "7thKutNHSO80"
      },
      "execution_count": null,
      "outputs": []
    },
    {
      "cell_type": "code",
      "source": [
        "# Example dimensions for a 2D torus\n",
        "dimensions = torch.tensor([180, 180])\n",
        "loss_fn = TorusDistanceLoss(dimensions)\n",
        "\n",
        "# Example inputs\n",
        "pred = torch.tensor([[ 179.9299,   98.1640],\n",
        "        [ 166.9430,   82.5050],\n",
        "        [ 175.7644,   79.1991],\n",
        "        [ 153.2986,   83.0741],\n",
        "        [ 139.6692,   60.0443]], requires_grad=True)\n",
        "target = torch.tensor([[ 176.9491,  102.7947],\n",
        "        [ 164.3176,   85.2867],\n",
        "        [ 178.5258,   42.9345],\n",
        "        [ 171.2007,  127.9657],\n",
        "        [ 174.5847,  155.6947]])\n",
        "\n",
        "# Compute loss and backpropagate\n",
        "loss = loss_fn(pred, target)\n",
        "loss.backward()\n",
        "print(loss)"
      ],
      "metadata": {
        "colab": {
          "base_uri": "https://localhost:8080/"
        },
        "id": "OS0TWiXeSQg4",
        "outputId": "fd9bed13-cbcc-45c8-b28d-d3bb3147446f"
      },
      "execution_count": null,
      "outputs": [
        {
          "output_type": "stream",
          "name": "stdout",
          "text": [
            "tensor(2407.4785, grad_fn=<TorusDistanceFunctionBackward>)\n"
          ]
        }
      ]
    },
    {
      "cell_type": "code",
      "source": [
        "# example with our tensors\n",
        "dimensions = torch.tensor([180, 180])\n",
        "loss_fn = TorusDistanceLoss(dimensions)\n",
        "loss = loss_fn(predicted_angles, angles_tensor)\n",
        "loss.backward()\n",
        "print(loss)"
      ],
      "metadata": {
        "colab": {
          "base_uri": "https://localhost:8080/"
        },
        "id": "CCYE9BYMUFgr",
        "outputId": "456e7b88-01fa-40b1-ccae-0a1e6dacd938"
      },
      "execution_count": null,
      "outputs": [
        {
          "output_type": "stream",
          "name": "stdout",
          "text": [
            "tensor(1890.0811, grad_fn=<TorusDistanceFunctionBackward>)\n"
          ]
        }
      ]
    },
    {
      "cell_type": "code",
      "source": [],
      "metadata": {
        "id": "1ps8RVojUTaB"
      },
      "execution_count": null,
      "outputs": []
    }
  ],
  "metadata": {
    "colab": {
      "provenance": []
    },
    "kernelspec": {
      "display_name": "Python 3",
      "name": "python3"
    },
    "language_info": {
      "codemirror_mode": {
        "name": "ipython",
        "version": 3
      },
      "file_extension": ".py",
      "mimetype": "text/x-python",
      "name": "python",
      "nbconvert_exporter": "python",
      "pygments_lexer": "ipython3",
      "version": "3.11.5"
    },
    "widgets": {
      "application/vnd.jupyter.widget-state+json": {
        "5cec9b5805e1427291097565bc4fb92b": {
          "model_module": "@jupyter-widgets/controls",
          "model_name": "HBoxModel",
          "model_module_version": "1.5.0",
          "state": {
            "_dom_classes": [],
            "_model_module": "@jupyter-widgets/controls",
            "_model_module_version": "1.5.0",
            "_model_name": "HBoxModel",
            "_view_count": null,
            "_view_module": "@jupyter-widgets/controls",
            "_view_module_version": "1.5.0",
            "_view_name": "HBoxView",
            "box_style": "",
            "children": [
              "IPY_MODEL_ffce1268f15a40939225c8e5bc895bf0",
              "IPY_MODEL_66bb10d0511f4603a43359ceb5920deb",
              "IPY_MODEL_eb47cd6db4aa4d388b2f80b541d1be3a"
            ],
            "layout": "IPY_MODEL_9a24d01ff2e34deaba29c102d1b05096"
          }
        },
        "ffce1268f15a40939225c8e5bc895bf0": {
          "model_module": "@jupyter-widgets/controls",
          "model_name": "HTMLModel",
          "model_module_version": "1.5.0",
          "state": {
            "_dom_classes": [],
            "_model_module": "@jupyter-widgets/controls",
            "_model_module_version": "1.5.0",
            "_model_name": "HTMLModel",
            "_view_count": null,
            "_view_module": "@jupyter-widgets/controls",
            "_view_module_version": "1.5.0",
            "_view_name": "HTMLView",
            "description": "",
            "description_tooltip": null,
            "layout": "IPY_MODEL_1363c6d0cd034aa1b7d8a3cf82a6769a",
            "placeholder": "​",
            "style": "IPY_MODEL_24b11ecd747343a68bd081bf65c9ff82",
            "value": "tokenizer_config.json: 100%"
          }
        },
        "66bb10d0511f4603a43359ceb5920deb": {
          "model_module": "@jupyter-widgets/controls",
          "model_name": "FloatProgressModel",
          "model_module_version": "1.5.0",
          "state": {
            "_dom_classes": [],
            "_model_module": "@jupyter-widgets/controls",
            "_model_module_version": "1.5.0",
            "_model_name": "FloatProgressModel",
            "_view_count": null,
            "_view_module": "@jupyter-widgets/controls",
            "_view_module_version": "1.5.0",
            "_view_name": "ProgressView",
            "bar_style": "success",
            "description": "",
            "description_tooltip": null,
            "layout": "IPY_MODEL_f9a769c043f149f0b7438c56d6ccbcc2",
            "max": 86,
            "min": 0,
            "orientation": "horizontal",
            "style": "IPY_MODEL_c0262e15f86f42f48f13bf62b0954609",
            "value": 86
          }
        },
        "eb47cd6db4aa4d388b2f80b541d1be3a": {
          "model_module": "@jupyter-widgets/controls",
          "model_name": "HTMLModel",
          "model_module_version": "1.5.0",
          "state": {
            "_dom_classes": [],
            "_model_module": "@jupyter-widgets/controls",
            "_model_module_version": "1.5.0",
            "_model_name": "HTMLModel",
            "_view_count": null,
            "_view_module": "@jupyter-widgets/controls",
            "_view_module_version": "1.5.0",
            "_view_name": "HTMLView",
            "description": "",
            "description_tooltip": null,
            "layout": "IPY_MODEL_6f1489a81aaf47d78829e6dd841483d6",
            "placeholder": "​",
            "style": "IPY_MODEL_03481ab812cf4d98a0aef2bd621cefb0",
            "value": " 86.0/86.0 [00:00&lt;00:00, 3.75kB/s]"
          }
        },
        "9a24d01ff2e34deaba29c102d1b05096": {
          "model_module": "@jupyter-widgets/base",
          "model_name": "LayoutModel",
          "model_module_version": "1.2.0",
          "state": {
            "_model_module": "@jupyter-widgets/base",
            "_model_module_version": "1.2.0",
            "_model_name": "LayoutModel",
            "_view_count": null,
            "_view_module": "@jupyter-widgets/base",
            "_view_module_version": "1.2.0",
            "_view_name": "LayoutView",
            "align_content": null,
            "align_items": null,
            "align_self": null,
            "border": null,
            "bottom": null,
            "display": null,
            "flex": null,
            "flex_flow": null,
            "grid_area": null,
            "grid_auto_columns": null,
            "grid_auto_flow": null,
            "grid_auto_rows": null,
            "grid_column": null,
            "grid_gap": null,
            "grid_row": null,
            "grid_template_areas": null,
            "grid_template_columns": null,
            "grid_template_rows": null,
            "height": null,
            "justify_content": null,
            "justify_items": null,
            "left": null,
            "margin": null,
            "max_height": null,
            "max_width": null,
            "min_height": null,
            "min_width": null,
            "object_fit": null,
            "object_position": null,
            "order": null,
            "overflow": null,
            "overflow_x": null,
            "overflow_y": null,
            "padding": null,
            "right": null,
            "top": null,
            "visibility": null,
            "width": null
          }
        },
        "1363c6d0cd034aa1b7d8a3cf82a6769a": {
          "model_module": "@jupyter-widgets/base",
          "model_name": "LayoutModel",
          "model_module_version": "1.2.0",
          "state": {
            "_model_module": "@jupyter-widgets/base",
            "_model_module_version": "1.2.0",
            "_model_name": "LayoutModel",
            "_view_count": null,
            "_view_module": "@jupyter-widgets/base",
            "_view_module_version": "1.2.0",
            "_view_name": "LayoutView",
            "align_content": null,
            "align_items": null,
            "align_self": null,
            "border": null,
            "bottom": null,
            "display": null,
            "flex": null,
            "flex_flow": null,
            "grid_area": null,
            "grid_auto_columns": null,
            "grid_auto_flow": null,
            "grid_auto_rows": null,
            "grid_column": null,
            "grid_gap": null,
            "grid_row": null,
            "grid_template_areas": null,
            "grid_template_columns": null,
            "grid_template_rows": null,
            "height": null,
            "justify_content": null,
            "justify_items": null,
            "left": null,
            "margin": null,
            "max_height": null,
            "max_width": null,
            "min_height": null,
            "min_width": null,
            "object_fit": null,
            "object_position": null,
            "order": null,
            "overflow": null,
            "overflow_x": null,
            "overflow_y": null,
            "padding": null,
            "right": null,
            "top": null,
            "visibility": null,
            "width": null
          }
        },
        "24b11ecd747343a68bd081bf65c9ff82": {
          "model_module": "@jupyter-widgets/controls",
          "model_name": "DescriptionStyleModel",
          "model_module_version": "1.5.0",
          "state": {
            "_model_module": "@jupyter-widgets/controls",
            "_model_module_version": "1.5.0",
            "_model_name": "DescriptionStyleModel",
            "_view_count": null,
            "_view_module": "@jupyter-widgets/base",
            "_view_module_version": "1.2.0",
            "_view_name": "StyleView",
            "description_width": ""
          }
        },
        "f9a769c043f149f0b7438c56d6ccbcc2": {
          "model_module": "@jupyter-widgets/base",
          "model_name": "LayoutModel",
          "model_module_version": "1.2.0",
          "state": {
            "_model_module": "@jupyter-widgets/base",
            "_model_module_version": "1.2.0",
            "_model_name": "LayoutModel",
            "_view_count": null,
            "_view_module": "@jupyter-widgets/base",
            "_view_module_version": "1.2.0",
            "_view_name": "LayoutView",
            "align_content": null,
            "align_items": null,
            "align_self": null,
            "border": null,
            "bottom": null,
            "display": null,
            "flex": null,
            "flex_flow": null,
            "grid_area": null,
            "grid_auto_columns": null,
            "grid_auto_flow": null,
            "grid_auto_rows": null,
            "grid_column": null,
            "grid_gap": null,
            "grid_row": null,
            "grid_template_areas": null,
            "grid_template_columns": null,
            "grid_template_rows": null,
            "height": null,
            "justify_content": null,
            "justify_items": null,
            "left": null,
            "margin": null,
            "max_height": null,
            "max_width": null,
            "min_height": null,
            "min_width": null,
            "object_fit": null,
            "object_position": null,
            "order": null,
            "overflow": null,
            "overflow_x": null,
            "overflow_y": null,
            "padding": null,
            "right": null,
            "top": null,
            "visibility": null,
            "width": null
          }
        },
        "c0262e15f86f42f48f13bf62b0954609": {
          "model_module": "@jupyter-widgets/controls",
          "model_name": "ProgressStyleModel",
          "model_module_version": "1.5.0",
          "state": {
            "_model_module": "@jupyter-widgets/controls",
            "_model_module_version": "1.5.0",
            "_model_name": "ProgressStyleModel",
            "_view_count": null,
            "_view_module": "@jupyter-widgets/base",
            "_view_module_version": "1.2.0",
            "_view_name": "StyleView",
            "bar_color": null,
            "description_width": ""
          }
        },
        "6f1489a81aaf47d78829e6dd841483d6": {
          "model_module": "@jupyter-widgets/base",
          "model_name": "LayoutModel",
          "model_module_version": "1.2.0",
          "state": {
            "_model_module": "@jupyter-widgets/base",
            "_model_module_version": "1.2.0",
            "_model_name": "LayoutModel",
            "_view_count": null,
            "_view_module": "@jupyter-widgets/base",
            "_view_module_version": "1.2.0",
            "_view_name": "LayoutView",
            "align_content": null,
            "align_items": null,
            "align_self": null,
            "border": null,
            "bottom": null,
            "display": null,
            "flex": null,
            "flex_flow": null,
            "grid_area": null,
            "grid_auto_columns": null,
            "grid_auto_flow": null,
            "grid_auto_rows": null,
            "grid_column": null,
            "grid_gap": null,
            "grid_row": null,
            "grid_template_areas": null,
            "grid_template_columns": null,
            "grid_template_rows": null,
            "height": null,
            "justify_content": null,
            "justify_items": null,
            "left": null,
            "margin": null,
            "max_height": null,
            "max_width": null,
            "min_height": null,
            "min_width": null,
            "object_fit": null,
            "object_position": null,
            "order": null,
            "overflow": null,
            "overflow_x": null,
            "overflow_y": null,
            "padding": null,
            "right": null,
            "top": null,
            "visibility": null,
            "width": null
          }
        },
        "03481ab812cf4d98a0aef2bd621cefb0": {
          "model_module": "@jupyter-widgets/controls",
          "model_name": "DescriptionStyleModel",
          "model_module_version": "1.5.0",
          "state": {
            "_model_module": "@jupyter-widgets/controls",
            "_model_module_version": "1.5.0",
            "_model_name": "DescriptionStyleModel",
            "_view_count": null,
            "_view_module": "@jupyter-widgets/base",
            "_view_module_version": "1.2.0",
            "_view_name": "StyleView",
            "description_width": ""
          }
        },
        "e8cfb68cf89f479dae2644d51a6862fd": {
          "model_module": "@jupyter-widgets/controls",
          "model_name": "HBoxModel",
          "model_module_version": "1.5.0",
          "state": {
            "_dom_classes": [],
            "_model_module": "@jupyter-widgets/controls",
            "_model_module_version": "1.5.0",
            "_model_name": "HBoxModel",
            "_view_count": null,
            "_view_module": "@jupyter-widgets/controls",
            "_view_module_version": "1.5.0",
            "_view_name": "HBoxView",
            "box_style": "",
            "children": [
              "IPY_MODEL_cce773ebf27742e690795dcc4a9853ff",
              "IPY_MODEL_f0c864785a244618a3e960650ccaf243",
              "IPY_MODEL_19e53f0b72db4279aa1afbc1b766ba5e"
            ],
            "layout": "IPY_MODEL_09234db733264e31a067765ed292484f"
          }
        },
        "cce773ebf27742e690795dcc4a9853ff": {
          "model_module": "@jupyter-widgets/controls",
          "model_name": "HTMLModel",
          "model_module_version": "1.5.0",
          "state": {
            "_dom_classes": [],
            "_model_module": "@jupyter-widgets/controls",
            "_model_module_version": "1.5.0",
            "_model_name": "HTMLModel",
            "_view_count": null,
            "_view_module": "@jupyter-widgets/controls",
            "_view_module_version": "1.5.0",
            "_view_name": "HTMLView",
            "description": "",
            "description_tooltip": null,
            "layout": "IPY_MODEL_053f967cff6b463fb72807bbd3a7d4cf",
            "placeholder": "​",
            "style": "IPY_MODEL_539971abd235448caa8a57058792b437",
            "value": "vocab.txt: 100%"
          }
        },
        "f0c864785a244618a3e960650ccaf243": {
          "model_module": "@jupyter-widgets/controls",
          "model_name": "FloatProgressModel",
          "model_module_version": "1.5.0",
          "state": {
            "_dom_classes": [],
            "_model_module": "@jupyter-widgets/controls",
            "_model_module_version": "1.5.0",
            "_model_name": "FloatProgressModel",
            "_view_count": null,
            "_view_module": "@jupyter-widgets/controls",
            "_view_module_version": "1.5.0",
            "_view_name": "ProgressView",
            "bar_style": "success",
            "description": "",
            "description_tooltip": null,
            "layout": "IPY_MODEL_6eace77125914fffa67b623a64047c93",
            "max": 81,
            "min": 0,
            "orientation": "horizontal",
            "style": "IPY_MODEL_249ab73ba04246fb92fb61c50537df8f",
            "value": 81
          }
        },
        "19e53f0b72db4279aa1afbc1b766ba5e": {
          "model_module": "@jupyter-widgets/controls",
          "model_name": "HTMLModel",
          "model_module_version": "1.5.0",
          "state": {
            "_dom_classes": [],
            "_model_module": "@jupyter-widgets/controls",
            "_model_module_version": "1.5.0",
            "_model_name": "HTMLModel",
            "_view_count": null,
            "_view_module": "@jupyter-widgets/controls",
            "_view_module_version": "1.5.0",
            "_view_name": "HTMLView",
            "description": "",
            "description_tooltip": null,
            "layout": "IPY_MODEL_780e0e5f07a5421fa6f3f833db5b5067",
            "placeholder": "​",
            "style": "IPY_MODEL_3aec3aa85dcb4cd1be99e0afc3eac3d5",
            "value": " 81.0/81.0 [00:00&lt;00:00, 4.54kB/s]"
          }
        },
        "09234db733264e31a067765ed292484f": {
          "model_module": "@jupyter-widgets/base",
          "model_name": "LayoutModel",
          "model_module_version": "1.2.0",
          "state": {
            "_model_module": "@jupyter-widgets/base",
            "_model_module_version": "1.2.0",
            "_model_name": "LayoutModel",
            "_view_count": null,
            "_view_module": "@jupyter-widgets/base",
            "_view_module_version": "1.2.0",
            "_view_name": "LayoutView",
            "align_content": null,
            "align_items": null,
            "align_self": null,
            "border": null,
            "bottom": null,
            "display": null,
            "flex": null,
            "flex_flow": null,
            "grid_area": null,
            "grid_auto_columns": null,
            "grid_auto_flow": null,
            "grid_auto_rows": null,
            "grid_column": null,
            "grid_gap": null,
            "grid_row": null,
            "grid_template_areas": null,
            "grid_template_columns": null,
            "grid_template_rows": null,
            "height": null,
            "justify_content": null,
            "justify_items": null,
            "left": null,
            "margin": null,
            "max_height": null,
            "max_width": null,
            "min_height": null,
            "min_width": null,
            "object_fit": null,
            "object_position": null,
            "order": null,
            "overflow": null,
            "overflow_x": null,
            "overflow_y": null,
            "padding": null,
            "right": null,
            "top": null,
            "visibility": null,
            "width": null
          }
        },
        "053f967cff6b463fb72807bbd3a7d4cf": {
          "model_module": "@jupyter-widgets/base",
          "model_name": "LayoutModel",
          "model_module_version": "1.2.0",
          "state": {
            "_model_module": "@jupyter-widgets/base",
            "_model_module_version": "1.2.0",
            "_model_name": "LayoutModel",
            "_view_count": null,
            "_view_module": "@jupyter-widgets/base",
            "_view_module_version": "1.2.0",
            "_view_name": "LayoutView",
            "align_content": null,
            "align_items": null,
            "align_self": null,
            "border": null,
            "bottom": null,
            "display": null,
            "flex": null,
            "flex_flow": null,
            "grid_area": null,
            "grid_auto_columns": null,
            "grid_auto_flow": null,
            "grid_auto_rows": null,
            "grid_column": null,
            "grid_gap": null,
            "grid_row": null,
            "grid_template_areas": null,
            "grid_template_columns": null,
            "grid_template_rows": null,
            "height": null,
            "justify_content": null,
            "justify_items": null,
            "left": null,
            "margin": null,
            "max_height": null,
            "max_width": null,
            "min_height": null,
            "min_width": null,
            "object_fit": null,
            "object_position": null,
            "order": null,
            "overflow": null,
            "overflow_x": null,
            "overflow_y": null,
            "padding": null,
            "right": null,
            "top": null,
            "visibility": null,
            "width": null
          }
        },
        "539971abd235448caa8a57058792b437": {
          "model_module": "@jupyter-widgets/controls",
          "model_name": "DescriptionStyleModel",
          "model_module_version": "1.5.0",
          "state": {
            "_model_module": "@jupyter-widgets/controls",
            "_model_module_version": "1.5.0",
            "_model_name": "DescriptionStyleModel",
            "_view_count": null,
            "_view_module": "@jupyter-widgets/base",
            "_view_module_version": "1.2.0",
            "_view_name": "StyleView",
            "description_width": ""
          }
        },
        "6eace77125914fffa67b623a64047c93": {
          "model_module": "@jupyter-widgets/base",
          "model_name": "LayoutModel",
          "model_module_version": "1.2.0",
          "state": {
            "_model_module": "@jupyter-widgets/base",
            "_model_module_version": "1.2.0",
            "_model_name": "LayoutModel",
            "_view_count": null,
            "_view_module": "@jupyter-widgets/base",
            "_view_module_version": "1.2.0",
            "_view_name": "LayoutView",
            "align_content": null,
            "align_items": null,
            "align_self": null,
            "border": null,
            "bottom": null,
            "display": null,
            "flex": null,
            "flex_flow": null,
            "grid_area": null,
            "grid_auto_columns": null,
            "grid_auto_flow": null,
            "grid_auto_rows": null,
            "grid_column": null,
            "grid_gap": null,
            "grid_row": null,
            "grid_template_areas": null,
            "grid_template_columns": null,
            "grid_template_rows": null,
            "height": null,
            "justify_content": null,
            "justify_items": null,
            "left": null,
            "margin": null,
            "max_height": null,
            "max_width": null,
            "min_height": null,
            "min_width": null,
            "object_fit": null,
            "object_position": null,
            "order": null,
            "overflow": null,
            "overflow_x": null,
            "overflow_y": null,
            "padding": null,
            "right": null,
            "top": null,
            "visibility": null,
            "width": null
          }
        },
        "249ab73ba04246fb92fb61c50537df8f": {
          "model_module": "@jupyter-widgets/controls",
          "model_name": "ProgressStyleModel",
          "model_module_version": "1.5.0",
          "state": {
            "_model_module": "@jupyter-widgets/controls",
            "_model_module_version": "1.5.0",
            "_model_name": "ProgressStyleModel",
            "_view_count": null,
            "_view_module": "@jupyter-widgets/base",
            "_view_module_version": "1.2.0",
            "_view_name": "StyleView",
            "bar_color": null,
            "description_width": ""
          }
        },
        "780e0e5f07a5421fa6f3f833db5b5067": {
          "model_module": "@jupyter-widgets/base",
          "model_name": "LayoutModel",
          "model_module_version": "1.2.0",
          "state": {
            "_model_module": "@jupyter-widgets/base",
            "_model_module_version": "1.2.0",
            "_model_name": "LayoutModel",
            "_view_count": null,
            "_view_module": "@jupyter-widgets/base",
            "_view_module_version": "1.2.0",
            "_view_name": "LayoutView",
            "align_content": null,
            "align_items": null,
            "align_self": null,
            "border": null,
            "bottom": null,
            "display": null,
            "flex": null,
            "flex_flow": null,
            "grid_area": null,
            "grid_auto_columns": null,
            "grid_auto_flow": null,
            "grid_auto_rows": null,
            "grid_column": null,
            "grid_gap": null,
            "grid_row": null,
            "grid_template_areas": null,
            "grid_template_columns": null,
            "grid_template_rows": null,
            "height": null,
            "justify_content": null,
            "justify_items": null,
            "left": null,
            "margin": null,
            "max_height": null,
            "max_width": null,
            "min_height": null,
            "min_width": null,
            "object_fit": null,
            "object_position": null,
            "order": null,
            "overflow": null,
            "overflow_x": null,
            "overflow_y": null,
            "padding": null,
            "right": null,
            "top": null,
            "visibility": null,
            "width": null
          }
        },
        "3aec3aa85dcb4cd1be99e0afc3eac3d5": {
          "model_module": "@jupyter-widgets/controls",
          "model_name": "DescriptionStyleModel",
          "model_module_version": "1.5.0",
          "state": {
            "_model_module": "@jupyter-widgets/controls",
            "_model_module_version": "1.5.0",
            "_model_name": "DescriptionStyleModel",
            "_view_count": null,
            "_view_module": "@jupyter-widgets/base",
            "_view_module_version": "1.2.0",
            "_view_name": "StyleView",
            "description_width": ""
          }
        },
        "58cee878a4a541e39a1cb7278e4778e3": {
          "model_module": "@jupyter-widgets/controls",
          "model_name": "HBoxModel",
          "model_module_version": "1.5.0",
          "state": {
            "_dom_classes": [],
            "_model_module": "@jupyter-widgets/controls",
            "_model_module_version": "1.5.0",
            "_model_name": "HBoxModel",
            "_view_count": null,
            "_view_module": "@jupyter-widgets/controls",
            "_view_module_version": "1.5.0",
            "_view_name": "HBoxView",
            "box_style": "",
            "children": [
              "IPY_MODEL_428be0bf9a014df99c5b98075e856471",
              "IPY_MODEL_112bb16c292a4ebf82bf16c91c05dd34",
              "IPY_MODEL_6514bdfccca24a21a6a1343f49a9395b"
            ],
            "layout": "IPY_MODEL_4a405ccd105a4413a5eac4f4cfcd98f3"
          }
        },
        "428be0bf9a014df99c5b98075e856471": {
          "model_module": "@jupyter-widgets/controls",
          "model_name": "HTMLModel",
          "model_module_version": "1.5.0",
          "state": {
            "_dom_classes": [],
            "_model_module": "@jupyter-widgets/controls",
            "_model_module_version": "1.5.0",
            "_model_name": "HTMLModel",
            "_view_count": null,
            "_view_module": "@jupyter-widgets/controls",
            "_view_module_version": "1.5.0",
            "_view_name": "HTMLView",
            "description": "",
            "description_tooltip": null,
            "layout": "IPY_MODEL_0901650cb01749ecbf5af1a1be1acc0c",
            "placeholder": "​",
            "style": "IPY_MODEL_9f64a6ddcf864eb4a5902b2ee8dd3508",
            "value": "special_tokens_map.json: 100%"
          }
        },
        "112bb16c292a4ebf82bf16c91c05dd34": {
          "model_module": "@jupyter-widgets/controls",
          "model_name": "FloatProgressModel",
          "model_module_version": "1.5.0",
          "state": {
            "_dom_classes": [],
            "_model_module": "@jupyter-widgets/controls",
            "_model_module_version": "1.5.0",
            "_model_name": "FloatProgressModel",
            "_view_count": null,
            "_view_module": "@jupyter-widgets/controls",
            "_view_module_version": "1.5.0",
            "_view_name": "ProgressView",
            "bar_style": "success",
            "description": "",
            "description_tooltip": null,
            "layout": "IPY_MODEL_f188299fe885435f8359be3529717ab6",
            "max": 112,
            "min": 0,
            "orientation": "horizontal",
            "style": "IPY_MODEL_cdba650081e744018fb929bfc1e8c02c",
            "value": 112
          }
        },
        "6514bdfccca24a21a6a1343f49a9395b": {
          "model_module": "@jupyter-widgets/controls",
          "model_name": "HTMLModel",
          "model_module_version": "1.5.0",
          "state": {
            "_dom_classes": [],
            "_model_module": "@jupyter-widgets/controls",
            "_model_module_version": "1.5.0",
            "_model_name": "HTMLModel",
            "_view_count": null,
            "_view_module": "@jupyter-widgets/controls",
            "_view_module_version": "1.5.0",
            "_view_name": "HTMLView",
            "description": "",
            "description_tooltip": null,
            "layout": "IPY_MODEL_843f3d530d6f4435968e65a28d7cd341",
            "placeholder": "​",
            "style": "IPY_MODEL_92c670fc692345e8816141b7c56b1ddc",
            "value": " 112/112 [00:00&lt;00:00, 4.47kB/s]"
          }
        },
        "4a405ccd105a4413a5eac4f4cfcd98f3": {
          "model_module": "@jupyter-widgets/base",
          "model_name": "LayoutModel",
          "model_module_version": "1.2.0",
          "state": {
            "_model_module": "@jupyter-widgets/base",
            "_model_module_version": "1.2.0",
            "_model_name": "LayoutModel",
            "_view_count": null,
            "_view_module": "@jupyter-widgets/base",
            "_view_module_version": "1.2.0",
            "_view_name": "LayoutView",
            "align_content": null,
            "align_items": null,
            "align_self": null,
            "border": null,
            "bottom": null,
            "display": null,
            "flex": null,
            "flex_flow": null,
            "grid_area": null,
            "grid_auto_columns": null,
            "grid_auto_flow": null,
            "grid_auto_rows": null,
            "grid_column": null,
            "grid_gap": null,
            "grid_row": null,
            "grid_template_areas": null,
            "grid_template_columns": null,
            "grid_template_rows": null,
            "height": null,
            "justify_content": null,
            "justify_items": null,
            "left": null,
            "margin": null,
            "max_height": null,
            "max_width": null,
            "min_height": null,
            "min_width": null,
            "object_fit": null,
            "object_position": null,
            "order": null,
            "overflow": null,
            "overflow_x": null,
            "overflow_y": null,
            "padding": null,
            "right": null,
            "top": null,
            "visibility": null,
            "width": null
          }
        },
        "0901650cb01749ecbf5af1a1be1acc0c": {
          "model_module": "@jupyter-widgets/base",
          "model_name": "LayoutModel",
          "model_module_version": "1.2.0",
          "state": {
            "_model_module": "@jupyter-widgets/base",
            "_model_module_version": "1.2.0",
            "_model_name": "LayoutModel",
            "_view_count": null,
            "_view_module": "@jupyter-widgets/base",
            "_view_module_version": "1.2.0",
            "_view_name": "LayoutView",
            "align_content": null,
            "align_items": null,
            "align_self": null,
            "border": null,
            "bottom": null,
            "display": null,
            "flex": null,
            "flex_flow": null,
            "grid_area": null,
            "grid_auto_columns": null,
            "grid_auto_flow": null,
            "grid_auto_rows": null,
            "grid_column": null,
            "grid_gap": null,
            "grid_row": null,
            "grid_template_areas": null,
            "grid_template_columns": null,
            "grid_template_rows": null,
            "height": null,
            "justify_content": null,
            "justify_items": null,
            "left": null,
            "margin": null,
            "max_height": null,
            "max_width": null,
            "min_height": null,
            "min_width": null,
            "object_fit": null,
            "object_position": null,
            "order": null,
            "overflow": null,
            "overflow_x": null,
            "overflow_y": null,
            "padding": null,
            "right": null,
            "top": null,
            "visibility": null,
            "width": null
          }
        },
        "9f64a6ddcf864eb4a5902b2ee8dd3508": {
          "model_module": "@jupyter-widgets/controls",
          "model_name": "DescriptionStyleModel",
          "model_module_version": "1.5.0",
          "state": {
            "_model_module": "@jupyter-widgets/controls",
            "_model_module_version": "1.5.0",
            "_model_name": "DescriptionStyleModel",
            "_view_count": null,
            "_view_module": "@jupyter-widgets/base",
            "_view_module_version": "1.2.0",
            "_view_name": "StyleView",
            "description_width": ""
          }
        },
        "f188299fe885435f8359be3529717ab6": {
          "model_module": "@jupyter-widgets/base",
          "model_name": "LayoutModel",
          "model_module_version": "1.2.0",
          "state": {
            "_model_module": "@jupyter-widgets/base",
            "_model_module_version": "1.2.0",
            "_model_name": "LayoutModel",
            "_view_count": null,
            "_view_module": "@jupyter-widgets/base",
            "_view_module_version": "1.2.0",
            "_view_name": "LayoutView",
            "align_content": null,
            "align_items": null,
            "align_self": null,
            "border": null,
            "bottom": null,
            "display": null,
            "flex": null,
            "flex_flow": null,
            "grid_area": null,
            "grid_auto_columns": null,
            "grid_auto_flow": null,
            "grid_auto_rows": null,
            "grid_column": null,
            "grid_gap": null,
            "grid_row": null,
            "grid_template_areas": null,
            "grid_template_columns": null,
            "grid_template_rows": null,
            "height": null,
            "justify_content": null,
            "justify_items": null,
            "left": null,
            "margin": null,
            "max_height": null,
            "max_width": null,
            "min_height": null,
            "min_width": null,
            "object_fit": null,
            "object_position": null,
            "order": null,
            "overflow": null,
            "overflow_x": null,
            "overflow_y": null,
            "padding": null,
            "right": null,
            "top": null,
            "visibility": null,
            "width": null
          }
        },
        "cdba650081e744018fb929bfc1e8c02c": {
          "model_module": "@jupyter-widgets/controls",
          "model_name": "ProgressStyleModel",
          "model_module_version": "1.5.0",
          "state": {
            "_model_module": "@jupyter-widgets/controls",
            "_model_module_version": "1.5.0",
            "_model_name": "ProgressStyleModel",
            "_view_count": null,
            "_view_module": "@jupyter-widgets/base",
            "_view_module_version": "1.2.0",
            "_view_name": "StyleView",
            "bar_color": null,
            "description_width": ""
          }
        },
        "843f3d530d6f4435968e65a28d7cd341": {
          "model_module": "@jupyter-widgets/base",
          "model_name": "LayoutModel",
          "model_module_version": "1.2.0",
          "state": {
            "_model_module": "@jupyter-widgets/base",
            "_model_module_version": "1.2.0",
            "_model_name": "LayoutModel",
            "_view_count": null,
            "_view_module": "@jupyter-widgets/base",
            "_view_module_version": "1.2.0",
            "_view_name": "LayoutView",
            "align_content": null,
            "align_items": null,
            "align_self": null,
            "border": null,
            "bottom": null,
            "display": null,
            "flex": null,
            "flex_flow": null,
            "grid_area": null,
            "grid_auto_columns": null,
            "grid_auto_flow": null,
            "grid_auto_rows": null,
            "grid_column": null,
            "grid_gap": null,
            "grid_row": null,
            "grid_template_areas": null,
            "grid_template_columns": null,
            "grid_template_rows": null,
            "height": null,
            "justify_content": null,
            "justify_items": null,
            "left": null,
            "margin": null,
            "max_height": null,
            "max_width": null,
            "min_height": null,
            "min_width": null,
            "object_fit": null,
            "object_position": null,
            "order": null,
            "overflow": null,
            "overflow_x": null,
            "overflow_y": null,
            "padding": null,
            "right": null,
            "top": null,
            "visibility": null,
            "width": null
          }
        },
        "92c670fc692345e8816141b7c56b1ddc": {
          "model_module": "@jupyter-widgets/controls",
          "model_name": "DescriptionStyleModel",
          "model_module_version": "1.5.0",
          "state": {
            "_model_module": "@jupyter-widgets/controls",
            "_model_module_version": "1.5.0",
            "_model_name": "DescriptionStyleModel",
            "_view_count": null,
            "_view_module": "@jupyter-widgets/base",
            "_view_module_version": "1.2.0",
            "_view_name": "StyleView",
            "description_width": ""
          }
        },
        "b679bddc636a4fffaa964d87f48a1b5b": {
          "model_module": "@jupyter-widgets/controls",
          "model_name": "HBoxModel",
          "model_module_version": "1.5.0",
          "state": {
            "_dom_classes": [],
            "_model_module": "@jupyter-widgets/controls",
            "_model_module_version": "1.5.0",
            "_model_name": "HBoxModel",
            "_view_count": null,
            "_view_module": "@jupyter-widgets/controls",
            "_view_module_version": "1.5.0",
            "_view_name": "HBoxView",
            "box_style": "",
            "children": [
              "IPY_MODEL_32a4be4d93654a1196b7fdd9343e1ab0",
              "IPY_MODEL_362c3f5e5b04422ab32b97f0c5cbd37d",
              "IPY_MODEL_a879ce51b5044ba3b42dff9fdcaa9e97"
            ],
            "layout": "IPY_MODEL_dd6e342f93234fb2b415540e8ff875ee"
          }
        },
        "32a4be4d93654a1196b7fdd9343e1ab0": {
          "model_module": "@jupyter-widgets/controls",
          "model_name": "HTMLModel",
          "model_module_version": "1.5.0",
          "state": {
            "_dom_classes": [],
            "_model_module": "@jupyter-widgets/controls",
            "_model_module_version": "1.5.0",
            "_model_name": "HTMLModel",
            "_view_count": null,
            "_view_module": "@jupyter-widgets/controls",
            "_view_module_version": "1.5.0",
            "_view_name": "HTMLView",
            "description": "",
            "description_tooltip": null,
            "layout": "IPY_MODEL_adbc3d467f3446f0ae6f8c3c0952c0f8",
            "placeholder": "​",
            "style": "IPY_MODEL_0eab64bc516b4b14bfc2f20e02a0132f",
            "value": "config.json: 100%"
          }
        },
        "362c3f5e5b04422ab32b97f0c5cbd37d": {
          "model_module": "@jupyter-widgets/controls",
          "model_name": "FloatProgressModel",
          "model_module_version": "1.5.0",
          "state": {
            "_dom_classes": [],
            "_model_module": "@jupyter-widgets/controls",
            "_model_module_version": "1.5.0",
            "_model_name": "FloatProgressModel",
            "_view_count": null,
            "_view_module": "@jupyter-widgets/controls",
            "_view_module_version": "1.5.0",
            "_view_name": "ProgressView",
            "bar_style": "success",
            "description": "",
            "description_tooltip": null,
            "layout": "IPY_MODEL_791e2beca8d041e7b89d58a61bd9d447",
            "max": 361,
            "min": 0,
            "orientation": "horizontal",
            "style": "IPY_MODEL_acc6c81e93eb43c2876695be2d032cbd",
            "value": 361
          }
        },
        "a879ce51b5044ba3b42dff9fdcaa9e97": {
          "model_module": "@jupyter-widgets/controls",
          "model_name": "HTMLModel",
          "model_module_version": "1.5.0",
          "state": {
            "_dom_classes": [],
            "_model_module": "@jupyter-widgets/controls",
            "_model_module_version": "1.5.0",
            "_model_name": "HTMLModel",
            "_view_count": null,
            "_view_module": "@jupyter-widgets/controls",
            "_view_module_version": "1.5.0",
            "_view_name": "HTMLView",
            "description": "",
            "description_tooltip": null,
            "layout": "IPY_MODEL_9b926600fd6e44cf9e3d50806d118e04",
            "placeholder": "​",
            "style": "IPY_MODEL_61fa3e17580a459ab442cdfacc9d00bd",
            "value": " 361/361 [00:00&lt;00:00, 18.0kB/s]"
          }
        },
        "dd6e342f93234fb2b415540e8ff875ee": {
          "model_module": "@jupyter-widgets/base",
          "model_name": "LayoutModel",
          "model_module_version": "1.2.0",
          "state": {
            "_model_module": "@jupyter-widgets/base",
            "_model_module_version": "1.2.0",
            "_model_name": "LayoutModel",
            "_view_count": null,
            "_view_module": "@jupyter-widgets/base",
            "_view_module_version": "1.2.0",
            "_view_name": "LayoutView",
            "align_content": null,
            "align_items": null,
            "align_self": null,
            "border": null,
            "bottom": null,
            "display": null,
            "flex": null,
            "flex_flow": null,
            "grid_area": null,
            "grid_auto_columns": null,
            "grid_auto_flow": null,
            "grid_auto_rows": null,
            "grid_column": null,
            "grid_gap": null,
            "grid_row": null,
            "grid_template_areas": null,
            "grid_template_columns": null,
            "grid_template_rows": null,
            "height": null,
            "justify_content": null,
            "justify_items": null,
            "left": null,
            "margin": null,
            "max_height": null,
            "max_width": null,
            "min_height": null,
            "min_width": null,
            "object_fit": null,
            "object_position": null,
            "order": null,
            "overflow": null,
            "overflow_x": null,
            "overflow_y": null,
            "padding": null,
            "right": null,
            "top": null,
            "visibility": null,
            "width": null
          }
        },
        "adbc3d467f3446f0ae6f8c3c0952c0f8": {
          "model_module": "@jupyter-widgets/base",
          "model_name": "LayoutModel",
          "model_module_version": "1.2.0",
          "state": {
            "_model_module": "@jupyter-widgets/base",
            "_model_module_version": "1.2.0",
            "_model_name": "LayoutModel",
            "_view_count": null,
            "_view_module": "@jupyter-widgets/base",
            "_view_module_version": "1.2.0",
            "_view_name": "LayoutView",
            "align_content": null,
            "align_items": null,
            "align_self": null,
            "border": null,
            "bottom": null,
            "display": null,
            "flex": null,
            "flex_flow": null,
            "grid_area": null,
            "grid_auto_columns": null,
            "grid_auto_flow": null,
            "grid_auto_rows": null,
            "grid_column": null,
            "grid_gap": null,
            "grid_row": null,
            "grid_template_areas": null,
            "grid_template_columns": null,
            "grid_template_rows": null,
            "height": null,
            "justify_content": null,
            "justify_items": null,
            "left": null,
            "margin": null,
            "max_height": null,
            "max_width": null,
            "min_height": null,
            "min_width": null,
            "object_fit": null,
            "object_position": null,
            "order": null,
            "overflow": null,
            "overflow_x": null,
            "overflow_y": null,
            "padding": null,
            "right": null,
            "top": null,
            "visibility": null,
            "width": null
          }
        },
        "0eab64bc516b4b14bfc2f20e02a0132f": {
          "model_module": "@jupyter-widgets/controls",
          "model_name": "DescriptionStyleModel",
          "model_module_version": "1.5.0",
          "state": {
            "_model_module": "@jupyter-widgets/controls",
            "_model_module_version": "1.5.0",
            "_model_name": "DescriptionStyleModel",
            "_view_count": null,
            "_view_module": "@jupyter-widgets/base",
            "_view_module_version": "1.2.0",
            "_view_name": "StyleView",
            "description_width": ""
          }
        },
        "791e2beca8d041e7b89d58a61bd9d447": {
          "model_module": "@jupyter-widgets/base",
          "model_name": "LayoutModel",
          "model_module_version": "1.2.0",
          "state": {
            "_model_module": "@jupyter-widgets/base",
            "_model_module_version": "1.2.0",
            "_model_name": "LayoutModel",
            "_view_count": null,
            "_view_module": "@jupyter-widgets/base",
            "_view_module_version": "1.2.0",
            "_view_name": "LayoutView",
            "align_content": null,
            "align_items": null,
            "align_self": null,
            "border": null,
            "bottom": null,
            "display": null,
            "flex": null,
            "flex_flow": null,
            "grid_area": null,
            "grid_auto_columns": null,
            "grid_auto_flow": null,
            "grid_auto_rows": null,
            "grid_column": null,
            "grid_gap": null,
            "grid_row": null,
            "grid_template_areas": null,
            "grid_template_columns": null,
            "grid_template_rows": null,
            "height": null,
            "justify_content": null,
            "justify_items": null,
            "left": null,
            "margin": null,
            "max_height": null,
            "max_width": null,
            "min_height": null,
            "min_width": null,
            "object_fit": null,
            "object_position": null,
            "order": null,
            "overflow": null,
            "overflow_x": null,
            "overflow_y": null,
            "padding": null,
            "right": null,
            "top": null,
            "visibility": null,
            "width": null
          }
        },
        "acc6c81e93eb43c2876695be2d032cbd": {
          "model_module": "@jupyter-widgets/controls",
          "model_name": "ProgressStyleModel",
          "model_module_version": "1.5.0",
          "state": {
            "_model_module": "@jupyter-widgets/controls",
            "_model_module_version": "1.5.0",
            "_model_name": "ProgressStyleModel",
            "_view_count": null,
            "_view_module": "@jupyter-widgets/base",
            "_view_module_version": "1.2.0",
            "_view_name": "StyleView",
            "bar_color": null,
            "description_width": ""
          }
        },
        "9b926600fd6e44cf9e3d50806d118e04": {
          "model_module": "@jupyter-widgets/base",
          "model_name": "LayoutModel",
          "model_module_version": "1.2.0",
          "state": {
            "_model_module": "@jupyter-widgets/base",
            "_model_module_version": "1.2.0",
            "_model_name": "LayoutModel",
            "_view_count": null,
            "_view_module": "@jupyter-widgets/base",
            "_view_module_version": "1.2.0",
            "_view_name": "LayoutView",
            "align_content": null,
            "align_items": null,
            "align_self": null,
            "border": null,
            "bottom": null,
            "display": null,
            "flex": null,
            "flex_flow": null,
            "grid_area": null,
            "grid_auto_columns": null,
            "grid_auto_flow": null,
            "grid_auto_rows": null,
            "grid_column": null,
            "grid_gap": null,
            "grid_row": null,
            "grid_template_areas": null,
            "grid_template_columns": null,
            "grid_template_rows": null,
            "height": null,
            "justify_content": null,
            "justify_items": null,
            "left": null,
            "margin": null,
            "max_height": null,
            "max_width": null,
            "min_height": null,
            "min_width": null,
            "object_fit": null,
            "object_position": null,
            "order": null,
            "overflow": null,
            "overflow_x": null,
            "overflow_y": null,
            "padding": null,
            "right": null,
            "top": null,
            "visibility": null,
            "width": null
          }
        },
        "61fa3e17580a459ab442cdfacc9d00bd": {
          "model_module": "@jupyter-widgets/controls",
          "model_name": "DescriptionStyleModel",
          "model_module_version": "1.5.0",
          "state": {
            "_model_module": "@jupyter-widgets/controls",
            "_model_module_version": "1.5.0",
            "_model_name": "DescriptionStyleModel",
            "_view_count": null,
            "_view_module": "@jupyter-widgets/base",
            "_view_module_version": "1.2.0",
            "_view_name": "StyleView",
            "description_width": ""
          }
        }
      }
    }
  },
  "nbformat": 4,
  "nbformat_minor": 0
}