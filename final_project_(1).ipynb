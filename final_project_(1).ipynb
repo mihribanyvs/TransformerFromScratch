{
  "cells": [
    {
      "cell_type": "markdown",
      "metadata": {
        "id": "RxLr3K4MCZZa"
      },
      "source": [
        "##Installation of the libraries"
      ]
    },
    {
      "cell_type": "code",
      "execution_count": 1,
      "metadata": {
        "id": "WOpqGFLLtdTJ"
      },
      "outputs": [],
      "source": [
        "!pip install -q transformers"
      ]
    },
    {
      "cell_type": "code",
      "execution_count": 2,
      "metadata": {
        "colab": {
          "base_uri": "https://localhost:8080/"
        },
        "id": "Dqat9Mqke5_y",
        "outputId": "774a0978-361e-4e37-f8e6-fe4c7eb3108d"
      },
      "outputs": [
        {
          "output_type": "stream",
          "name": "stdout",
          "text": [
            "Collecting biopython\n",
            "  Downloading biopython-1.83-cp310-cp310-manylinux_2_17_x86_64.manylinux2014_x86_64.whl (3.1 MB)\n",
            "\u001b[2K     \u001b[90m━━━━━━━━━━━━━━━━━━━━━━━━━━━━━━━━━━━━━━━━\u001b[0m \u001b[32m3.1/3.1 MB\u001b[0m \u001b[31m15.9 MB/s\u001b[0m eta \u001b[36m0:00:00\u001b[0m\n",
            "\u001b[?25hRequirement already satisfied: numpy in /usr/local/lib/python3.10/dist-packages (from biopython) (1.25.2)\n",
            "Installing collected packages: biopython\n",
            "Successfully installed biopython-1.83\n"
          ]
        }
      ],
      "source": [
        "!pip install biopython"
      ]
    },
    {
      "cell_type": "code",
      "execution_count": 3,
      "metadata": {
        "colab": {
          "base_uri": "https://localhost:8080/"
        },
        "id": "2dcG5B0v7sNw",
        "outputId": "7587d595-80c4-4a18-f5ed-e56fc5087902"
      },
      "outputs": [
        {
          "output_type": "stream",
          "name": "stdout",
          "text": [
            "Requirement already satisfied: torch in /usr/local/lib/python3.10/dist-packages (2.3.0+cu121)\n",
            "Requirement already satisfied: filelock in /usr/local/lib/python3.10/dist-packages (from torch) (3.14.0)\n",
            "Requirement already satisfied: typing-extensions>=4.8.0 in /usr/local/lib/python3.10/dist-packages (from torch) (4.11.0)\n",
            "Requirement already satisfied: sympy in /usr/local/lib/python3.10/dist-packages (from torch) (1.12)\n",
            "Requirement already satisfied: networkx in /usr/local/lib/python3.10/dist-packages (from torch) (3.3)\n",
            "Requirement already satisfied: jinja2 in /usr/local/lib/python3.10/dist-packages (from torch) (3.1.4)\n",
            "Requirement already satisfied: fsspec in /usr/local/lib/python3.10/dist-packages (from torch) (2023.6.0)\n",
            "Collecting nvidia-cuda-nvrtc-cu12==12.1.105 (from torch)\n",
            "  Using cached nvidia_cuda_nvrtc_cu12-12.1.105-py3-none-manylinux1_x86_64.whl (23.7 MB)\n",
            "Collecting nvidia-cuda-runtime-cu12==12.1.105 (from torch)\n",
            "  Using cached nvidia_cuda_runtime_cu12-12.1.105-py3-none-manylinux1_x86_64.whl (823 kB)\n",
            "Collecting nvidia-cuda-cupti-cu12==12.1.105 (from torch)\n",
            "  Using cached nvidia_cuda_cupti_cu12-12.1.105-py3-none-manylinux1_x86_64.whl (14.1 MB)\n",
            "Collecting nvidia-cudnn-cu12==8.9.2.26 (from torch)\n",
            "  Using cached nvidia_cudnn_cu12-8.9.2.26-py3-none-manylinux1_x86_64.whl (731.7 MB)\n",
            "Collecting nvidia-cublas-cu12==12.1.3.1 (from torch)\n",
            "  Using cached nvidia_cublas_cu12-12.1.3.1-py3-none-manylinux1_x86_64.whl (410.6 MB)\n",
            "Collecting nvidia-cufft-cu12==11.0.2.54 (from torch)\n",
            "  Using cached nvidia_cufft_cu12-11.0.2.54-py3-none-manylinux1_x86_64.whl (121.6 MB)\n",
            "Collecting nvidia-curand-cu12==10.3.2.106 (from torch)\n",
            "  Using cached nvidia_curand_cu12-10.3.2.106-py3-none-manylinux1_x86_64.whl (56.5 MB)\n",
            "Collecting nvidia-cusolver-cu12==11.4.5.107 (from torch)\n",
            "  Using cached nvidia_cusolver_cu12-11.4.5.107-py3-none-manylinux1_x86_64.whl (124.2 MB)\n",
            "Collecting nvidia-cusparse-cu12==12.1.0.106 (from torch)\n",
            "  Using cached nvidia_cusparse_cu12-12.1.0.106-py3-none-manylinux1_x86_64.whl (196.0 MB)\n",
            "Collecting nvidia-nccl-cu12==2.20.5 (from torch)\n",
            "  Using cached nvidia_nccl_cu12-2.20.5-py3-none-manylinux2014_x86_64.whl (176.2 MB)\n",
            "Collecting nvidia-nvtx-cu12==12.1.105 (from torch)\n",
            "  Using cached nvidia_nvtx_cu12-12.1.105-py3-none-manylinux1_x86_64.whl (99 kB)\n",
            "Requirement already satisfied: triton==2.3.0 in /usr/local/lib/python3.10/dist-packages (from torch) (2.3.0)\n",
            "Collecting nvidia-nvjitlink-cu12 (from nvidia-cusolver-cu12==11.4.5.107->torch)\n",
            "  Downloading nvidia_nvjitlink_cu12-12.5.40-py3-none-manylinux2014_x86_64.whl (21.3 MB)\n",
            "\u001b[2K     \u001b[90m━━━━━━━━━━━━━━━━━━━━━━━━━━━━━━━━━━━━━━━━\u001b[0m \u001b[32m21.3/21.3 MB\u001b[0m \u001b[31m60.0 MB/s\u001b[0m eta \u001b[36m0:00:00\u001b[0m\n",
            "\u001b[?25hRequirement already satisfied: MarkupSafe>=2.0 in /usr/local/lib/python3.10/dist-packages (from jinja2->torch) (2.1.5)\n",
            "Requirement already satisfied: mpmath>=0.19 in /usr/local/lib/python3.10/dist-packages (from sympy->torch) (1.3.0)\n",
            "Installing collected packages: nvidia-nvtx-cu12, nvidia-nvjitlink-cu12, nvidia-nccl-cu12, nvidia-curand-cu12, nvidia-cufft-cu12, nvidia-cuda-runtime-cu12, nvidia-cuda-nvrtc-cu12, nvidia-cuda-cupti-cu12, nvidia-cublas-cu12, nvidia-cusparse-cu12, nvidia-cudnn-cu12, nvidia-cusolver-cu12\n",
            "Successfully installed nvidia-cublas-cu12-12.1.3.1 nvidia-cuda-cupti-cu12-12.1.105 nvidia-cuda-nvrtc-cu12-12.1.105 nvidia-cuda-runtime-cu12-12.1.105 nvidia-cudnn-cu12-8.9.2.26 nvidia-cufft-cu12-11.0.2.54 nvidia-curand-cu12-10.3.2.106 nvidia-cusolver-cu12-11.4.5.107 nvidia-cusparse-cu12-12.1.0.106 nvidia-nccl-cu12-2.20.5 nvidia-nvjitlink-cu12-12.5.40 nvidia-nvtx-cu12-12.1.105\n"
          ]
        }
      ],
      "source": [
        "#!pip3 uninstall --yes torch torchaudio torchvision torchtext torchdata\n",
        "!pip3 install torch"
      ]
    },
    {
      "cell_type": "markdown",
      "metadata": {
        "id": "LH_JLvuAIbf-"
      },
      "source": [
        "Torch optimization."
      ]
    },
    {
      "cell_type": "markdown",
      "metadata": {
        "id": "Ajkx476vCNeg"
      },
      "source": [
        "##All libraries needed for training"
      ]
    },
    {
      "cell_type": "code",
      "execution_count": 4,
      "metadata": {
        "id": "HdSZUMUnOd6t"
      },
      "outputs": [],
      "source": [
        "import os\n",
        "import math\n",
        "import numpy as np\n",
        "import random\n",
        "import logging\n",
        "\n",
        "# Bring in PyTorch\n",
        "import torch\n",
        "import torch.nn as nn\n",
        "import torch.optim as optim\n",
        "# Most of the examples have typing on the signatures for readability\n",
        "from typing import Optional, Callable, List, Tuple\n",
        "from Bio import SeqIO\n",
        "# For data loading\n",
        "from torch.utils.data import Dataset, IterableDataset, TensorDataset, DataLoader\n",
        "import json\n",
        "import glob\n",
        "import gzip\n",
        "import bz2\n",
        "\n",
        "# For progress and timing\n",
        "from tqdm import tqdm\n",
        "import time\n",
        "import shutil\n",
        "from Bio.PDB import PDBList\n",
        "from Bio.PDB.MMCIFParser import MMCIFParser\n",
        "import re"
      ]
    },
    {
      "cell_type": "code",
      "execution_count": 5,
      "metadata": {
        "id": "MLizYwG0Iaf_"
      },
      "outputs": [],
      "source": [
        "device = torch.device(\"cuda\" if torch.cuda.is_available() else \"cpu\")"
      ]
    },
    {
      "cell_type": "markdown",
      "metadata": {
        "id": "pmLGfrATCu2f"
      },
      "source": [
        "##Data processing"
      ]
    },
    {
      "cell_type": "markdown",
      "metadata": {
        "id": "OROe4HxxCz93"
      },
      "source": [
        "Getting rid of the sequences which are outside of the threshold (64-128)."
      ]
    },
    {
      "cell_type": "markdown",
      "metadata": {
        "id": "rxCNl4b7DEjK"
      },
      "source": [
        "Getting the sequence of a given file in the target folder (contains only the files with desired sequences)."
      ]
    },
    {
      "cell_type": "code",
      "execution_count": 13,
      "metadata": {
        "colab": {
          "base_uri": "https://localhost:8080/"
        },
        "id": "fsWswnTdTXNk",
        "outputId": "4cce8c0e-33bd-487c-8364-6988530ff746"
      },
      "outputs": [
        {
          "output_type": "stream",
          "name": "stdout",
          "text": [
            "MSSSNTDNQYPKYINDTTPPTITLKEYDNASWASTTCLDHNPIKNQYIVVVMENPNQIVAIIDQQDNMILDILFKNAHDAHSKQEYSTK\n"
          ]
        }
      ],
      "source": [
        "file_path = \"AF-A0A1D8PD42-F1-model_v4.cif\"\n",
        "file_model = \"AF-A0A1D8PD42-F1-model_v4\"\n",
        "pdbl = PDBList()\n",
        "#pdbl.retrieve_pdb_file(file_path, file_format='mmCif', pdir=\".\")\n",
        "# import the needed class\n",
        "# instantiate the class to prepare the parser\n",
        "cif_parser = MMCIFParser()\n",
        "#structure = cif_parser.get_structure(\"3goe\", \"3goe.cif\")\n",
        "structure = cif_parser.get_structure(file_model, file_path)\n",
        "model0 = structure[0]\n",
        "chain_A = model0['A']  # and we get chain A\n",
        "# dictionary converting 3-letter codes to 1-letter codes\n",
        "# this is a very common need in bioinformatics of proteins\n",
        "d3to1 = {'CYS': 'C', 'ASP': 'D', 'SER': 'S', 'GLN': 'Q', 'LYS': 'K',\n",
        " 'ILE': 'I', 'PRO': 'P', 'THR': 'T', 'PHE': 'F', 'ASN': 'N',\n",
        " 'GLY': 'G', 'HIS': 'H', 'LEU': 'L', 'ARG': 'R', 'TRP': 'W',\n",
        " 'ALA': 'A', 'VAL':'V', 'GLU': 'E', 'TYR': 'Y', 'MET': 'M'}\n",
        "\n",
        "sequence = []\n",
        "for residue in chain_A:\n",
        "    # for simplicity we can use X for heteroatoms (ions and water)\n",
        "    sequence.append(d3to1.get(residue.get_resname(), 'X'))  #converts water and ions to X\n",
        "print(''.join(sequence))"
      ]
    },
    {
      "cell_type": "markdown",
      "metadata": {
        "id": "MPYE1LduF1So"
      },
      "source": [
        "Calculating the angles for the given sequence"
      ]
    },
    {
      "cell_type": "code",
      "execution_count": 15,
      "metadata": {
        "colab": {
          "base_uri": "https://localhost:8080/"
        },
        "id": "f3mLNbSgGEYP",
        "outputId": "87cdf410-8f61-4f97-ae9b-0d417a24536f"
      },
      "outputs": [
        {
          "output_type": "stream",
          "name": "stdout",
          "text": [
            "98.16395945950967\n",
            "82.50495828587032\n",
            "79.19914435971504\n",
            "83.07405176142494\n",
            "60.044313470532636\n",
            "102.7946554274031\n",
            "85.28666894875717\n",
            "42.93453812073845\n",
            "127.9656719708327\n",
            "155.69465179650248\n",
            "138.024605537606\n",
            "137.14954131146746\n",
            "146.56270183468035\n",
            "-34.044110750278094\n",
            "-179.8297162210937\n",
            "-4.496276224371437\n",
            "-13.865314978627604\n",
            "110.50093422515786\n",
            "148.99421230816424\n",
            "154.43011759933302\n",
            "130.1698008731835\n",
            "157.84142541088352\n",
            "157.48084112080286\n",
            "-35.68161727313367\n",
            "-41.29169954519074\n",
            "-40.064017274326616\n",
            "-50.02143004729109\n",
            "-27.961036819301654\n",
            "-0.5788015082387981\n",
            "132.7397194649513\n",
            "-31.34336919414818\n",
            "-4.1441287979794685\n",
            "-30.813828227805875\n",
            "-11.546966123488676\n",
            "5.479622169341699\n",
            "166.80301504721157\n",
            "156.04470680565288\n",
            "135.83116383955326\n",
            "159.44668064821525\n",
            "123.83160173972804\n",
            "105.78580725491983\n",
            "-25.963550151453397\n",
            "-41.55782497300403\n",
            "-4.671401085177566\n",
            "54.0435532210131\n",
            "151.3552320878784\n",
            "134.9018875649975\n",
            "155.74597636554063\n",
            "125.43791323308822\n",
            "154.7034618100038\n",
            "128.30647901386703\n",
            "-39.96575503862786\n",
            "-19.282738126548896\n",
            "80.66443788236765\n",
            "-13.81645566770993\n",
            "-16.49184145987937\n",
            "105.20016440575775\n",
            "128.05127432072825\n",
            "-21.144783492292824\n",
            "162.88171003701024\n",
            "137.5171884889844\n",
            "136.0227500344275\n",
            "140.00512236886323\n",
            "-24.23272331754946\n",
            "-27.273895002564192\n",
            "-4.144017486914455\n",
            "-40.66684409529875\n",
            "-38.26184425697075\n",
            "-45.73694411820083\n",
            "-43.028042773055\n",
            "-44.088290395075184\n",
            "-44.525824391120125\n",
            "-49.67023540047763\n",
            "-41.79224261396384\n",
            "-48.11854991138927\n",
            "-40.13461220024684\n",
            "-43.584009485278024\n",
            "-51.166202041748825\n",
            "-38.96602913470476\n",
            "-43.92827661231355\n",
            "-45.869863124135776\n",
            "-37.409007867692424\n",
            "-35.15049910904777\n",
            "-34.901391352252894\n",
            "-25.811570892168984\n",
            "-29.45422609655968\n",
            "-3.968338225049172\n",
            "9.99458825143149\n",
            "AF-A0A1D8PD42-F1-model_v4 A coordinates for 0 dihedra updated in 0 iterations\n"
          ]
        }
      ],
      "source": [
        "#phi and psi\n",
        "from Bio.PDB import PICIO, PDBIO\n",
        "from Bio import PDB\n",
        "from typing import TypedDict, Dict, Tuple\n",
        "structure.atom_to_internal_coordinates() # turns xyz coordinates into angles and bond lengths\n",
        "\n",
        "chain:PDB.Chain.Chain = list(structure.get_chains())[0]#iterator of chains, turns it into list, [0] first chain\n",
        "\n",
        "ic_chain: PDB.internal_coords.IC_Chain = chain.internal_coord #this access the internal chain coords of the chain object\n",
        "\n",
        "d: Dict[Tuple[PDB.internal_coords.AtomKey,\n",
        "              PDB.internal_coords.AtomKey,\n",
        "              PDB.internal_coords.AtomKey,\n",
        "              PDB.internal_coords.AtomKey],\n",
        "        PDB.internal_coords.Dihedron] = ic_chain.dihedra\n",
        "\n",
        "cnt = 1\n",
        "phi_angles = {}\n",
        "phi_angles_list = []\n",
        "psi_angles = {}\n",
        "psi_angles_list = []\n",
        "\n",
        "for key in d:\n",
        "    if key[0].akl[3] == 'N' and key[1].akl[3] == 'CA' and key[2].akl[3] == 'C' and key[3].akl[3] == 'N':\n",
        "        phi_angles[key] = d[key].angle\n",
        "        phi_angles_list.append(d[key].angle)\n",
        "    elif key[0].akl[3] == 'CA' and key[1].akl[3] == 'C' and key[2].akl[3] == 'N' and key[3].akl[3] == 'CA':\n",
        "        psi_angles[key] = d[key].angle\n",
        "        psi_angles_list.append(d[key].angle)\n",
        "\n",
        "\n",
        "structure.internal_to_atom_coordinates(verbose = True)\n",
        "io = PDBIO() #this is to write a pdb file again\n",
        "io.set_structure(structure)#set structure, the structure you wan tin the pdb file"
      ]
    },
    {
      "cell_type": "markdown",
      "metadata": {
        "id": "2rHgtHIxGRIK"
      },
      "source": [
        "Putting angles in a matrix."
      ]
    },
    {
      "cell_type": "code",
      "execution_count": 16,
      "metadata": {
        "id": "zPaNC7EOGUCJ"
      },
      "outputs": [],
      "source": [
        "phi_angles_list.append(0)\n",
        "psi_angles_list.append(0)\n",
        "\n",
        "phi = np.asarray(phi_angles_list,dtype=np.float32)*(np.pi/180)\n",
        "psi = np.asarray(psi_angles_list,dtype=np.float32)*(np.pi/180)\n",
        "angles = np.vstack((psi,phi))"
      ]
    },
    {
      "cell_type": "markdown",
      "metadata": {
        "id": "NEwvvTTpDQdc"
      },
      "source": [
        "Changing sequence for to be used in the Prot-Bert embedding."
      ]
    },
    {
      "cell_type": "code",
      "execution_count": 17,
      "metadata": {
        "colab": {
          "base_uri": "https://localhost:8080/",
          "height": 35
        },
        "id": "210cltz3TVpu",
        "outputId": "f0d389c3-84a4-446d-9d92-d2abb93df3de"
      },
      "outputs": [
        {
          "output_type": "execute_result",
          "data": {
            "text/plain": [
              "'M S S S N T D N Q Y P K Y I N D T T P P T I T L K E Y D N A S W A S T T C L D H N P I K N Q Y I V V V M E N P N Q I V A I I D Q Q D N M I L D I L F K N A H D A H S K Q E Y S T K'"
            ],
            "application/vnd.google.colaboratory.intrinsic+json": {
              "type": "string"
            }
          },
          "metadata": {},
          "execution_count": 17
        }
      ],
      "source": [
        "seq_example =  ' '.join(sequence)\n",
        "seq_example"
      ]
    },
    {
      "cell_type": "markdown",
      "metadata": {
        "id": "iMjT-OTkDaTq"
      },
      "source": [
        "##Embedding space creation (using Prot-Bert)"
      ]
    },
    {
      "cell_type": "code",
      "execution_count": 10,
      "metadata": {
        "colab": {
          "base_uri": "https://localhost:8080/",
          "height": 304,
          "referenced_widgets": [
            "1cd0a777d4ff4b6ab2ad2461ff2060a8",
            "9fd63af534704bb89ea9c3d9269bbf42",
            "e64454f1e32147ddb928af27abfc89a2",
            "56866dcbc10a4b30994641581156bbce",
            "4a015edc0d8844eaae7a5106b0eaaabf",
            "a46e69e09084434e96c34a270089b8c0",
            "5971ae62f5f54376800e8405e2d0b3ba",
            "5119eb9a87254559855548a6c3bfc16c",
            "9208da3aa0fb43e1af1e5750fc99221c",
            "b8d09ae560c646c39768182e06974816",
            "bf2e6047ddcc4976b4efcf910b43a518",
            "818822304ab34335b3f52cb9579a0e1a",
            "ecdace4ce35f43feaeaf28ba9a746b3a",
            "9626059a48a948658b7f5e400e4d4118",
            "8e960a54de09479dbb36dd827191e996",
            "02086d4db57748bcbee5d380f73c7fb8",
            "22c46fac8cc641ebaaa1fdabdc7edd52",
            "bfc94797eb0e45fdab3be91ad721c674",
            "75324a845cbe4ce3934fa3235aa5d83b",
            "5f29bc7326ee488ab09458358a597a38",
            "2279246c7c754d838a58136c8510d888",
            "3212d1a6968848d2b84eb12bd423555f",
            "da885a65373f40209b4bbff54c9d66e5",
            "e06c8723ce35447f873dc306d68485d4",
            "8924b237334342dd9f11f95611c5f00c",
            "8d4fd38ec9874f9c88fcb177b15b0487",
            "a48f3d29acbd4742b2b597f591013d2d",
            "0b13dbf301b64d3ea796837a3050528b",
            "fc29d6032b9242449f4b4a28d97400f7",
            "0a1c41fd5c23432ca89a59c917121bd5",
            "7fd219b8b97e429eb66921faf4ab730f",
            "3021831965494dd2b2c6fa8b7099ba71",
            "183c8b5f0bbf41189f7e03a706a0ef9b",
            "2922b8e9678e4d76947351b7572ed5d7",
            "8aaf0ba4c8df4873856d679d205bbf35",
            "985b2e1ab01540b9a7a0eddc72beca93",
            "bc9e73df27c841af95bda8a86f49e3eb",
            "a1989f4602a642ee8f13550e39bc4444",
            "4298621f6f4d4a388a38a81cec5d9269",
            "b940b8c3e6e54c61b4fef995396c02fc",
            "4199e73ae16f4d70baf1e44e9ca05b36",
            "6cbc48833b2544a68d4717c4e336a460",
            "924f76573a154a7b961dc936bba4c86f",
            "1d6fa8662a284ac98904148b2c1a90c8"
          ]
        },
        "id": "JE8wgGamS8q3",
        "outputId": "eee9e93c-c41a-48c8-bbe2-e62c95e98bf6"
      },
      "outputs": [
        {
          "output_type": "stream",
          "name": "stderr",
          "text": [
            "/usr/local/lib/python3.10/dist-packages/huggingface_hub/utils/_token.py:89: UserWarning: \n",
            "The secret `HF_TOKEN` does not exist in your Colab secrets.\n",
            "To authenticate with the Hugging Face Hub, create a token in your settings tab (https://huggingface.co/settings/tokens), set it as secret in your Google Colab and restart your session.\n",
            "You will be able to reuse this secret in all of your notebooks.\n",
            "Please note that authentication is recommended but still optional to access public models or datasets.\n",
            "  warnings.warn(\n"
          ]
        },
        {
          "output_type": "display_data",
          "data": {
            "text/plain": [
              "tokenizer_config.json:   0%|          | 0.00/86.0 [00:00<?, ?B/s]"
            ],
            "application/vnd.jupyter.widget-view+json": {
              "version_major": 2,
              "version_minor": 0,
              "model_id": "1cd0a777d4ff4b6ab2ad2461ff2060a8"
            }
          },
          "metadata": {}
        },
        {
          "output_type": "display_data",
          "data": {
            "text/plain": [
              "vocab.txt:   0%|          | 0.00/81.0 [00:00<?, ?B/s]"
            ],
            "application/vnd.jupyter.widget-view+json": {
              "version_major": 2,
              "version_minor": 0,
              "model_id": "818822304ab34335b3f52cb9579a0e1a"
            }
          },
          "metadata": {}
        },
        {
          "output_type": "display_data",
          "data": {
            "text/plain": [
              "special_tokens_map.json:   0%|          | 0.00/112 [00:00<?, ?B/s]"
            ],
            "application/vnd.jupyter.widget-view+json": {
              "version_major": 2,
              "version_minor": 0,
              "model_id": "da885a65373f40209b4bbff54c9d66e5"
            }
          },
          "metadata": {}
        },
        {
          "output_type": "stream",
          "name": "stderr",
          "text": [
            "/usr/local/lib/python3.10/dist-packages/huggingface_hub/file_download.py:1132: FutureWarning: `resume_download` is deprecated and will be removed in version 1.0.0. Downloads always resume when possible. If you want to force a new download, use `force_download=True`.\n",
            "  warnings.warn(\n"
          ]
        },
        {
          "output_type": "display_data",
          "data": {
            "text/plain": [
              "config.json:   0%|          | 0.00/361 [00:00<?, ?B/s]"
            ],
            "application/vnd.jupyter.widget-view+json": {
              "version_major": 2,
              "version_minor": 0,
              "model_id": "2922b8e9678e4d76947351b7572ed5d7"
            }
          },
          "metadata": {}
        }
      ],
      "source": [
        "from transformers import BertModel, BertTokenizer\n",
        "import re\n",
        "tokenizer = BertTokenizer.from_pretrained(\"Rostlab/prot_bert\", do_lower_case=False )\n",
        "seq = re.sub(r\"[UZOB]\", \"X\", seq_example)\n",
        "encoded_input = tokenizer(seq, return_tensors='pt')"
      ]
    },
    {
      "cell_type": "markdown",
      "metadata": {
        "id": "hVXU5BycDjBi"
      },
      "source": [
        "Getting the dimensions of the embedding space."
      ]
    },
    {
      "cell_type": "code",
      "execution_count": 18,
      "metadata": {
        "id": "HpW8wkmfgB84",
        "colab": {
          "base_uri": "https://localhost:8080/",
          "height": 159
        },
        "outputId": "6a3366d2-fb84-4b38-e330-dcda3c749b84"
      },
      "outputs": [
        {
          "output_type": "error",
          "ename": "NameError",
          "evalue": "name 'output' is not defined",
          "traceback": [
            "\u001b[0;31m---------------------------------------------------------------------------\u001b[0m",
            "\u001b[0;31mNameError\u001b[0m                                 Traceback (most recent call last)",
            "\u001b[0;32m<ipython-input-18-3ba05c392663>\u001b[0m in \u001b[0;36m<cell line: 1>\u001b[0;34m()\u001b[0m\n\u001b[0;32m----> 1\u001b[0;31m \u001b[0mN\u001b[0m \u001b[0;34m,\u001b[0m \u001b[0mD\u001b[0m \u001b[0;34m=\u001b[0m \u001b[0moutput\u001b[0m\u001b[0;34m.\u001b[0m\u001b[0mlast_hidden_state\u001b[0m\u001b[0;34m.\u001b[0m\u001b[0msize\u001b[0m\u001b[0;34m(\u001b[0m\u001b[0;34m)\u001b[0m\u001b[0;34m[\u001b[0m\u001b[0;36m1\u001b[0m\u001b[0;34m]\u001b[0m\u001b[0;34m,\u001b[0m \u001b[0moutput\u001b[0m\u001b[0;34m.\u001b[0m\u001b[0mlast_hidden_state\u001b[0m\u001b[0;34m.\u001b[0m\u001b[0msize\u001b[0m\u001b[0;34m(\u001b[0m\u001b[0;34m)\u001b[0m\u001b[0;34m[\u001b[0m\u001b[0;36m2\u001b[0m\u001b[0;34m]\u001b[0m\u001b[0;34m\u001b[0m\u001b[0;34m\u001b[0m\u001b[0m\n\u001b[0m\u001b[1;32m      2\u001b[0m \u001b[0membedding_prot_bert\u001b[0m \u001b[0;34m=\u001b[0m \u001b[0moutput\u001b[0m\u001b[0;34m.\u001b[0m\u001b[0mlast_hidden_state\u001b[0m\u001b[0;34m\u001b[0m\u001b[0;34m\u001b[0m\u001b[0m\n",
            "\u001b[0;31mNameError\u001b[0m: name 'output' is not defined"
          ]
        }
      ],
      "source": [
        "N , D = output.last_hidden_state.size()[1], output.last_hidden_state.size()[2]\n",
        "embedding_prot_bert = output.last_hidden_state\n"
      ]
    },
    {
      "cell_type": "code",
      "execution_count": 12,
      "metadata": {
        "colab": {
          "base_uri": "https://localhost:8080/",
          "height": 159
        },
        "id": "JlCaJUQZP-6w",
        "outputId": "636e2a96-4268-4288-bbc3-6935f79d0d8f"
      },
      "outputs": [
        {
          "output_type": "error",
          "ename": "NameError",
          "evalue": "name 'N' is not defined",
          "traceback": [
            "\u001b[0;31m---------------------------------------------------------------------------\u001b[0m",
            "\u001b[0;31mNameError\u001b[0m                                 Traceback (most recent call last)",
            "\u001b[0;32m<ipython-input-12-8ab42310e33b>\u001b[0m in \u001b[0;36m<cell line: 1>\u001b[0;34m()\u001b[0m\n\u001b[0;32m----> 1\u001b[0;31m \u001b[0mprint\u001b[0m\u001b[0;34m(\u001b[0m\u001b[0mN\u001b[0m\u001b[0;34m)\u001b[0m\u001b[0;34m\u001b[0m\u001b[0;34m\u001b[0m\u001b[0m\n\u001b[0m\u001b[1;32m      2\u001b[0m \u001b[0mprint\u001b[0m\u001b[0;34m(\u001b[0m\u001b[0mD\u001b[0m\u001b[0;34m)\u001b[0m\u001b[0;34m\u001b[0m\u001b[0;34m\u001b[0m\u001b[0m\n",
            "\u001b[0;31mNameError\u001b[0m: name 'N' is not defined"
          ]
        }
      ],
      "source": [
        "print(N)\n",
        "print(D)"
      ]
    },
    {
      "cell_type": "markdown",
      "metadata": {
        "id": "gTpKMzbcEdit"
      },
      "source": [
        "##Single-head self unmasked attention layer"
      ]
    },
    {
      "cell_type": "code",
      "execution_count": 20,
      "metadata": {
        "id": "GrauGDe4WeTm"
      },
      "outputs": [],
      "source": [
        "class SelfAttention(nn.Module):\n",
        "    def __init__(self, embed_dim: int):\n",
        "        super(SelfAttention, self).__init__()\n",
        "        self.embed_dim = embed_dim\n",
        "        self.w_q = nn.Parameter(torch.randn(embed_dim, embed_dim))\n",
        "        self.w_k = nn.Parameter(torch.randn(embed_dim, embed_dim))\n",
        "        self.w_v = nn.Parameter(torch.randn(embed_dim, embed_dim))\n",
        "\n",
        "    def forward(self, embeddings_prot_bert: torch.Tensor) -> torch.Tensor:\n",
        "        Q = torch.matmul(embeddings_prot_bert, self.w_q)\n",
        "        K = torch.matmul(embeddings_prot_bert, self.w_k)\n",
        "        V = torch.matmul(embeddings_prot_bert, self.w_v)\n",
        "\n",
        "        scores = torch.matmul(Q, K.transpose(-1, -2)) / np.sqrt(K.size(-1))\n",
        "        attn = torch.softmax(scores, dim=-1)\n",
        "        attention_output = torch.matmul(attn, V)\n",
        "\n",
        "        return attention_output"
      ]
    },
    {
      "cell_type": "markdown",
      "metadata": {
        "id": "F-byNjH-FAbp"
      },
      "source": [
        "##Encoder with attention and 2 layer FFNN"
      ]
    },
    {
      "cell_type": "code",
      "execution_count": 21,
      "metadata": {
        "id": "eh9FkMFIff6L"
      },
      "outputs": [],
      "source": [
        "class TransformerModel(nn.Module):\n",
        "    def __init__(self, embed_dim: int, feed_forward_dim1: int, feed_forward_dim2: int, output_dim: int = 2):\n",
        "        super(TransformerModel, self).__init__()\n",
        "        self.self_attention = SelfAttention(embed_dim)\n",
        "        self.layer_norm1 = nn.LayerNorm(embed_dim)\n",
        "        self.layer_norm2 = nn.LayerNorm(output_dim)\n",
        "        self.feed_forward = nn.Sequential(\n",
        "            nn.Linear(embed_dim, feed_forward_dim1),\n",
        "            nn.ReLU(),\n",
        "            nn.Linear(feed_forward_dim1, feed_forward_dim2),\n",
        "            nn.ReLU(),\n",
        "            nn.Linear(feed_forward_dim2, output_dim)\n",
        "        )\n",
        "\n",
        "    def forward(self, embeddings: torch.Tensor) -> torch.Tensor:\n",
        "        attention_output = self.self_attention(embeddings)\n",
        "        normalized_attention_output = self.layer_norm1(attention_output)\n",
        "        ff_output = self.feed_forward(normalized_attention_output)\n",
        "        output = self.layer_norm2(ff_output)\n",
        "        return output\n"
      ]
    },
    {
      "cell_type": "code",
      "execution_count": 22,
      "metadata": {
        "id": "Wna5fDOhP-6w"
      },
      "outputs": [],
      "source": [
        "class TransformerTrainer:\n",
        "    def __init__(self, model: nn.Module, criterion: nn.Module, num_epochs: int, sequence: torch.Tensor, angles: np.ndarray):\n",
        "        self.model = model\n",
        "        self.criterion = criterion\n",
        "        self.num_epochs = num_epochs\n",
        "        self.sequence = sequence\n",
        "        self.angles_tensor = torch.from_numpy(angles.T)\n",
        "        self.optimizer = optim.SGD(model.parameters(), lr=0.05)\n",
        "        #self.scheduler = optim.lr_scheduler.StepLR(self.optimizer, step_size=10, gamma=0.1)\n",
        "\n",
        "    def train(self):\n",
        "        loss_list = []\n",
        "        for epoch in range(self.num_epochs):\n",
        "            predictions = self.model.forward(self.sequence)[:, :len(self.angles_tensor)]\n",
        "            loss = self.criterion(predictions.squeeze(), self.angles_tensor)\n",
        "            loss.backward(retain_graph=True)\n",
        "            self.optimizer.step()\n",
        "            self.optimizer.zero_grad()\n",
        "            #self.scheduler.step()\n",
        "            loss_list.append(loss.item())\n",
        "\n",
        "            print(f\"Epoch {epoch + 1}/{self.num_epochs}, Loss: {loss.item()}\")\n",
        "\n",
        "\n"
      ]
    },
    {
      "cell_type": "code",
      "execution_count": 23,
      "metadata": {
        "colab": {
          "base_uri": "https://localhost:8080/",
          "height": 1000,
          "referenced_widgets": [
            "48d848211999483b865a117c5e7a7f29",
            "8efa91ce2c0348dfac67c2b658ee55ce",
            "793ce664743e4679a019b0fe28bce309",
            "adb292376032402f8bd0fd355f8c5fd4",
            "8828561437204d2b9c246f8bb142e0d0",
            "cfd93451031541179d70293f2edd2be7",
            "7891a00c6fa9413ab2dde7f06417de8a",
            "4285eeba99374beda4980c75445d1917",
            "4d1dda4f83ea46778b1868a26e0561b3",
            "deff05a68ebb462f8277b19693de6c16",
            "30990ec5ea84444bb9564a0037f633c4"
          ]
        },
        "id": "2ilZnbZAP-6x",
        "outputId": "0de1774b-82c0-444c-f79e-f04546d3f731"
      },
      "outputs": [
        {
          "output_type": "display_data",
          "data": {
            "text/plain": [
              "pytorch_model.bin:   0%|          | 0.00/1.68G [00:00<?, ?B/s]"
            ],
            "application/vnd.jupyter.widget-view+json": {
              "version_major": 2,
              "version_minor": 0,
              "model_id": "48d848211999483b865a117c5e7a7f29"
            }
          },
          "metadata": {}
        },
        {
          "output_type": "stream",
          "name": "stdout",
          "text": [
            "Epoch 1/200, Loss: 6.061740875244141\n",
            "Epoch 2/200, Loss: 5.774256229400635\n",
            "Epoch 3/200, Loss: 5.540521621704102\n",
            "Epoch 4/200, Loss: 6.361536026000977\n",
            "Epoch 5/200, Loss: 7.388876914978027\n",
            "Epoch 6/200, Loss: 5.711643695831299\n",
            "Epoch 7/200, Loss: 5.197005271911621\n",
            "Epoch 8/200, Loss: 5.073453903198242\n",
            "Epoch 9/200, Loss: 4.9733781814575195\n",
            "Epoch 10/200, Loss: 4.892316818237305\n",
            "Epoch 11/200, Loss: 4.826656818389893\n",
            "Epoch 12/200, Loss: 4.773471832275391\n",
            "Epoch 13/200, Loss: 4.7303924560546875\n",
            "Epoch 14/200, Loss: 4.695497989654541\n",
            "Epoch 15/200, Loss: 4.667233467102051\n",
            "Epoch 16/200, Loss: 4.644339084625244\n",
            "Epoch 17/200, Loss: 4.625794887542725\n",
            "Epoch 18/200, Loss: 4.610774040222168\n",
            "Epoch 19/200, Loss: 4.598607063293457\n",
            "Epoch 20/200, Loss: 4.588751792907715\n",
            "Epoch 21/200, Loss: 4.5807695388793945\n",
            "Epoch 22/200, Loss: 4.57430362701416\n",
            "Epoch 23/200, Loss: 4.569065570831299\n",
            "Epoch 24/200, Loss: 4.564823627471924\n",
            "Epoch 25/200, Loss: 4.5613861083984375\n",
            "Epoch 26/200, Loss: 4.558603286743164\n",
            "Epoch 27/200, Loss: 4.556349277496338\n",
            "Epoch 28/200, Loss: 4.55452299118042\n",
            "Epoch 29/200, Loss: 4.553043842315674\n",
            "Epoch 30/200, Loss: 4.551845550537109\n",
            "Epoch 31/200, Loss: 4.550875186920166\n",
            "Epoch 32/200, Loss: 4.550089359283447\n",
            "Epoch 33/200, Loss: 4.549452304840088\n",
            "Epoch 34/200, Loss: 4.548936367034912\n",
            "Epoch 35/200, Loss: 4.548518657684326\n",
            "Epoch 36/200, Loss: 4.548179626464844\n",
            "Epoch 37/200, Loss: 4.547906398773193\n",
            "Epoch 38/200, Loss: 4.547684192657471\n",
            "Epoch 39/200, Loss: 4.547504901885986\n",
            "Epoch 40/200, Loss: 4.547358989715576\n",
            "Epoch 41/200, Loss: 4.547240734100342\n",
            "Epoch 42/200, Loss: 4.547145366668701\n",
            "Epoch 43/200, Loss: 4.547067165374756\n",
            "Epoch 44/200, Loss: 4.547004699707031\n",
            "Epoch 45/200, Loss: 4.546954154968262\n",
            "Epoch 46/200, Loss: 4.546913146972656\n",
            "Epoch 47/200, Loss: 4.546879768371582\n",
            "Epoch 48/200, Loss: 4.5468525886535645\n",
            "Epoch 49/200, Loss: 4.546830654144287\n",
            "Epoch 50/200, Loss: 4.546812534332275\n",
            "Epoch 51/200, Loss: 4.5467987060546875\n",
            "Epoch 52/200, Loss: 4.546787261962891\n",
            "Epoch 53/200, Loss: 4.546777725219727\n",
            "Epoch 54/200, Loss: 4.546770095825195\n",
            "Epoch 55/200, Loss: 4.546763896942139\n",
            "Epoch 56/200, Loss: 4.546758651733398\n",
            "Epoch 57/200, Loss: 4.546754837036133\n",
            "Epoch 58/200, Loss: 4.546751499176025\n",
            "Epoch 59/200, Loss: 4.546748638153076\n",
            "Epoch 60/200, Loss: 4.546746730804443\n",
            "Epoch 61/200, Loss: 4.5467448234558105\n",
            "Epoch 62/200, Loss: 4.546743869781494\n",
            "Epoch 63/200, Loss: 4.5467424392700195\n",
            "Epoch 64/200, Loss: 4.546741485595703\n",
            "Epoch 65/200, Loss: 4.546740531921387\n",
            "Epoch 66/200, Loss: 4.5467400550842285\n",
            "Epoch 67/200, Loss: 4.5467400550842285\n",
            "Epoch 68/200, Loss: 4.546739101409912\n",
            "Epoch 69/200, Loss: 4.546739101409912\n",
            "Epoch 70/200, Loss: 4.546739101409912\n",
            "Epoch 71/200, Loss: 4.546738624572754\n",
            "Epoch 72/200, Loss: 4.546738147735596\n",
            "Epoch 73/200, Loss: 4.546738147735596\n",
            "Epoch 74/200, Loss: 4.5467376708984375\n",
            "Epoch 75/200, Loss: 4.5467376708984375\n",
            "Epoch 76/200, Loss: 4.5467376708984375\n",
            "Epoch 77/200, Loss: 4.5467376708984375\n",
            "Epoch 78/200, Loss: 4.5467376708984375\n",
            "Epoch 79/200, Loss: 4.5467376708984375\n",
            "Epoch 80/200, Loss: 4.5467376708984375\n",
            "Epoch 81/200, Loss: 4.5467376708984375\n",
            "Epoch 82/200, Loss: 4.5467376708984375\n",
            "Epoch 83/200, Loss: 4.5467376708984375\n",
            "Epoch 84/200, Loss: 4.546736717224121\n",
            "Epoch 85/200, Loss: 4.5467376708984375\n",
            "Epoch 86/200, Loss: 4.5467376708984375\n",
            "Epoch 87/200, Loss: 4.5467376708984375\n",
            "Epoch 88/200, Loss: 4.5467376708984375\n",
            "Epoch 89/200, Loss: 4.5467376708984375\n",
            "Epoch 90/200, Loss: 4.5467376708984375\n",
            "Epoch 91/200, Loss: 4.5467376708984375\n",
            "Epoch 92/200, Loss: 4.546737194061279\n",
            "Epoch 93/200, Loss: 4.5467376708984375\n",
            "Epoch 94/200, Loss: 4.5467376708984375\n",
            "Epoch 95/200, Loss: 4.5467376708984375\n",
            "Epoch 96/200, Loss: 4.546737194061279\n",
            "Epoch 97/200, Loss: 4.5467376708984375\n",
            "Epoch 98/200, Loss: 4.5467376708984375\n",
            "Epoch 99/200, Loss: 4.5467376708984375\n",
            "Epoch 100/200, Loss: 4.546737194061279\n",
            "Epoch 101/200, Loss: 4.5467376708984375\n",
            "Epoch 102/200, Loss: 4.5467376708984375\n",
            "Epoch 103/200, Loss: 4.5467376708984375\n",
            "Epoch 104/200, Loss: 4.5467376708984375\n",
            "Epoch 105/200, Loss: 4.5467376708984375\n",
            "Epoch 106/200, Loss: 4.546737194061279\n",
            "Epoch 107/200, Loss: 4.546737194061279\n",
            "Epoch 108/200, Loss: 4.5467376708984375\n",
            "Epoch 109/200, Loss: 4.5467376708984375\n",
            "Epoch 110/200, Loss: 4.5467376708984375\n",
            "Epoch 111/200, Loss: 4.5467376708984375\n",
            "Epoch 112/200, Loss: 4.5467376708984375\n",
            "Epoch 113/200, Loss: 4.546737194061279\n",
            "Epoch 114/200, Loss: 4.5467376708984375\n",
            "Epoch 115/200, Loss: 4.5467376708984375\n",
            "Epoch 116/200, Loss: 4.5467376708984375\n",
            "Epoch 117/200, Loss: 4.5467376708984375\n",
            "Epoch 118/200, Loss: 4.5467376708984375\n",
            "Epoch 119/200, Loss: 4.5467376708984375\n",
            "Epoch 120/200, Loss: 4.5467376708984375\n",
            "Epoch 121/200, Loss: 4.5467376708984375\n",
            "Epoch 122/200, Loss: 4.5467376708984375\n",
            "Epoch 123/200, Loss: 4.5467376708984375\n",
            "Epoch 124/200, Loss: 4.5467376708984375\n",
            "Epoch 125/200, Loss: 4.5467376708984375\n",
            "Epoch 126/200, Loss: 4.5467376708984375\n",
            "Epoch 127/200, Loss: 4.5467376708984375\n",
            "Epoch 128/200, Loss: 4.5467376708984375\n",
            "Epoch 129/200, Loss: 4.5467376708984375\n",
            "Epoch 130/200, Loss: 4.5467376708984375\n",
            "Epoch 131/200, Loss: 4.5467376708984375\n",
            "Epoch 132/200, Loss: 4.5467376708984375\n",
            "Epoch 133/200, Loss: 4.5467376708984375\n",
            "Epoch 134/200, Loss: 4.5467376708984375\n",
            "Epoch 135/200, Loss: 4.5467376708984375\n",
            "Epoch 136/200, Loss: 4.5467376708984375\n",
            "Epoch 137/200, Loss: 4.546737194061279\n",
            "Epoch 138/200, Loss: 4.5467376708984375\n",
            "Epoch 139/200, Loss: 4.546737194061279\n",
            "Epoch 140/200, Loss: 4.5467376708984375\n",
            "Epoch 141/200, Loss: 4.546737194061279\n",
            "Epoch 142/200, Loss: 4.546737194061279\n",
            "Epoch 143/200, Loss: 4.546737194061279\n",
            "Epoch 144/200, Loss: 4.546737194061279\n",
            "Epoch 145/200, Loss: 4.5467376708984375\n",
            "Epoch 146/200, Loss: 4.5467376708984375\n",
            "Epoch 147/200, Loss: 4.5467376708984375\n",
            "Epoch 148/200, Loss: 4.5467376708984375\n",
            "Epoch 149/200, Loss: 4.546737194061279\n",
            "Epoch 150/200, Loss: 4.546737194061279\n",
            "Epoch 151/200, Loss: 4.5467376708984375\n",
            "Epoch 152/200, Loss: 4.5467376708984375\n",
            "Epoch 153/200, Loss: 4.5467376708984375\n",
            "Epoch 154/200, Loss: 4.5467376708984375\n",
            "Epoch 155/200, Loss: 4.5467376708984375\n",
            "Epoch 156/200, Loss: 4.5467376708984375\n",
            "Epoch 157/200, Loss: 4.5467376708984375\n",
            "Epoch 158/200, Loss: 4.5467376708984375\n",
            "Epoch 159/200, Loss: 4.5467376708984375\n",
            "Epoch 160/200, Loss: 4.5467376708984375\n",
            "Epoch 161/200, Loss: 4.5467376708984375\n",
            "Epoch 162/200, Loss: 4.5467376708984375\n",
            "Epoch 163/200, Loss: 4.5467376708984375\n",
            "Epoch 164/200, Loss: 4.5467376708984375\n",
            "Epoch 165/200, Loss: 4.5467376708984375\n",
            "Epoch 166/200, Loss: 4.5467376708984375\n",
            "Epoch 167/200, Loss: 4.5467376708984375\n",
            "Epoch 168/200, Loss: 4.5467376708984375\n",
            "Epoch 169/200, Loss: 4.5467376708984375\n",
            "Epoch 170/200, Loss: 4.5467376708984375\n",
            "Epoch 171/200, Loss: 4.5467376708984375\n",
            "Epoch 172/200, Loss: 4.5467376708984375\n",
            "Epoch 173/200, Loss: 4.5467376708984375\n",
            "Epoch 174/200, Loss: 4.5467376708984375\n",
            "Epoch 175/200, Loss: 4.5467376708984375\n",
            "Epoch 176/200, Loss: 4.5467376708984375\n",
            "Epoch 177/200, Loss: 4.5467376708984375\n",
            "Epoch 178/200, Loss: 4.5467376708984375\n",
            "Epoch 179/200, Loss: 4.5467376708984375\n",
            "Epoch 180/200, Loss: 4.5467376708984375\n",
            "Epoch 181/200, Loss: 4.5467376708984375\n",
            "Epoch 182/200, Loss: 4.5467376708984375\n",
            "Epoch 183/200, Loss: 4.5467376708984375\n",
            "Epoch 184/200, Loss: 4.5467376708984375\n",
            "Epoch 185/200, Loss: 4.5467376708984375\n",
            "Epoch 186/200, Loss: 4.5467376708984375\n",
            "Epoch 187/200, Loss: 4.5467376708984375\n",
            "Epoch 188/200, Loss: 4.5467376708984375\n",
            "Epoch 189/200, Loss: 4.5467376708984375\n",
            "Epoch 190/200, Loss: 4.5467376708984375\n",
            "Epoch 191/200, Loss: 4.5467376708984375\n",
            "Epoch 192/200, Loss: 4.5467376708984375\n",
            "Epoch 193/200, Loss: 4.5467376708984375\n",
            "Epoch 194/200, Loss: 4.5467376708984375\n",
            "Epoch 195/200, Loss: 4.5467376708984375\n",
            "Epoch 196/200, Loss: 4.5467376708984375\n",
            "Epoch 197/200, Loss: 4.5467376708984375\n",
            "Epoch 198/200, Loss: 4.5467376708984375\n",
            "Epoch 199/200, Loss: 4.5467376708984375\n",
            "Epoch 200/200, Loss: 4.5467376708984375\n"
          ]
        },
        {
          "output_type": "execute_result",
          "data": {
            "text/plain": [
              "TransformerModel(\n",
              "  (self_attention): SelfAttention()\n",
              "  (layer_norm1): LayerNorm((1024,), eps=1e-05, elementwise_affine=True)\n",
              "  (layer_norm2): LayerNorm((2,), eps=1e-05, elementwise_affine=True)\n",
              "  (feed_forward): Sequential(\n",
              "    (0): Linear(in_features=1024, out_features=512, bias=True)\n",
              "    (1): ReLU()\n",
              "    (2): Linear(in_features=512, out_features=256, bias=True)\n",
              "    (3): ReLU()\n",
              "    (4): Linear(in_features=256, out_features=2, bias=True)\n",
              "  )\n",
              ")"
            ]
          },
          "metadata": {},
          "execution_count": 23
        }
      ],
      "source": [
        "bert_model = BertModel.from_pretrained(\"Rostlab/prot_bert\")\n",
        "output = bert_model(**encoded_input)\n",
        "embedded_pb = output.last_hidden_state\n",
        "N, D = embedded_pb.size()[1], embedded_pb.size()[2]\n",
        "embeddings = embedded_pb\n",
        "# Initialize and train transformer model\n",
        "feed_forward_dim1 = 512\n",
        "feed_forward_dim2 = 256\n",
        "feed_forward_dim3 = 128\n",
        "num_epochs = 200\n",
        "\n",
        "model = TransformerModel(embed_dim=D, feed_forward_dim1=feed_forward_dim1, feed_forward_dim2= feed_forward_dim2)\n",
        "model.forward(embeddings)\n",
        "criterion = nn.MSELoss()\n",
        "trainer = TransformerTrainer(model, criterion, num_epochs, embedded_pb, angles)\n",
        "trainer.train()\n",
        "model"
      ]
    },
    {
      "cell_type": "code",
      "execution_count": 24,
      "metadata": {
        "id": "02HNhrf1P-6x"
      },
      "outputs": [],
      "source": [
        "angles_tensor = torch.from_numpy(angles.T)\n",
        "predicted_angles = model.forward(embedded_pb)[:, :len(angles_tensor)]"
      ]
    },
    {
      "cell_type": "code",
      "execution_count": 25,
      "metadata": {
        "colab": {
          "base_uri": "https://localhost:8080/",
          "height": 304
        },
        "id": "ZVEf-3s5P-6x",
        "outputId": "60f1a363-fbc2-474d-b0b9-99527aa89024"
      },
      "outputs": [
        {
          "output_type": "error",
          "ename": "RuntimeError",
          "evalue": "Parent directory predictions does not exist.",
          "traceback": [
            "\u001b[0;31m---------------------------------------------------------------------------\u001b[0m",
            "\u001b[0;31mRuntimeError\u001b[0m                              Traceback (most recent call last)",
            "\u001b[0;32m<ipython-input-25-9891bf120e45>\u001b[0m in \u001b[0;36m<cell line: 2>\u001b[0;34m()\u001b[0m\n\u001b[1;32m      1\u001b[0m \u001b[0mpred\u001b[0m \u001b[0;34m=\u001b[0m \u001b[0mpredicted_angles\u001b[0m\u001b[0;34m*\u001b[0m\u001b[0;34m(\u001b[0m\u001b[0;36m180\u001b[0m\u001b[0;34m/\u001b[0m\u001b[0mnp\u001b[0m\u001b[0;34m.\u001b[0m\u001b[0mpi\u001b[0m\u001b[0;34m)\u001b[0m\u001b[0;34m\u001b[0m\u001b[0;34m\u001b[0m\u001b[0m\n\u001b[0;32m----> 2\u001b[0;31m \u001b[0mtorch\u001b[0m\u001b[0;34m.\u001b[0m\u001b[0msave\u001b[0m\u001b[0;34m(\u001b[0m\u001b[0mpred\u001b[0m\u001b[0;34m,\u001b[0m\u001b[0;34m'predictions/N_A0A1D8PD42-F1_200_05_SGD.pt'\u001b[0m\u001b[0;34m)\u001b[0m\u001b[0;34m\u001b[0m\u001b[0;34m\u001b[0m\u001b[0m\n\u001b[0m",
            "\u001b[0;32m/usr/local/lib/python3.10/dist-packages/torch/serialization.py\u001b[0m in \u001b[0;36msave\u001b[0;34m(obj, f, pickle_module, pickle_protocol, _use_new_zipfile_serialization, _disable_byteorder_record)\u001b[0m\n\u001b[1;32m    625\u001b[0m \u001b[0;34m\u001b[0m\u001b[0m\n\u001b[1;32m    626\u001b[0m     \u001b[0;32mif\u001b[0m \u001b[0m_use_new_zipfile_serialization\u001b[0m\u001b[0;34m:\u001b[0m\u001b[0;34m\u001b[0m\u001b[0;34m\u001b[0m\u001b[0m\n\u001b[0;32m--> 627\u001b[0;31m         \u001b[0;32mwith\u001b[0m \u001b[0m_open_zipfile_writer\u001b[0m\u001b[0;34m(\u001b[0m\u001b[0mf\u001b[0m\u001b[0;34m)\u001b[0m \u001b[0;32mas\u001b[0m \u001b[0mopened_zipfile\u001b[0m\u001b[0;34m:\u001b[0m\u001b[0;34m\u001b[0m\u001b[0;34m\u001b[0m\u001b[0m\n\u001b[0m\u001b[1;32m    628\u001b[0m             \u001b[0m_save\u001b[0m\u001b[0;34m(\u001b[0m\u001b[0mobj\u001b[0m\u001b[0;34m,\u001b[0m \u001b[0mopened_zipfile\u001b[0m\u001b[0;34m,\u001b[0m \u001b[0mpickle_module\u001b[0m\u001b[0;34m,\u001b[0m \u001b[0mpickle_protocol\u001b[0m\u001b[0;34m,\u001b[0m \u001b[0m_disable_byteorder_record\u001b[0m\u001b[0;34m)\u001b[0m\u001b[0;34m\u001b[0m\u001b[0;34m\u001b[0m\u001b[0m\n\u001b[1;32m    629\u001b[0m             \u001b[0;32mreturn\u001b[0m\u001b[0;34m\u001b[0m\u001b[0;34m\u001b[0m\u001b[0m\n",
            "\u001b[0;32m/usr/local/lib/python3.10/dist-packages/torch/serialization.py\u001b[0m in \u001b[0;36m_open_zipfile_writer\u001b[0;34m(name_or_buffer)\u001b[0m\n\u001b[1;32m    499\u001b[0m     \u001b[0;32melse\u001b[0m\u001b[0;34m:\u001b[0m\u001b[0;34m\u001b[0m\u001b[0;34m\u001b[0m\u001b[0m\n\u001b[1;32m    500\u001b[0m         \u001b[0mcontainer\u001b[0m \u001b[0;34m=\u001b[0m \u001b[0m_open_zipfile_writer_buffer\u001b[0m\u001b[0;34m\u001b[0m\u001b[0;34m\u001b[0m\u001b[0m\n\u001b[0;32m--> 501\u001b[0;31m     \u001b[0;32mreturn\u001b[0m \u001b[0mcontainer\u001b[0m\u001b[0;34m(\u001b[0m\u001b[0mname_or_buffer\u001b[0m\u001b[0;34m)\u001b[0m\u001b[0;34m\u001b[0m\u001b[0;34m\u001b[0m\u001b[0m\n\u001b[0m\u001b[1;32m    502\u001b[0m \u001b[0;34m\u001b[0m\u001b[0m\n\u001b[1;32m    503\u001b[0m \u001b[0;34m\u001b[0m\u001b[0m\n",
            "\u001b[0;32m/usr/local/lib/python3.10/dist-packages/torch/serialization.py\u001b[0m in \u001b[0;36m__init__\u001b[0;34m(self, name)\u001b[0m\n\u001b[1;32m    470\u001b[0m             \u001b[0msuper\u001b[0m\u001b[0;34m(\u001b[0m\u001b[0;34m)\u001b[0m\u001b[0;34m.\u001b[0m\u001b[0m__init__\u001b[0m\u001b[0;34m(\u001b[0m\u001b[0mtorch\u001b[0m\u001b[0;34m.\u001b[0m\u001b[0m_C\u001b[0m\u001b[0;34m.\u001b[0m\u001b[0mPyTorchFileWriter\u001b[0m\u001b[0;34m(\u001b[0m\u001b[0mself\u001b[0m\u001b[0;34m.\u001b[0m\u001b[0mfile_stream\u001b[0m\u001b[0;34m)\u001b[0m\u001b[0;34m)\u001b[0m\u001b[0;34m\u001b[0m\u001b[0;34m\u001b[0m\u001b[0m\n\u001b[1;32m    471\u001b[0m         \u001b[0;32melse\u001b[0m\u001b[0;34m:\u001b[0m\u001b[0;34m\u001b[0m\u001b[0;34m\u001b[0m\u001b[0m\n\u001b[0;32m--> 472\u001b[0;31m             \u001b[0msuper\u001b[0m\u001b[0;34m(\u001b[0m\u001b[0;34m)\u001b[0m\u001b[0;34m.\u001b[0m\u001b[0m__init__\u001b[0m\u001b[0;34m(\u001b[0m\u001b[0mtorch\u001b[0m\u001b[0;34m.\u001b[0m\u001b[0m_C\u001b[0m\u001b[0;34m.\u001b[0m\u001b[0mPyTorchFileWriter\u001b[0m\u001b[0;34m(\u001b[0m\u001b[0mself\u001b[0m\u001b[0;34m.\u001b[0m\u001b[0mname\u001b[0m\u001b[0;34m)\u001b[0m\u001b[0;34m)\u001b[0m\u001b[0;34m\u001b[0m\u001b[0;34m\u001b[0m\u001b[0m\n\u001b[0m\u001b[1;32m    473\u001b[0m \u001b[0;34m\u001b[0m\u001b[0m\n\u001b[1;32m    474\u001b[0m     \u001b[0;32mdef\u001b[0m \u001b[0m__exit__\u001b[0m\u001b[0;34m(\u001b[0m\u001b[0mself\u001b[0m\u001b[0;34m,\u001b[0m \u001b[0;34m*\u001b[0m\u001b[0margs\u001b[0m\u001b[0;34m)\u001b[0m \u001b[0;34m->\u001b[0m \u001b[0;32mNone\u001b[0m\u001b[0;34m:\u001b[0m\u001b[0;34m\u001b[0m\u001b[0;34m\u001b[0m\u001b[0m\n",
            "\u001b[0;31mRuntimeError\u001b[0m: Parent directory predictions does not exist."
          ]
        }
      ],
      "source": [
        "pred = predicted_angles*(180/np.pi)\n",
        "torch.save(pred,'predictions/N_A0A1D8PD42-F1_200_05_SGD.pt')"
      ]
    },
    {
      "cell_type": "code",
      "execution_count": 26,
      "metadata": {
        "colab": {
          "base_uri": "https://localhost:8080/"
        },
        "id": "IOKEZMYqP-6x",
        "outputId": "a543bc49-8ecb-4ec0-b94a-84d5481723fe"
      },
      "outputs": [
        {
          "output_type": "execute_result",
          "data": {
            "text/plain": [
              "tensor([[ 179.9299,   98.1640],\n",
              "        [ 166.9430,   82.5050],\n",
              "        [ 175.7644,   79.1991],\n",
              "        [ 153.2986,   83.0741],\n",
              "        [ 139.6692,   60.0443],\n",
              "        [ 176.9491,  102.7947],\n",
              "        [ 164.3176,   85.2867],\n",
              "        [ 178.5258,   42.9345],\n",
              "        [ 171.2007,  127.9657],\n",
              "        [ 174.5847,  155.6947],\n",
              "        [ 173.7650,  138.0246],\n",
              "        [ 172.4886,  137.1495],\n",
              "        [ 179.3246,  146.5627],\n",
              "        [ 170.6717,  -34.0441],\n",
              "        [-176.4155, -179.8297],\n",
              "        [-173.8806,   -4.4963],\n",
              "        [-169.4366,  -13.8653],\n",
              "        [ 173.5445,  110.5009],\n",
              "        [ 175.3131,  148.9942],\n",
              "        [ 167.3701,  154.4301],\n",
              "        [ 176.2569,  130.1698],\n",
              "        [ 170.4209,  157.8414],\n",
              "        [ 171.9277,  157.4808],\n",
              "        [ 175.1485,  -35.6816],\n",
              "        [ 175.1972,  -41.2917],\n",
              "        [ 173.9927,  -40.0640],\n",
              "        [-179.1476,  -50.0214],\n",
              "        [-179.6617,  -27.9610],\n",
              "        [-177.6897,   -0.5788],\n",
              "        [ 176.5145,  132.7397],\n",
              "        [ 179.8077,  -31.3434],\n",
              "        [-178.6272,   -4.1441],\n",
              "        [-179.7450,  -30.8138],\n",
              "        [ 176.3559,  -11.5470],\n",
              "        [-174.0475,    5.4796],\n",
              "        [ 169.0206,  166.8030],\n",
              "        [ 169.2334,  156.0447],\n",
              "        [ 174.9530,  135.8312],\n",
              "        [ 174.4217,  159.4467],\n",
              "        [ 172.1912,  123.8316],\n",
              "        [-175.6914,  105.7858],\n",
              "        [-179.1390,  -25.9636],\n",
              "        [ 179.3049,  -41.5578],\n",
              "        [-173.1527,   -4.6714],\n",
              "        [-177.3201,   54.0436],\n",
              "        [ 169.2061,  151.3552],\n",
              "        [-177.7225,  134.9019],\n",
              "        [ 170.7543,  155.7460],\n",
              "        [-177.7716,  125.4379],\n",
              "        [ 175.8568,  154.7035],\n",
              "        [-177.0777,  128.3065],\n",
              "        [ 178.2578,  -39.9658],\n",
              "        [ 179.1063,  -19.2827],\n",
              "        [-173.7524,   80.6644],\n",
              "        [ 172.8689,  -13.8165],\n",
              "        [ 178.4152,  -16.4918],\n",
              "        [ 174.1122,  105.2002],\n",
              "        [-179.4346,  128.0513],\n",
              "        [ 173.4318,  -21.1448],\n",
              "        [ 167.9802,  162.8817],\n",
              "        [ 174.0376,  137.5172],\n",
              "        [ 176.1247,  136.0228],\n",
              "        [-176.0058,  140.0051],\n",
              "        [ 176.3120,  -24.2327],\n",
              "        [-178.3390,  -27.2739],\n",
              "        [-177.9725,   -4.1440],\n",
              "        [ 179.4951,  -40.6668],\n",
              "        [ 178.4277,  -38.2618],\n",
              "        [ 179.5794,  -45.7369],\n",
              "        [ 175.3748,  -43.0280],\n",
              "        [ 177.0571,  -44.0883],\n",
              "        [ 179.5929,  -44.5258],\n",
              "        [ 178.7871,  -49.6702],\n",
              "        [ 174.6558,  -41.7922],\n",
              "        [ 179.7204,  -48.1185],\n",
              "        [ 175.4010,  -40.1346],\n",
              "        [ 175.4036,  -43.5840],\n",
              "        [ 179.5199,  -51.1662],\n",
              "        [ 176.2607,  -38.9660],\n",
              "        [ 178.1636,  -43.9283],\n",
              "        [ 176.8904,  -45.8699],\n",
              "        [ 177.0213,  -37.4090],\n",
              "        [ 178.0379,  -35.1505],\n",
              "        [ 174.8337,  -34.9014],\n",
              "        [ 175.8945,  -25.8116],\n",
              "        [ 179.6117,  -29.4542],\n",
              "        [-179.2758,   -3.9683],\n",
              "        [ 169.5994,    9.9946],\n",
              "        [   0.0000,    0.0000]])"
            ]
          },
          "metadata": {},
          "execution_count": 26
        }
      ],
      "source": [
        "angles_tensor*(180/np.pi)"
      ]
    },
    {
      "cell_type": "code",
      "source": [
        "np.shape(angles_tensor)"
      ],
      "metadata": {
        "colab": {
          "base_uri": "https://localhost:8080/"
        },
        "id": "TJTdDSpHWgvS",
        "outputId": "cf7e9a31-fb69-4c37-b809-49cdecadf560"
      },
      "execution_count": 28,
      "outputs": [
        {
          "output_type": "execute_result",
          "data": {
            "text/plain": [
              "torch.Size([89, 2])"
            ]
          },
          "metadata": {},
          "execution_count": 28
        }
      ]
    },
    {
      "cell_type": "code",
      "execution_count": 30,
      "metadata": {
        "colab": {
          "base_uri": "https://localhost:8080/"
        },
        "id": "fqv5T21sP-6x",
        "outputId": "47e0dda7-7713-4324-da45-7ecd50ae3872"
      },
      "outputs": [
        {
          "output_type": "stream",
          "name": "stdout",
          "text": [
            "AF-A0A1D8PD42-F1-model_v4 A coordinates for 707 dihedra updated in 270 iterations\n"
          ]
        }
      ],
      "source": [
        "structure.atom_to_internal_coordinates() # turns xyz coordinates into angles and bond lengths\n",
        "\n",
        "chain:PDB.Chain.Chain = list(structure.get_chains())[0]#iterator of chains, turns it into list, [0] first chain\n",
        "\n",
        "ic_chain: PDB.internal_coords.IC_Chain = chain.internal_coord #this access the internal chain coords of the chain object\n",
        "#if you modify this, you will modify the orgiginal\n",
        "\n",
        "d: Dict[Tuple[PDB.internal_coords.AtomKey,\n",
        "              PDB.internal_coords.AtomKey,\n",
        "              PDB.internal_coords.AtomKey,\n",
        "              PDB.internal_coords.AtomKey],\n",
        "        PDB.internal_coords.Dihedron] = ic_chain.dihedra\n",
        "\n",
        "cnt = 0\n",
        "phi_angles = {}\n",
        "psi_angles = {}\n",
        "\n",
        "for key in d:\n",
        "    if key[0].akl[3] == 'N' and key[1].akl[3] == 'CA' and key[2].akl[3] == 'C' and key[3].akl[3] == 'N':\n",
        "\n",
        "        d[key].angle = angles_tensor[cnt, 0].item()\n",
        "        #print('phi clculated')\n",
        "    elif key[0].akl[3] == 'CA' and key[1].akl[3] == 'C' and key[2].akl[3] == 'N' and key[3].akl[3] == 'CA':\n",
        "        d[key].angle = angles_tensor[cnt, 1].item()\n",
        "        #print(\"psi calcukated\")\n",
        "        #print(cnt)\n",
        "        cnt += 1\n",
        "\n",
        "\n",
        "\n",
        "structure.internal_to_atom_coordinates(verbose = True)\n",
        "io = PDBIO() #this is to write a pdb file again\n",
        "io.set_structure(structure)#set structure, the structure you want in the pdb file\n",
        "io.save('AF-A0A1D8PD42-F1-model_v4_pred.pdb',  preserve_atom_numbering=True) #saves to a file, filename you a , true - preserves the original atom numbering\n",
        "\n"
      ]
    },
    {
      "cell_type": "code",
      "source": [],
      "metadata": {
        "id": "NUO6AG5zWVGN"
      },
      "execution_count": null,
      "outputs": []
    }
  ],
  "metadata": {
    "colab": {
      "provenance": []
    },
    "kernelspec": {
      "display_name": "Python 3",
      "name": "python3"
    },
    "language_info": {
      "codemirror_mode": {
        "name": "ipython",
        "version": 3
      },
      "file_extension": ".py",
      "mimetype": "text/x-python",
      "name": "python",
      "nbconvert_exporter": "python",
      "pygments_lexer": "ipython3",
      "version": "3.11.5"
    },
    "widgets": {
      "application/vnd.jupyter.widget-state+json": {
        "1cd0a777d4ff4b6ab2ad2461ff2060a8": {
          "model_module": "@jupyter-widgets/controls",
          "model_name": "HBoxModel",
          "model_module_version": "1.5.0",
          "state": {
            "_dom_classes": [],
            "_model_module": "@jupyter-widgets/controls",
            "_model_module_version": "1.5.0",
            "_model_name": "HBoxModel",
            "_view_count": null,
            "_view_module": "@jupyter-widgets/controls",
            "_view_module_version": "1.5.0",
            "_view_name": "HBoxView",
            "box_style": "",
            "children": [
              "IPY_MODEL_9fd63af534704bb89ea9c3d9269bbf42",
              "IPY_MODEL_e64454f1e32147ddb928af27abfc89a2",
              "IPY_MODEL_56866dcbc10a4b30994641581156bbce"
            ],
            "layout": "IPY_MODEL_4a015edc0d8844eaae7a5106b0eaaabf"
          }
        },
        "9fd63af534704bb89ea9c3d9269bbf42": {
          "model_module": "@jupyter-widgets/controls",
          "model_name": "HTMLModel",
          "model_module_version": "1.5.0",
          "state": {
            "_dom_classes": [],
            "_model_module": "@jupyter-widgets/controls",
            "_model_module_version": "1.5.0",
            "_model_name": "HTMLModel",
            "_view_count": null,
            "_view_module": "@jupyter-widgets/controls",
            "_view_module_version": "1.5.0",
            "_view_name": "HTMLView",
            "description": "",
            "description_tooltip": null,
            "layout": "IPY_MODEL_a46e69e09084434e96c34a270089b8c0",
            "placeholder": "​",
            "style": "IPY_MODEL_5971ae62f5f54376800e8405e2d0b3ba",
            "value": "tokenizer_config.json: 100%"
          }
        },
        "e64454f1e32147ddb928af27abfc89a2": {
          "model_module": "@jupyter-widgets/controls",
          "model_name": "FloatProgressModel",
          "model_module_version": "1.5.0",
          "state": {
            "_dom_classes": [],
            "_model_module": "@jupyter-widgets/controls",
            "_model_module_version": "1.5.0",
            "_model_name": "FloatProgressModel",
            "_view_count": null,
            "_view_module": "@jupyter-widgets/controls",
            "_view_module_version": "1.5.0",
            "_view_name": "ProgressView",
            "bar_style": "success",
            "description": "",
            "description_tooltip": null,
            "layout": "IPY_MODEL_5119eb9a87254559855548a6c3bfc16c",
            "max": 86,
            "min": 0,
            "orientation": "horizontal",
            "style": "IPY_MODEL_9208da3aa0fb43e1af1e5750fc99221c",
            "value": 86
          }
        },
        "56866dcbc10a4b30994641581156bbce": {
          "model_module": "@jupyter-widgets/controls",
          "model_name": "HTMLModel",
          "model_module_version": "1.5.0",
          "state": {
            "_dom_classes": [],
            "_model_module": "@jupyter-widgets/controls",
            "_model_module_version": "1.5.0",
            "_model_name": "HTMLModel",
            "_view_count": null,
            "_view_module": "@jupyter-widgets/controls",
            "_view_module_version": "1.5.0",
            "_view_name": "HTMLView",
            "description": "",
            "description_tooltip": null,
            "layout": "IPY_MODEL_b8d09ae560c646c39768182e06974816",
            "placeholder": "​",
            "style": "IPY_MODEL_bf2e6047ddcc4976b4efcf910b43a518",
            "value": " 86.0/86.0 [00:00&lt;00:00, 4.23kB/s]"
          }
        },
        "4a015edc0d8844eaae7a5106b0eaaabf": {
          "model_module": "@jupyter-widgets/base",
          "model_name": "LayoutModel",
          "model_module_version": "1.2.0",
          "state": {
            "_model_module": "@jupyter-widgets/base",
            "_model_module_version": "1.2.0",
            "_model_name": "LayoutModel",
            "_view_count": null,
            "_view_module": "@jupyter-widgets/base",
            "_view_module_version": "1.2.0",
            "_view_name": "LayoutView",
            "align_content": null,
            "align_items": null,
            "align_self": null,
            "border": null,
            "bottom": null,
            "display": null,
            "flex": null,
            "flex_flow": null,
            "grid_area": null,
            "grid_auto_columns": null,
            "grid_auto_flow": null,
            "grid_auto_rows": null,
            "grid_column": null,
            "grid_gap": null,
            "grid_row": null,
            "grid_template_areas": null,
            "grid_template_columns": null,
            "grid_template_rows": null,
            "height": null,
            "justify_content": null,
            "justify_items": null,
            "left": null,
            "margin": null,
            "max_height": null,
            "max_width": null,
            "min_height": null,
            "min_width": null,
            "object_fit": null,
            "object_position": null,
            "order": null,
            "overflow": null,
            "overflow_x": null,
            "overflow_y": null,
            "padding": null,
            "right": null,
            "top": null,
            "visibility": null,
            "width": null
          }
        },
        "a46e69e09084434e96c34a270089b8c0": {
          "model_module": "@jupyter-widgets/base",
          "model_name": "LayoutModel",
          "model_module_version": "1.2.0",
          "state": {
            "_model_module": "@jupyter-widgets/base",
            "_model_module_version": "1.2.0",
            "_model_name": "LayoutModel",
            "_view_count": null,
            "_view_module": "@jupyter-widgets/base",
            "_view_module_version": "1.2.0",
            "_view_name": "LayoutView",
            "align_content": null,
            "align_items": null,
            "align_self": null,
            "border": null,
            "bottom": null,
            "display": null,
            "flex": null,
            "flex_flow": null,
            "grid_area": null,
            "grid_auto_columns": null,
            "grid_auto_flow": null,
            "grid_auto_rows": null,
            "grid_column": null,
            "grid_gap": null,
            "grid_row": null,
            "grid_template_areas": null,
            "grid_template_columns": null,
            "grid_template_rows": null,
            "height": null,
            "justify_content": null,
            "justify_items": null,
            "left": null,
            "margin": null,
            "max_height": null,
            "max_width": null,
            "min_height": null,
            "min_width": null,
            "object_fit": null,
            "object_position": null,
            "order": null,
            "overflow": null,
            "overflow_x": null,
            "overflow_y": null,
            "padding": null,
            "right": null,
            "top": null,
            "visibility": null,
            "width": null
          }
        },
        "5971ae62f5f54376800e8405e2d0b3ba": {
          "model_module": "@jupyter-widgets/controls",
          "model_name": "DescriptionStyleModel",
          "model_module_version": "1.5.0",
          "state": {
            "_model_module": "@jupyter-widgets/controls",
            "_model_module_version": "1.5.0",
            "_model_name": "DescriptionStyleModel",
            "_view_count": null,
            "_view_module": "@jupyter-widgets/base",
            "_view_module_version": "1.2.0",
            "_view_name": "StyleView",
            "description_width": ""
          }
        },
        "5119eb9a87254559855548a6c3bfc16c": {
          "model_module": "@jupyter-widgets/base",
          "model_name": "LayoutModel",
          "model_module_version": "1.2.0",
          "state": {
            "_model_module": "@jupyter-widgets/base",
            "_model_module_version": "1.2.0",
            "_model_name": "LayoutModel",
            "_view_count": null,
            "_view_module": "@jupyter-widgets/base",
            "_view_module_version": "1.2.0",
            "_view_name": "LayoutView",
            "align_content": null,
            "align_items": null,
            "align_self": null,
            "border": null,
            "bottom": null,
            "display": null,
            "flex": null,
            "flex_flow": null,
            "grid_area": null,
            "grid_auto_columns": null,
            "grid_auto_flow": null,
            "grid_auto_rows": null,
            "grid_column": null,
            "grid_gap": null,
            "grid_row": null,
            "grid_template_areas": null,
            "grid_template_columns": null,
            "grid_template_rows": null,
            "height": null,
            "justify_content": null,
            "justify_items": null,
            "left": null,
            "margin": null,
            "max_height": null,
            "max_width": null,
            "min_height": null,
            "min_width": null,
            "object_fit": null,
            "object_position": null,
            "order": null,
            "overflow": null,
            "overflow_x": null,
            "overflow_y": null,
            "padding": null,
            "right": null,
            "top": null,
            "visibility": null,
            "width": null
          }
        },
        "9208da3aa0fb43e1af1e5750fc99221c": {
          "model_module": "@jupyter-widgets/controls",
          "model_name": "ProgressStyleModel",
          "model_module_version": "1.5.0",
          "state": {
            "_model_module": "@jupyter-widgets/controls",
            "_model_module_version": "1.5.0",
            "_model_name": "ProgressStyleModel",
            "_view_count": null,
            "_view_module": "@jupyter-widgets/base",
            "_view_module_version": "1.2.0",
            "_view_name": "StyleView",
            "bar_color": null,
            "description_width": ""
          }
        },
        "b8d09ae560c646c39768182e06974816": {
          "model_module": "@jupyter-widgets/base",
          "model_name": "LayoutModel",
          "model_module_version": "1.2.0",
          "state": {
            "_model_module": "@jupyter-widgets/base",
            "_model_module_version": "1.2.0",
            "_model_name": "LayoutModel",
            "_view_count": null,
            "_view_module": "@jupyter-widgets/base",
            "_view_module_version": "1.2.0",
            "_view_name": "LayoutView",
            "align_content": null,
            "align_items": null,
            "align_self": null,
            "border": null,
            "bottom": null,
            "display": null,
            "flex": null,
            "flex_flow": null,
            "grid_area": null,
            "grid_auto_columns": null,
            "grid_auto_flow": null,
            "grid_auto_rows": null,
            "grid_column": null,
            "grid_gap": null,
            "grid_row": null,
            "grid_template_areas": null,
            "grid_template_columns": null,
            "grid_template_rows": null,
            "height": null,
            "justify_content": null,
            "justify_items": null,
            "left": null,
            "margin": null,
            "max_height": null,
            "max_width": null,
            "min_height": null,
            "min_width": null,
            "object_fit": null,
            "object_position": null,
            "order": null,
            "overflow": null,
            "overflow_x": null,
            "overflow_y": null,
            "padding": null,
            "right": null,
            "top": null,
            "visibility": null,
            "width": null
          }
        },
        "bf2e6047ddcc4976b4efcf910b43a518": {
          "model_module": "@jupyter-widgets/controls",
          "model_name": "DescriptionStyleModel",
          "model_module_version": "1.5.0",
          "state": {
            "_model_module": "@jupyter-widgets/controls",
            "_model_module_version": "1.5.0",
            "_model_name": "DescriptionStyleModel",
            "_view_count": null,
            "_view_module": "@jupyter-widgets/base",
            "_view_module_version": "1.2.0",
            "_view_name": "StyleView",
            "description_width": ""
          }
        },
        "818822304ab34335b3f52cb9579a0e1a": {
          "model_module": "@jupyter-widgets/controls",
          "model_name": "HBoxModel",
          "model_module_version": "1.5.0",
          "state": {
            "_dom_classes": [],
            "_model_module": "@jupyter-widgets/controls",
            "_model_module_version": "1.5.0",
            "_model_name": "HBoxModel",
            "_view_count": null,
            "_view_module": "@jupyter-widgets/controls",
            "_view_module_version": "1.5.0",
            "_view_name": "HBoxView",
            "box_style": "",
            "children": [
              "IPY_MODEL_ecdace4ce35f43feaeaf28ba9a746b3a",
              "IPY_MODEL_9626059a48a948658b7f5e400e4d4118",
              "IPY_MODEL_8e960a54de09479dbb36dd827191e996"
            ],
            "layout": "IPY_MODEL_02086d4db57748bcbee5d380f73c7fb8"
          }
        },
        "ecdace4ce35f43feaeaf28ba9a746b3a": {
          "model_module": "@jupyter-widgets/controls",
          "model_name": "HTMLModel",
          "model_module_version": "1.5.0",
          "state": {
            "_dom_classes": [],
            "_model_module": "@jupyter-widgets/controls",
            "_model_module_version": "1.5.0",
            "_model_name": "HTMLModel",
            "_view_count": null,
            "_view_module": "@jupyter-widgets/controls",
            "_view_module_version": "1.5.0",
            "_view_name": "HTMLView",
            "description": "",
            "description_tooltip": null,
            "layout": "IPY_MODEL_22c46fac8cc641ebaaa1fdabdc7edd52",
            "placeholder": "​",
            "style": "IPY_MODEL_bfc94797eb0e45fdab3be91ad721c674",
            "value": "vocab.txt: 100%"
          }
        },
        "9626059a48a948658b7f5e400e4d4118": {
          "model_module": "@jupyter-widgets/controls",
          "model_name": "FloatProgressModel",
          "model_module_version": "1.5.0",
          "state": {
            "_dom_classes": [],
            "_model_module": "@jupyter-widgets/controls",
            "_model_module_version": "1.5.0",
            "_model_name": "FloatProgressModel",
            "_view_count": null,
            "_view_module": "@jupyter-widgets/controls",
            "_view_module_version": "1.5.0",
            "_view_name": "ProgressView",
            "bar_style": "success",
            "description": "",
            "description_tooltip": null,
            "layout": "IPY_MODEL_75324a845cbe4ce3934fa3235aa5d83b",
            "max": 81,
            "min": 0,
            "orientation": "horizontal",
            "style": "IPY_MODEL_5f29bc7326ee488ab09458358a597a38",
            "value": 81
          }
        },
        "8e960a54de09479dbb36dd827191e996": {
          "model_module": "@jupyter-widgets/controls",
          "model_name": "HTMLModel",
          "model_module_version": "1.5.0",
          "state": {
            "_dom_classes": [],
            "_model_module": "@jupyter-widgets/controls",
            "_model_module_version": "1.5.0",
            "_model_name": "HTMLModel",
            "_view_count": null,
            "_view_module": "@jupyter-widgets/controls",
            "_view_module_version": "1.5.0",
            "_view_name": "HTMLView",
            "description": "",
            "description_tooltip": null,
            "layout": "IPY_MODEL_2279246c7c754d838a58136c8510d888",
            "placeholder": "​",
            "style": "IPY_MODEL_3212d1a6968848d2b84eb12bd423555f",
            "value": " 81.0/81.0 [00:00&lt;00:00, 3.19kB/s]"
          }
        },
        "02086d4db57748bcbee5d380f73c7fb8": {
          "model_module": "@jupyter-widgets/base",
          "model_name": "LayoutModel",
          "model_module_version": "1.2.0",
          "state": {
            "_model_module": "@jupyter-widgets/base",
            "_model_module_version": "1.2.0",
            "_model_name": "LayoutModel",
            "_view_count": null,
            "_view_module": "@jupyter-widgets/base",
            "_view_module_version": "1.2.0",
            "_view_name": "LayoutView",
            "align_content": null,
            "align_items": null,
            "align_self": null,
            "border": null,
            "bottom": null,
            "display": null,
            "flex": null,
            "flex_flow": null,
            "grid_area": null,
            "grid_auto_columns": null,
            "grid_auto_flow": null,
            "grid_auto_rows": null,
            "grid_column": null,
            "grid_gap": null,
            "grid_row": null,
            "grid_template_areas": null,
            "grid_template_columns": null,
            "grid_template_rows": null,
            "height": null,
            "justify_content": null,
            "justify_items": null,
            "left": null,
            "margin": null,
            "max_height": null,
            "max_width": null,
            "min_height": null,
            "min_width": null,
            "object_fit": null,
            "object_position": null,
            "order": null,
            "overflow": null,
            "overflow_x": null,
            "overflow_y": null,
            "padding": null,
            "right": null,
            "top": null,
            "visibility": null,
            "width": null
          }
        },
        "22c46fac8cc641ebaaa1fdabdc7edd52": {
          "model_module": "@jupyter-widgets/base",
          "model_name": "LayoutModel",
          "model_module_version": "1.2.0",
          "state": {
            "_model_module": "@jupyter-widgets/base",
            "_model_module_version": "1.2.0",
            "_model_name": "LayoutModel",
            "_view_count": null,
            "_view_module": "@jupyter-widgets/base",
            "_view_module_version": "1.2.0",
            "_view_name": "LayoutView",
            "align_content": null,
            "align_items": null,
            "align_self": null,
            "border": null,
            "bottom": null,
            "display": null,
            "flex": null,
            "flex_flow": null,
            "grid_area": null,
            "grid_auto_columns": null,
            "grid_auto_flow": null,
            "grid_auto_rows": null,
            "grid_column": null,
            "grid_gap": null,
            "grid_row": null,
            "grid_template_areas": null,
            "grid_template_columns": null,
            "grid_template_rows": null,
            "height": null,
            "justify_content": null,
            "justify_items": null,
            "left": null,
            "margin": null,
            "max_height": null,
            "max_width": null,
            "min_height": null,
            "min_width": null,
            "object_fit": null,
            "object_position": null,
            "order": null,
            "overflow": null,
            "overflow_x": null,
            "overflow_y": null,
            "padding": null,
            "right": null,
            "top": null,
            "visibility": null,
            "width": null
          }
        },
        "bfc94797eb0e45fdab3be91ad721c674": {
          "model_module": "@jupyter-widgets/controls",
          "model_name": "DescriptionStyleModel",
          "model_module_version": "1.5.0",
          "state": {
            "_model_module": "@jupyter-widgets/controls",
            "_model_module_version": "1.5.0",
            "_model_name": "DescriptionStyleModel",
            "_view_count": null,
            "_view_module": "@jupyter-widgets/base",
            "_view_module_version": "1.2.0",
            "_view_name": "StyleView",
            "description_width": ""
          }
        },
        "75324a845cbe4ce3934fa3235aa5d83b": {
          "model_module": "@jupyter-widgets/base",
          "model_name": "LayoutModel",
          "model_module_version": "1.2.0",
          "state": {
            "_model_module": "@jupyter-widgets/base",
            "_model_module_version": "1.2.0",
            "_model_name": "LayoutModel",
            "_view_count": null,
            "_view_module": "@jupyter-widgets/base",
            "_view_module_version": "1.2.0",
            "_view_name": "LayoutView",
            "align_content": null,
            "align_items": null,
            "align_self": null,
            "border": null,
            "bottom": null,
            "display": null,
            "flex": null,
            "flex_flow": null,
            "grid_area": null,
            "grid_auto_columns": null,
            "grid_auto_flow": null,
            "grid_auto_rows": null,
            "grid_column": null,
            "grid_gap": null,
            "grid_row": null,
            "grid_template_areas": null,
            "grid_template_columns": null,
            "grid_template_rows": null,
            "height": null,
            "justify_content": null,
            "justify_items": null,
            "left": null,
            "margin": null,
            "max_height": null,
            "max_width": null,
            "min_height": null,
            "min_width": null,
            "object_fit": null,
            "object_position": null,
            "order": null,
            "overflow": null,
            "overflow_x": null,
            "overflow_y": null,
            "padding": null,
            "right": null,
            "top": null,
            "visibility": null,
            "width": null
          }
        },
        "5f29bc7326ee488ab09458358a597a38": {
          "model_module": "@jupyter-widgets/controls",
          "model_name": "ProgressStyleModel",
          "model_module_version": "1.5.0",
          "state": {
            "_model_module": "@jupyter-widgets/controls",
            "_model_module_version": "1.5.0",
            "_model_name": "ProgressStyleModel",
            "_view_count": null,
            "_view_module": "@jupyter-widgets/base",
            "_view_module_version": "1.2.0",
            "_view_name": "StyleView",
            "bar_color": null,
            "description_width": ""
          }
        },
        "2279246c7c754d838a58136c8510d888": {
          "model_module": "@jupyter-widgets/base",
          "model_name": "LayoutModel",
          "model_module_version": "1.2.0",
          "state": {
            "_model_module": "@jupyter-widgets/base",
            "_model_module_version": "1.2.0",
            "_model_name": "LayoutModel",
            "_view_count": null,
            "_view_module": "@jupyter-widgets/base",
            "_view_module_version": "1.2.0",
            "_view_name": "LayoutView",
            "align_content": null,
            "align_items": null,
            "align_self": null,
            "border": null,
            "bottom": null,
            "display": null,
            "flex": null,
            "flex_flow": null,
            "grid_area": null,
            "grid_auto_columns": null,
            "grid_auto_flow": null,
            "grid_auto_rows": null,
            "grid_column": null,
            "grid_gap": null,
            "grid_row": null,
            "grid_template_areas": null,
            "grid_template_columns": null,
            "grid_template_rows": null,
            "height": null,
            "justify_content": null,
            "justify_items": null,
            "left": null,
            "margin": null,
            "max_height": null,
            "max_width": null,
            "min_height": null,
            "min_width": null,
            "object_fit": null,
            "object_position": null,
            "order": null,
            "overflow": null,
            "overflow_x": null,
            "overflow_y": null,
            "padding": null,
            "right": null,
            "top": null,
            "visibility": null,
            "width": null
          }
        },
        "3212d1a6968848d2b84eb12bd423555f": {
          "model_module": "@jupyter-widgets/controls",
          "model_name": "DescriptionStyleModel",
          "model_module_version": "1.5.0",
          "state": {
            "_model_module": "@jupyter-widgets/controls",
            "_model_module_version": "1.5.0",
            "_model_name": "DescriptionStyleModel",
            "_view_count": null,
            "_view_module": "@jupyter-widgets/base",
            "_view_module_version": "1.2.0",
            "_view_name": "StyleView",
            "description_width": ""
          }
        },
        "da885a65373f40209b4bbff54c9d66e5": {
          "model_module": "@jupyter-widgets/controls",
          "model_name": "HBoxModel",
          "model_module_version": "1.5.0",
          "state": {
            "_dom_classes": [],
            "_model_module": "@jupyter-widgets/controls",
            "_model_module_version": "1.5.0",
            "_model_name": "HBoxModel",
            "_view_count": null,
            "_view_module": "@jupyter-widgets/controls",
            "_view_module_version": "1.5.0",
            "_view_name": "HBoxView",
            "box_style": "",
            "children": [
              "IPY_MODEL_e06c8723ce35447f873dc306d68485d4",
              "IPY_MODEL_8924b237334342dd9f11f95611c5f00c",
              "IPY_MODEL_8d4fd38ec9874f9c88fcb177b15b0487"
            ],
            "layout": "IPY_MODEL_a48f3d29acbd4742b2b597f591013d2d"
          }
        },
        "e06c8723ce35447f873dc306d68485d4": {
          "model_module": "@jupyter-widgets/controls",
          "model_name": "HTMLModel",
          "model_module_version": "1.5.0",
          "state": {
            "_dom_classes": [],
            "_model_module": "@jupyter-widgets/controls",
            "_model_module_version": "1.5.0",
            "_model_name": "HTMLModel",
            "_view_count": null,
            "_view_module": "@jupyter-widgets/controls",
            "_view_module_version": "1.5.0",
            "_view_name": "HTMLView",
            "description": "",
            "description_tooltip": null,
            "layout": "IPY_MODEL_0b13dbf301b64d3ea796837a3050528b",
            "placeholder": "​",
            "style": "IPY_MODEL_fc29d6032b9242449f4b4a28d97400f7",
            "value": "special_tokens_map.json: 100%"
          }
        },
        "8924b237334342dd9f11f95611c5f00c": {
          "model_module": "@jupyter-widgets/controls",
          "model_name": "FloatProgressModel",
          "model_module_version": "1.5.0",
          "state": {
            "_dom_classes": [],
            "_model_module": "@jupyter-widgets/controls",
            "_model_module_version": "1.5.0",
            "_model_name": "FloatProgressModel",
            "_view_count": null,
            "_view_module": "@jupyter-widgets/controls",
            "_view_module_version": "1.5.0",
            "_view_name": "ProgressView",
            "bar_style": "success",
            "description": "",
            "description_tooltip": null,
            "layout": "IPY_MODEL_0a1c41fd5c23432ca89a59c917121bd5",
            "max": 112,
            "min": 0,
            "orientation": "horizontal",
            "style": "IPY_MODEL_7fd219b8b97e429eb66921faf4ab730f",
            "value": 112
          }
        },
        "8d4fd38ec9874f9c88fcb177b15b0487": {
          "model_module": "@jupyter-widgets/controls",
          "model_name": "HTMLModel",
          "model_module_version": "1.5.0",
          "state": {
            "_dom_classes": [],
            "_model_module": "@jupyter-widgets/controls",
            "_model_module_version": "1.5.0",
            "_model_name": "HTMLModel",
            "_view_count": null,
            "_view_module": "@jupyter-widgets/controls",
            "_view_module_version": "1.5.0",
            "_view_name": "HTMLView",
            "description": "",
            "description_tooltip": null,
            "layout": "IPY_MODEL_3021831965494dd2b2c6fa8b7099ba71",
            "placeholder": "​",
            "style": "IPY_MODEL_183c8b5f0bbf41189f7e03a706a0ef9b",
            "value": " 112/112 [00:00&lt;00:00, 6.05kB/s]"
          }
        },
        "a48f3d29acbd4742b2b597f591013d2d": {
          "model_module": "@jupyter-widgets/base",
          "model_name": "LayoutModel",
          "model_module_version": "1.2.0",
          "state": {
            "_model_module": "@jupyter-widgets/base",
            "_model_module_version": "1.2.0",
            "_model_name": "LayoutModel",
            "_view_count": null,
            "_view_module": "@jupyter-widgets/base",
            "_view_module_version": "1.2.0",
            "_view_name": "LayoutView",
            "align_content": null,
            "align_items": null,
            "align_self": null,
            "border": null,
            "bottom": null,
            "display": null,
            "flex": null,
            "flex_flow": null,
            "grid_area": null,
            "grid_auto_columns": null,
            "grid_auto_flow": null,
            "grid_auto_rows": null,
            "grid_column": null,
            "grid_gap": null,
            "grid_row": null,
            "grid_template_areas": null,
            "grid_template_columns": null,
            "grid_template_rows": null,
            "height": null,
            "justify_content": null,
            "justify_items": null,
            "left": null,
            "margin": null,
            "max_height": null,
            "max_width": null,
            "min_height": null,
            "min_width": null,
            "object_fit": null,
            "object_position": null,
            "order": null,
            "overflow": null,
            "overflow_x": null,
            "overflow_y": null,
            "padding": null,
            "right": null,
            "top": null,
            "visibility": null,
            "width": null
          }
        },
        "0b13dbf301b64d3ea796837a3050528b": {
          "model_module": "@jupyter-widgets/base",
          "model_name": "LayoutModel",
          "model_module_version": "1.2.0",
          "state": {
            "_model_module": "@jupyter-widgets/base",
            "_model_module_version": "1.2.0",
            "_model_name": "LayoutModel",
            "_view_count": null,
            "_view_module": "@jupyter-widgets/base",
            "_view_module_version": "1.2.0",
            "_view_name": "LayoutView",
            "align_content": null,
            "align_items": null,
            "align_self": null,
            "border": null,
            "bottom": null,
            "display": null,
            "flex": null,
            "flex_flow": null,
            "grid_area": null,
            "grid_auto_columns": null,
            "grid_auto_flow": null,
            "grid_auto_rows": null,
            "grid_column": null,
            "grid_gap": null,
            "grid_row": null,
            "grid_template_areas": null,
            "grid_template_columns": null,
            "grid_template_rows": null,
            "height": null,
            "justify_content": null,
            "justify_items": null,
            "left": null,
            "margin": null,
            "max_height": null,
            "max_width": null,
            "min_height": null,
            "min_width": null,
            "object_fit": null,
            "object_position": null,
            "order": null,
            "overflow": null,
            "overflow_x": null,
            "overflow_y": null,
            "padding": null,
            "right": null,
            "top": null,
            "visibility": null,
            "width": null
          }
        },
        "fc29d6032b9242449f4b4a28d97400f7": {
          "model_module": "@jupyter-widgets/controls",
          "model_name": "DescriptionStyleModel",
          "model_module_version": "1.5.0",
          "state": {
            "_model_module": "@jupyter-widgets/controls",
            "_model_module_version": "1.5.0",
            "_model_name": "DescriptionStyleModel",
            "_view_count": null,
            "_view_module": "@jupyter-widgets/base",
            "_view_module_version": "1.2.0",
            "_view_name": "StyleView",
            "description_width": ""
          }
        },
        "0a1c41fd5c23432ca89a59c917121bd5": {
          "model_module": "@jupyter-widgets/base",
          "model_name": "LayoutModel",
          "model_module_version": "1.2.0",
          "state": {
            "_model_module": "@jupyter-widgets/base",
            "_model_module_version": "1.2.0",
            "_model_name": "LayoutModel",
            "_view_count": null,
            "_view_module": "@jupyter-widgets/base",
            "_view_module_version": "1.2.0",
            "_view_name": "LayoutView",
            "align_content": null,
            "align_items": null,
            "align_self": null,
            "border": null,
            "bottom": null,
            "display": null,
            "flex": null,
            "flex_flow": null,
            "grid_area": null,
            "grid_auto_columns": null,
            "grid_auto_flow": null,
            "grid_auto_rows": null,
            "grid_column": null,
            "grid_gap": null,
            "grid_row": null,
            "grid_template_areas": null,
            "grid_template_columns": null,
            "grid_template_rows": null,
            "height": null,
            "justify_content": null,
            "justify_items": null,
            "left": null,
            "margin": null,
            "max_height": null,
            "max_width": null,
            "min_height": null,
            "min_width": null,
            "object_fit": null,
            "object_position": null,
            "order": null,
            "overflow": null,
            "overflow_x": null,
            "overflow_y": null,
            "padding": null,
            "right": null,
            "top": null,
            "visibility": null,
            "width": null
          }
        },
        "7fd219b8b97e429eb66921faf4ab730f": {
          "model_module": "@jupyter-widgets/controls",
          "model_name": "ProgressStyleModel",
          "model_module_version": "1.5.0",
          "state": {
            "_model_module": "@jupyter-widgets/controls",
            "_model_module_version": "1.5.0",
            "_model_name": "ProgressStyleModel",
            "_view_count": null,
            "_view_module": "@jupyter-widgets/base",
            "_view_module_version": "1.2.0",
            "_view_name": "StyleView",
            "bar_color": null,
            "description_width": ""
          }
        },
        "3021831965494dd2b2c6fa8b7099ba71": {
          "model_module": "@jupyter-widgets/base",
          "model_name": "LayoutModel",
          "model_module_version": "1.2.0",
          "state": {
            "_model_module": "@jupyter-widgets/base",
            "_model_module_version": "1.2.0",
            "_model_name": "LayoutModel",
            "_view_count": null,
            "_view_module": "@jupyter-widgets/base",
            "_view_module_version": "1.2.0",
            "_view_name": "LayoutView",
            "align_content": null,
            "align_items": null,
            "align_self": null,
            "border": null,
            "bottom": null,
            "display": null,
            "flex": null,
            "flex_flow": null,
            "grid_area": null,
            "grid_auto_columns": null,
            "grid_auto_flow": null,
            "grid_auto_rows": null,
            "grid_column": null,
            "grid_gap": null,
            "grid_row": null,
            "grid_template_areas": null,
            "grid_template_columns": null,
            "grid_template_rows": null,
            "height": null,
            "justify_content": null,
            "justify_items": null,
            "left": null,
            "margin": null,
            "max_height": null,
            "max_width": null,
            "min_height": null,
            "min_width": null,
            "object_fit": null,
            "object_position": null,
            "order": null,
            "overflow": null,
            "overflow_x": null,
            "overflow_y": null,
            "padding": null,
            "right": null,
            "top": null,
            "visibility": null,
            "width": null
          }
        },
        "183c8b5f0bbf41189f7e03a706a0ef9b": {
          "model_module": "@jupyter-widgets/controls",
          "model_name": "DescriptionStyleModel",
          "model_module_version": "1.5.0",
          "state": {
            "_model_module": "@jupyter-widgets/controls",
            "_model_module_version": "1.5.0",
            "_model_name": "DescriptionStyleModel",
            "_view_count": null,
            "_view_module": "@jupyter-widgets/base",
            "_view_module_version": "1.2.0",
            "_view_name": "StyleView",
            "description_width": ""
          }
        },
        "2922b8e9678e4d76947351b7572ed5d7": {
          "model_module": "@jupyter-widgets/controls",
          "model_name": "HBoxModel",
          "model_module_version": "1.5.0",
          "state": {
            "_dom_classes": [],
            "_model_module": "@jupyter-widgets/controls",
            "_model_module_version": "1.5.0",
            "_model_name": "HBoxModel",
            "_view_count": null,
            "_view_module": "@jupyter-widgets/controls",
            "_view_module_version": "1.5.0",
            "_view_name": "HBoxView",
            "box_style": "",
            "children": [
              "IPY_MODEL_8aaf0ba4c8df4873856d679d205bbf35",
              "IPY_MODEL_985b2e1ab01540b9a7a0eddc72beca93",
              "IPY_MODEL_bc9e73df27c841af95bda8a86f49e3eb"
            ],
            "layout": "IPY_MODEL_a1989f4602a642ee8f13550e39bc4444"
          }
        },
        "8aaf0ba4c8df4873856d679d205bbf35": {
          "model_module": "@jupyter-widgets/controls",
          "model_name": "HTMLModel",
          "model_module_version": "1.5.0",
          "state": {
            "_dom_classes": [],
            "_model_module": "@jupyter-widgets/controls",
            "_model_module_version": "1.5.0",
            "_model_name": "HTMLModel",
            "_view_count": null,
            "_view_module": "@jupyter-widgets/controls",
            "_view_module_version": "1.5.0",
            "_view_name": "HTMLView",
            "description": "",
            "description_tooltip": null,
            "layout": "IPY_MODEL_4298621f6f4d4a388a38a81cec5d9269",
            "placeholder": "​",
            "style": "IPY_MODEL_b940b8c3e6e54c61b4fef995396c02fc",
            "value": "config.json: 100%"
          }
        },
        "985b2e1ab01540b9a7a0eddc72beca93": {
          "model_module": "@jupyter-widgets/controls",
          "model_name": "FloatProgressModel",
          "model_module_version": "1.5.0",
          "state": {
            "_dom_classes": [],
            "_model_module": "@jupyter-widgets/controls",
            "_model_module_version": "1.5.0",
            "_model_name": "FloatProgressModel",
            "_view_count": null,
            "_view_module": "@jupyter-widgets/controls",
            "_view_module_version": "1.5.0",
            "_view_name": "ProgressView",
            "bar_style": "success",
            "description": "",
            "description_tooltip": null,
            "layout": "IPY_MODEL_4199e73ae16f4d70baf1e44e9ca05b36",
            "max": 361,
            "min": 0,
            "orientation": "horizontal",
            "style": "IPY_MODEL_6cbc48833b2544a68d4717c4e336a460",
            "value": 361
          }
        },
        "bc9e73df27c841af95bda8a86f49e3eb": {
          "model_module": "@jupyter-widgets/controls",
          "model_name": "HTMLModel",
          "model_module_version": "1.5.0",
          "state": {
            "_dom_classes": [],
            "_model_module": "@jupyter-widgets/controls",
            "_model_module_version": "1.5.0",
            "_model_name": "HTMLModel",
            "_view_count": null,
            "_view_module": "@jupyter-widgets/controls",
            "_view_module_version": "1.5.0",
            "_view_name": "HTMLView",
            "description": "",
            "description_tooltip": null,
            "layout": "IPY_MODEL_924f76573a154a7b961dc936bba4c86f",
            "placeholder": "​",
            "style": "IPY_MODEL_1d6fa8662a284ac98904148b2c1a90c8",
            "value": " 361/361 [00:00&lt;00:00, 13.9kB/s]"
          }
        },
        "a1989f4602a642ee8f13550e39bc4444": {
          "model_module": "@jupyter-widgets/base",
          "model_name": "LayoutModel",
          "model_module_version": "1.2.0",
          "state": {
            "_model_module": "@jupyter-widgets/base",
            "_model_module_version": "1.2.0",
            "_model_name": "LayoutModel",
            "_view_count": null,
            "_view_module": "@jupyter-widgets/base",
            "_view_module_version": "1.2.0",
            "_view_name": "LayoutView",
            "align_content": null,
            "align_items": null,
            "align_self": null,
            "border": null,
            "bottom": null,
            "display": null,
            "flex": null,
            "flex_flow": null,
            "grid_area": null,
            "grid_auto_columns": null,
            "grid_auto_flow": null,
            "grid_auto_rows": null,
            "grid_column": null,
            "grid_gap": null,
            "grid_row": null,
            "grid_template_areas": null,
            "grid_template_columns": null,
            "grid_template_rows": null,
            "height": null,
            "justify_content": null,
            "justify_items": null,
            "left": null,
            "margin": null,
            "max_height": null,
            "max_width": null,
            "min_height": null,
            "min_width": null,
            "object_fit": null,
            "object_position": null,
            "order": null,
            "overflow": null,
            "overflow_x": null,
            "overflow_y": null,
            "padding": null,
            "right": null,
            "top": null,
            "visibility": null,
            "width": null
          }
        },
        "4298621f6f4d4a388a38a81cec5d9269": {
          "model_module": "@jupyter-widgets/base",
          "model_name": "LayoutModel",
          "model_module_version": "1.2.0",
          "state": {
            "_model_module": "@jupyter-widgets/base",
            "_model_module_version": "1.2.0",
            "_model_name": "LayoutModel",
            "_view_count": null,
            "_view_module": "@jupyter-widgets/base",
            "_view_module_version": "1.2.0",
            "_view_name": "LayoutView",
            "align_content": null,
            "align_items": null,
            "align_self": null,
            "border": null,
            "bottom": null,
            "display": null,
            "flex": null,
            "flex_flow": null,
            "grid_area": null,
            "grid_auto_columns": null,
            "grid_auto_flow": null,
            "grid_auto_rows": null,
            "grid_column": null,
            "grid_gap": null,
            "grid_row": null,
            "grid_template_areas": null,
            "grid_template_columns": null,
            "grid_template_rows": null,
            "height": null,
            "justify_content": null,
            "justify_items": null,
            "left": null,
            "margin": null,
            "max_height": null,
            "max_width": null,
            "min_height": null,
            "min_width": null,
            "object_fit": null,
            "object_position": null,
            "order": null,
            "overflow": null,
            "overflow_x": null,
            "overflow_y": null,
            "padding": null,
            "right": null,
            "top": null,
            "visibility": null,
            "width": null
          }
        },
        "b940b8c3e6e54c61b4fef995396c02fc": {
          "model_module": "@jupyter-widgets/controls",
          "model_name": "DescriptionStyleModel",
          "model_module_version": "1.5.0",
          "state": {
            "_model_module": "@jupyter-widgets/controls",
            "_model_module_version": "1.5.0",
            "_model_name": "DescriptionStyleModel",
            "_view_count": null,
            "_view_module": "@jupyter-widgets/base",
            "_view_module_version": "1.2.0",
            "_view_name": "StyleView",
            "description_width": ""
          }
        },
        "4199e73ae16f4d70baf1e44e9ca05b36": {
          "model_module": "@jupyter-widgets/base",
          "model_name": "LayoutModel",
          "model_module_version": "1.2.0",
          "state": {
            "_model_module": "@jupyter-widgets/base",
            "_model_module_version": "1.2.0",
            "_model_name": "LayoutModel",
            "_view_count": null,
            "_view_module": "@jupyter-widgets/base",
            "_view_module_version": "1.2.0",
            "_view_name": "LayoutView",
            "align_content": null,
            "align_items": null,
            "align_self": null,
            "border": null,
            "bottom": null,
            "display": null,
            "flex": null,
            "flex_flow": null,
            "grid_area": null,
            "grid_auto_columns": null,
            "grid_auto_flow": null,
            "grid_auto_rows": null,
            "grid_column": null,
            "grid_gap": null,
            "grid_row": null,
            "grid_template_areas": null,
            "grid_template_columns": null,
            "grid_template_rows": null,
            "height": null,
            "justify_content": null,
            "justify_items": null,
            "left": null,
            "margin": null,
            "max_height": null,
            "max_width": null,
            "min_height": null,
            "min_width": null,
            "object_fit": null,
            "object_position": null,
            "order": null,
            "overflow": null,
            "overflow_x": null,
            "overflow_y": null,
            "padding": null,
            "right": null,
            "top": null,
            "visibility": null,
            "width": null
          }
        },
        "6cbc48833b2544a68d4717c4e336a460": {
          "model_module": "@jupyter-widgets/controls",
          "model_name": "ProgressStyleModel",
          "model_module_version": "1.5.0",
          "state": {
            "_model_module": "@jupyter-widgets/controls",
            "_model_module_version": "1.5.0",
            "_model_name": "ProgressStyleModel",
            "_view_count": null,
            "_view_module": "@jupyter-widgets/base",
            "_view_module_version": "1.2.0",
            "_view_name": "StyleView",
            "bar_color": null,
            "description_width": ""
          }
        },
        "924f76573a154a7b961dc936bba4c86f": {
          "model_module": "@jupyter-widgets/base",
          "model_name": "LayoutModel",
          "model_module_version": "1.2.0",
          "state": {
            "_model_module": "@jupyter-widgets/base",
            "_model_module_version": "1.2.0",
            "_model_name": "LayoutModel",
            "_view_count": null,
            "_view_module": "@jupyter-widgets/base",
            "_view_module_version": "1.2.0",
            "_view_name": "LayoutView",
            "align_content": null,
            "align_items": null,
            "align_self": null,
            "border": null,
            "bottom": null,
            "display": null,
            "flex": null,
            "flex_flow": null,
            "grid_area": null,
            "grid_auto_columns": null,
            "grid_auto_flow": null,
            "grid_auto_rows": null,
            "grid_column": null,
            "grid_gap": null,
            "grid_row": null,
            "grid_template_areas": null,
            "grid_template_columns": null,
            "grid_template_rows": null,
            "height": null,
            "justify_content": null,
            "justify_items": null,
            "left": null,
            "margin": null,
            "max_height": null,
            "max_width": null,
            "min_height": null,
            "min_width": null,
            "object_fit": null,
            "object_position": null,
            "order": null,
            "overflow": null,
            "overflow_x": null,
            "overflow_y": null,
            "padding": null,
            "right": null,
            "top": null,
            "visibility": null,
            "width": null
          }
        },
        "1d6fa8662a284ac98904148b2c1a90c8": {
          "model_module": "@jupyter-widgets/controls",
          "model_name": "DescriptionStyleModel",
          "model_module_version": "1.5.0",
          "state": {
            "_model_module": "@jupyter-widgets/controls",
            "_model_module_version": "1.5.0",
            "_model_name": "DescriptionStyleModel",
            "_view_count": null,
            "_view_module": "@jupyter-widgets/base",
            "_view_module_version": "1.2.0",
            "_view_name": "StyleView",
            "description_width": ""
          }
        },
        "48d848211999483b865a117c5e7a7f29": {
          "model_module": "@jupyter-widgets/controls",
          "model_name": "HBoxModel",
          "model_module_version": "1.5.0",
          "state": {
            "_dom_classes": [],
            "_model_module": "@jupyter-widgets/controls",
            "_model_module_version": "1.5.0",
            "_model_name": "HBoxModel",
            "_view_count": null,
            "_view_module": "@jupyter-widgets/controls",
            "_view_module_version": "1.5.0",
            "_view_name": "HBoxView",
            "box_style": "",
            "children": [
              "IPY_MODEL_8efa91ce2c0348dfac67c2b658ee55ce",
              "IPY_MODEL_793ce664743e4679a019b0fe28bce309",
              "IPY_MODEL_adb292376032402f8bd0fd355f8c5fd4"
            ],
            "layout": "IPY_MODEL_8828561437204d2b9c246f8bb142e0d0"
          }
        },
        "8efa91ce2c0348dfac67c2b658ee55ce": {
          "model_module": "@jupyter-widgets/controls",
          "model_name": "HTMLModel",
          "model_module_version": "1.5.0",
          "state": {
            "_dom_classes": [],
            "_model_module": "@jupyter-widgets/controls",
            "_model_module_version": "1.5.0",
            "_model_name": "HTMLModel",
            "_view_count": null,
            "_view_module": "@jupyter-widgets/controls",
            "_view_module_version": "1.5.0",
            "_view_name": "HTMLView",
            "description": "",
            "description_tooltip": null,
            "layout": "IPY_MODEL_cfd93451031541179d70293f2edd2be7",
            "placeholder": "​",
            "style": "IPY_MODEL_7891a00c6fa9413ab2dde7f06417de8a",
            "value": "pytorch_model.bin: 100%"
          }
        },
        "793ce664743e4679a019b0fe28bce309": {
          "model_module": "@jupyter-widgets/controls",
          "model_name": "FloatProgressModel",
          "model_module_version": "1.5.0",
          "state": {
            "_dom_classes": [],
            "_model_module": "@jupyter-widgets/controls",
            "_model_module_version": "1.5.0",
            "_model_name": "FloatProgressModel",
            "_view_count": null,
            "_view_module": "@jupyter-widgets/controls",
            "_view_module_version": "1.5.0",
            "_view_name": "ProgressView",
            "bar_style": "success",
            "description": "",
            "description_tooltip": null,
            "layout": "IPY_MODEL_4285eeba99374beda4980c75445d1917",
            "max": 1684058277,
            "min": 0,
            "orientation": "horizontal",
            "style": "IPY_MODEL_4d1dda4f83ea46778b1868a26e0561b3",
            "value": 1684058277
          }
        },
        "adb292376032402f8bd0fd355f8c5fd4": {
          "model_module": "@jupyter-widgets/controls",
          "model_name": "HTMLModel",
          "model_module_version": "1.5.0",
          "state": {
            "_dom_classes": [],
            "_model_module": "@jupyter-widgets/controls",
            "_model_module_version": "1.5.0",
            "_model_name": "HTMLModel",
            "_view_count": null,
            "_view_module": "@jupyter-widgets/controls",
            "_view_module_version": "1.5.0",
            "_view_name": "HTMLView",
            "description": "",
            "description_tooltip": null,
            "layout": "IPY_MODEL_deff05a68ebb462f8277b19693de6c16",
            "placeholder": "​",
            "style": "IPY_MODEL_30990ec5ea84444bb9564a0037f633c4",
            "value": " 1.68G/1.68G [00:20&lt;00:00, 80.7MB/s]"
          }
        },
        "8828561437204d2b9c246f8bb142e0d0": {
          "model_module": "@jupyter-widgets/base",
          "model_name": "LayoutModel",
          "model_module_version": "1.2.0",
          "state": {
            "_model_module": "@jupyter-widgets/base",
            "_model_module_version": "1.2.0",
            "_model_name": "LayoutModel",
            "_view_count": null,
            "_view_module": "@jupyter-widgets/base",
            "_view_module_version": "1.2.0",
            "_view_name": "LayoutView",
            "align_content": null,
            "align_items": null,
            "align_self": null,
            "border": null,
            "bottom": null,
            "display": null,
            "flex": null,
            "flex_flow": null,
            "grid_area": null,
            "grid_auto_columns": null,
            "grid_auto_flow": null,
            "grid_auto_rows": null,
            "grid_column": null,
            "grid_gap": null,
            "grid_row": null,
            "grid_template_areas": null,
            "grid_template_columns": null,
            "grid_template_rows": null,
            "height": null,
            "justify_content": null,
            "justify_items": null,
            "left": null,
            "margin": null,
            "max_height": null,
            "max_width": null,
            "min_height": null,
            "min_width": null,
            "object_fit": null,
            "object_position": null,
            "order": null,
            "overflow": null,
            "overflow_x": null,
            "overflow_y": null,
            "padding": null,
            "right": null,
            "top": null,
            "visibility": null,
            "width": null
          }
        },
        "cfd93451031541179d70293f2edd2be7": {
          "model_module": "@jupyter-widgets/base",
          "model_name": "LayoutModel",
          "model_module_version": "1.2.0",
          "state": {
            "_model_module": "@jupyter-widgets/base",
            "_model_module_version": "1.2.0",
            "_model_name": "LayoutModel",
            "_view_count": null,
            "_view_module": "@jupyter-widgets/base",
            "_view_module_version": "1.2.0",
            "_view_name": "LayoutView",
            "align_content": null,
            "align_items": null,
            "align_self": null,
            "border": null,
            "bottom": null,
            "display": null,
            "flex": null,
            "flex_flow": null,
            "grid_area": null,
            "grid_auto_columns": null,
            "grid_auto_flow": null,
            "grid_auto_rows": null,
            "grid_column": null,
            "grid_gap": null,
            "grid_row": null,
            "grid_template_areas": null,
            "grid_template_columns": null,
            "grid_template_rows": null,
            "height": null,
            "justify_content": null,
            "justify_items": null,
            "left": null,
            "margin": null,
            "max_height": null,
            "max_width": null,
            "min_height": null,
            "min_width": null,
            "object_fit": null,
            "object_position": null,
            "order": null,
            "overflow": null,
            "overflow_x": null,
            "overflow_y": null,
            "padding": null,
            "right": null,
            "top": null,
            "visibility": null,
            "width": null
          }
        },
        "7891a00c6fa9413ab2dde7f06417de8a": {
          "model_module": "@jupyter-widgets/controls",
          "model_name": "DescriptionStyleModel",
          "model_module_version": "1.5.0",
          "state": {
            "_model_module": "@jupyter-widgets/controls",
            "_model_module_version": "1.5.0",
            "_model_name": "DescriptionStyleModel",
            "_view_count": null,
            "_view_module": "@jupyter-widgets/base",
            "_view_module_version": "1.2.0",
            "_view_name": "StyleView",
            "description_width": ""
          }
        },
        "4285eeba99374beda4980c75445d1917": {
          "model_module": "@jupyter-widgets/base",
          "model_name": "LayoutModel",
          "model_module_version": "1.2.0",
          "state": {
            "_model_module": "@jupyter-widgets/base",
            "_model_module_version": "1.2.0",
            "_model_name": "LayoutModel",
            "_view_count": null,
            "_view_module": "@jupyter-widgets/base",
            "_view_module_version": "1.2.0",
            "_view_name": "LayoutView",
            "align_content": null,
            "align_items": null,
            "align_self": null,
            "border": null,
            "bottom": null,
            "display": null,
            "flex": null,
            "flex_flow": null,
            "grid_area": null,
            "grid_auto_columns": null,
            "grid_auto_flow": null,
            "grid_auto_rows": null,
            "grid_column": null,
            "grid_gap": null,
            "grid_row": null,
            "grid_template_areas": null,
            "grid_template_columns": null,
            "grid_template_rows": null,
            "height": null,
            "justify_content": null,
            "justify_items": null,
            "left": null,
            "margin": null,
            "max_height": null,
            "max_width": null,
            "min_height": null,
            "min_width": null,
            "object_fit": null,
            "object_position": null,
            "order": null,
            "overflow": null,
            "overflow_x": null,
            "overflow_y": null,
            "padding": null,
            "right": null,
            "top": null,
            "visibility": null,
            "width": null
          }
        },
        "4d1dda4f83ea46778b1868a26e0561b3": {
          "model_module": "@jupyter-widgets/controls",
          "model_name": "ProgressStyleModel",
          "model_module_version": "1.5.0",
          "state": {
            "_model_module": "@jupyter-widgets/controls",
            "_model_module_version": "1.5.0",
            "_model_name": "ProgressStyleModel",
            "_view_count": null,
            "_view_module": "@jupyter-widgets/base",
            "_view_module_version": "1.2.0",
            "_view_name": "StyleView",
            "bar_color": null,
            "description_width": ""
          }
        },
        "deff05a68ebb462f8277b19693de6c16": {
          "model_module": "@jupyter-widgets/base",
          "model_name": "LayoutModel",
          "model_module_version": "1.2.0",
          "state": {
            "_model_module": "@jupyter-widgets/base",
            "_model_module_version": "1.2.0",
            "_model_name": "LayoutModel",
            "_view_count": null,
            "_view_module": "@jupyter-widgets/base",
            "_view_module_version": "1.2.0",
            "_view_name": "LayoutView",
            "align_content": null,
            "align_items": null,
            "align_self": null,
            "border": null,
            "bottom": null,
            "display": null,
            "flex": null,
            "flex_flow": null,
            "grid_area": null,
            "grid_auto_columns": null,
            "grid_auto_flow": null,
            "grid_auto_rows": null,
            "grid_column": null,
            "grid_gap": null,
            "grid_row": null,
            "grid_template_areas": null,
            "grid_template_columns": null,
            "grid_template_rows": null,
            "height": null,
            "justify_content": null,
            "justify_items": null,
            "left": null,
            "margin": null,
            "max_height": null,
            "max_width": null,
            "min_height": null,
            "min_width": null,
            "object_fit": null,
            "object_position": null,
            "order": null,
            "overflow": null,
            "overflow_x": null,
            "overflow_y": null,
            "padding": null,
            "right": null,
            "top": null,
            "visibility": null,
            "width": null
          }
        },
        "30990ec5ea84444bb9564a0037f633c4": {
          "model_module": "@jupyter-widgets/controls",
          "model_name": "DescriptionStyleModel",
          "model_module_version": "1.5.0",
          "state": {
            "_model_module": "@jupyter-widgets/controls",
            "_model_module_version": "1.5.0",
            "_model_name": "DescriptionStyleModel",
            "_view_count": null,
            "_view_module": "@jupyter-widgets/base",
            "_view_module_version": "1.2.0",
            "_view_name": "StyleView",
            "description_width": ""
          }
        }
      }
    }
  },
  "nbformat": 4,
  "nbformat_minor": 0
}