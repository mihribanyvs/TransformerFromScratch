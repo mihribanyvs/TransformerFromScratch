{
 "cells": [
  {
   "cell_type": "code",
   "execution_count": null,
   "metadata": {},
   "outputs": [],
   "source": [
    "import torch\n"
   ]
  },
  {
   "cell_type": "code",
   "execution_count": null,
   "metadata": {},
   "outputs": [],
   "source": [
    "torch.load('model')"
   ]
  },
  {
   "cell_type": "code",
   "execution_count": null,
   "metadata": {},
   "outputs": [],
   "source": [
    "n = 2\n",
    "predicted_angles2 = model.forward(embeddings[n,:,:], create_mask(indices = n))[:lengths[n],:]#embedding, tensor, what attention\n",
    "\n",
    "#predicted_angles2\n",
    "angles_new2 =predicted_angles2.T*(180/np.pi)\n",
    "angles_new2\n",
    "torch.save(angles_new2 ,'predictions/predict_1722.pt' )"
   ]
  }
 ],
 "metadata": {
  "language_info": {
   "name": "python"
  }
 },
 "nbformat": 4,
 "nbformat_minor": 2
}
