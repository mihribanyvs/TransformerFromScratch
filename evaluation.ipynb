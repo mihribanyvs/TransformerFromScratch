{
 "cells": [
  {
   "cell_type": "code",
   "execution_count": null,
   "metadata": {},
   "outputs": [],
   "source": [
    "import torch\n",
    "import transformer_model\n",
    "import pandas as pd\n",
    "import numpy as np"
   ]
  },
  {
   "cell_type": "code",
   "execution_count": null,
   "metadata": {},
   "outputs": [],
   "source": [
    "#Device set to gpu\n",
    "device = torch.device(\"cuda\" if torch.cuda.is_available() else \"cpu\")\n",
    "device"
   ]
  },
  {
   "cell_type": "code",
   "execution_count": null,
   "metadata": {},
   "outputs": [],
   "source": [
    "df = pd.read_csv('data_processed/alphafold_length.csv')\n",
    "pisces_embeddings = torch.load('data_processed/alphafold_training/embeddings.pt')"
   ]
  },
  {
   "cell_type": "code",
   "execution_count": null,
   "metadata": {},
   "outputs": [],
   "source": [
    "lengths = torch.tensor(df['length'].values)\n",
    "def create_mask(indices):\n",
    "    mask = torch.arange(129) < lengths[indices]\n",
    "    mask = mask.to(device) #Loading the mask to the device\n",
    "    return mask"
   ]
  },
  {
   "cell_type": "markdown",
   "metadata": {},
   "source": [
    "### Using the trained models to predict spesific proteins"
   ]
  },
  {
   "cell_type": "code",
   "execution_count": null,
   "metadata": {},
   "outputs": [],
   "source": [
    "#Parameters used for the training\n",
    "feed_forward_dim1 = 512 #FFNN layer 1\n",
    "feed_forward_dim2 = 256 #FFNN layer 2\n",
    "num_epochs = 200\n",
    "dropout_rate = 0.1\n",
    "\n",
    "#Embedding dimension coming from Prot-bert\n",
    "D = 1024\n",
    "\n",
    "n = 1499\n",
    "embedding = pisces_embeddings[n,:,:]\n",
    "\n",
    "model = transformer_model.TransformerModel(embed_dim=D, feed_forward_dim1=feed_forward_dim1, feed_forward_dim2= feed_forward_dim2, dropout_rate = dropout_rate).to(device)\n",
    "model.load_state_dict(torch.load('predictions_pisces/full_200ep_AdamW/model_postraining_full_200ep_01.pt'))\n",
    "model.eval()\n",
    "attention_mask = torch.matmul((create_mask(n)).type(torch.float32).reshape(129,1),torch.ones((1,129)).to(device))\n",
    "predicted_angles = model.forward(embedding, attention_mask)\n",
    "angles_new =predicted_angles.T*(180/np.pi)\n",
    "torch.save(angles_new,\"predictions_pisces/full_200ep_AdamW/predicted_angle_alphafold_full_1499.pt\")"
   ]
  }
 ],
 "metadata": {
  "language_info": {
   "name": "python"
  }
 },
 "nbformat": 4,
 "nbformat_minor": 2
}
