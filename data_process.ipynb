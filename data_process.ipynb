{
 "cells": [
  {
   "cell_type": "code",
   "execution_count": 10,
   "id": "f7a7e495-8590-4746-9145-9cc794aebd86",
   "metadata": {},
   "outputs": [
    {
     "name": "stdout",
     "output_type": "stream",
     "text": [
      "AF-Q5ACL9-F1-model_v4.cif\n",
      "AF-Q5ACL9-F1-model_v4.\n",
      "AF-Q5ACL9-F1-model_v4.cif\n",
      "AF-Q5ACL9-F1-model_v4.\n",
      "AF-Q5ACL9-F1-model_v4.cif\n",
      "AF-Q5ACL9-F1-model_v4.\n",
      "AF-Q5ACL9-F1-model_v4.cif\n",
      "AF-Q5ACL9-F1-model_v4.\n",
      "AF-Q5ACL9-F1-model_v4.cif\n",
      "AF-Q5ACL9-F1-model_v4.\n"
     ]
    }
   ],
   "source": [
    "import os\n",
    "i = 0\n",
    "folder_path = \"./All_data/UP000000559_237561_CANAL_v4/cif\"\n",
    "for item in os.listdir(folder_path):\n",
    "    while i < 5:\n",
    "        item_path = os.path.join(folder_path, item)\n",
    "        print(item)\n",
    "        item_model = item.replace(\"cif\",\"\")\n",
    "        print(item_model)\n",
    "        i += 1"
   ]
  },
  {
   "cell_type": "code",
   "execution_count": null,
   "id": "c59044f4",
   "metadata": {},
   "outputs": [],
   "source": [
    "from Bio.PDB import PDBList\n",
    "from Bio.PDB.MMCIFParser import MMCIFParser\n",
    "\n",
    "pdbl = PDBList()\n",
    "import os\n",
    "import glob\n",
    "import shutil\n",
    "\n",
    "# Define the source directory containing the files\n",
    "source_dir = '/path/to/your/source_directory'\n",
    "\n",
    "# Define the target directory where the filtered files will be moved\n",
    "target_dir = '/path/to/your/target_directory'\n",
    "\n",
    "# Ensure the target directory exists, if not, create it\n",
    "os.makedirs(target_dir, exist_ok=True)\n",
    "\n",
    "\n",
    "\n",
    "# Define a function to determine if a file meets the filtering criteria\n",
    "def filter_criteria(file_path,file_model):\n",
    "    #pdbl.retrieve_pdb_file(\"3goe\", file_format='mmCif', pdir=\".\")\n",
    "    pdbl.retrieve_pdb_file(file_path, file_format='mmCif', pdir=\".\")\n",
    "    # import the needed class\n",
    "    # instantiate the class to prepare the parser\n",
    "    cif_parser = MMCIFParser()\n",
    "    # load the structure to an object\n",
    "    structure = cif_parser.get_structure(file_model, file_path)\n",
    "    #structure = cif_parser.get_structure(\"3goe\", \"3goe.cif\")\n",
    "    if 50 <= len(structure[0][\"A\"]) <= 100:\n",
    "        shutil.move(file_path, target_dir)\n",
    "        print(f\"Moved file: {file_path} to {target_dir}\")\n",
    "\n",
    "for item in os.listdir(source_dir):\n",
    "    item_path = os.path.join(source_dir, item)\n",
    "    item_model = item.replace(\".cif\",\"\")"
   ]
  },
  {
   "cell_type": "markdown",
   "id": "0a2a6481",
   "metadata": {},
   "source": [
    "Each folder multiple .cif \\\n",
    "each .cif folder contains a file (name without the cif) \\\n",
    "through this cif file find the sequence number between 50 and 100 and put them in another file \\\n",
    "meanwhile maybe create a dataframe to keep track of what is the current file contain and the sequence size \n",
    "\n",
    "for each file in the folder create a dataframe consisting of sequences and another dataframe consisting of the angles \\\n",
    "for training use these two dataframes \n"
   ]
  },
  {
   "cell_type": "code",
   "execution_count": null,
   "id": "b4b931e6",
   "metadata": {},
   "outputs": [],
   "source": [
    "df_files = {\"com_name\":[\"Arabidopsis\",\"Nematode worm\",\"C. albicans\",\"Zebrafish\",\"Dictyostelium\",\"Fruit fly\",\n",
    "\"E. coli\",\"Soybean\",\"Human\",\"M. jannaschii\",\"Mouse\",\"Asian rice\",\"Rat\",\"Budding yeast\",\"Fission yeast\",\"Maize\"],\"file_name\":[\"UP000006548\",\"UP000001940\",\n",
    "\"UP000000559\",\"UP000000437\",\"UP000002195\",\"UP000000803\",\"UP000000625\",\"UP000008827\",\"UP000005640\",\"UP000000805\",\"UP000000589\",\"UP000059680\",\"UP000002494\",\n",
    "\"UP000002311\",\"UP000002485\",\"UP000007305\"],\"sel_no_seqs\":[]}\n",
    "\n",
    "processed_file = {\"seq_id\":[],\"file_name\":[],\"cif_name\":[],\"seq_length\":[]}"
   ]
  }
 ],
 "metadata": {
  "kernelspec": {
   "display_name": "Python 3 (ipykernel)",
   "language": "python",
   "name": "python3"
  },
  "language_info": {
   "codemirror_mode": {
    "name": "ipython",
    "version": 3
   },
   "file_extension": ".py",
   "mimetype": "text/x-python",
   "name": "python",
   "nbconvert_exporter": "python",
   "pygments_lexer": "ipython3",
   "version": "3.11.9"
  }
 },
 "nbformat": 4,
 "nbformat_minor": 5
}
