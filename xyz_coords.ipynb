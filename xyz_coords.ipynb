{
  "cells": [
    {
      "cell_type": "markdown",
      "metadata": {
        "id": "RxLr3K4MCZZa"
      },
      "source": [
        "##Installation of the libraries"
      ]
    },
    {
      "cell_type": "code",
      "execution_count": null,
      "metadata": {
        "id": "WOpqGFLLtdTJ"
      },
      "outputs": [],
      "source": [
        "!pip install -q transformers"
      ]
    },
    {
      "cell_type": "code",
      "execution_count": null,
      "metadata": {
        "colab": {
          "base_uri": "https://localhost:8080/"
        },
        "id": "Dqat9Mqke5_y",
        "outputId": "28d190ec-c3a3-4e1d-fee9-55ef3ee47012"
      },
      "outputs": [
        {
          "output_type": "stream",
          "name": "stdout",
          "text": [
            "Requirement already satisfied: biopython in /usr/local/lib/python3.10/dist-packages (1.83)\n",
            "Requirement already satisfied: numpy in /usr/local/lib/python3.10/dist-packages (from biopython) (1.25.2)\n"
          ]
        }
      ],
      "source": [
        "!pip install biopython"
      ]
    },
    {
      "cell_type": "code",
      "execution_count": null,
      "metadata": {
        "colab": {
          "base_uri": "https://localhost:8080/"
        },
        "id": "2dcG5B0v7sNw",
        "outputId": "80b9c2fe-7342-4717-cc9b-bc56aa0c60e8"
      },
      "outputs": [
        {
          "output_type": "stream",
          "name": "stdout",
          "text": [
            "Requirement already satisfied: torch in /usr/local/lib/python3.10/dist-packages (2.3.0+cu121)\n",
            "Requirement already satisfied: filelock in /usr/local/lib/python3.10/dist-packages (from torch) (3.14.0)\n",
            "Requirement already satisfied: typing-extensions>=4.8.0 in /usr/local/lib/python3.10/dist-packages (from torch) (4.11.0)\n",
            "Requirement already satisfied: sympy in /usr/local/lib/python3.10/dist-packages (from torch) (1.12)\n",
            "Requirement already satisfied: networkx in /usr/local/lib/python3.10/dist-packages (from torch) (3.3)\n",
            "Requirement already satisfied: jinja2 in /usr/local/lib/python3.10/dist-packages (from torch) (3.1.4)\n",
            "Requirement already satisfied: fsspec in /usr/local/lib/python3.10/dist-packages (from torch) (2023.6.0)\n",
            "Requirement already satisfied: nvidia-cuda-nvrtc-cu12==12.1.105 in /usr/local/lib/python3.10/dist-packages (from torch) (12.1.105)\n",
            "Requirement already satisfied: nvidia-cuda-runtime-cu12==12.1.105 in /usr/local/lib/python3.10/dist-packages (from torch) (12.1.105)\n",
            "Requirement already satisfied: nvidia-cuda-cupti-cu12==12.1.105 in /usr/local/lib/python3.10/dist-packages (from torch) (12.1.105)\n",
            "Requirement already satisfied: nvidia-cudnn-cu12==8.9.2.26 in /usr/local/lib/python3.10/dist-packages (from torch) (8.9.2.26)\n",
            "Requirement already satisfied: nvidia-cublas-cu12==12.1.3.1 in /usr/local/lib/python3.10/dist-packages (from torch) (12.1.3.1)\n",
            "Requirement already satisfied: nvidia-cufft-cu12==11.0.2.54 in /usr/local/lib/python3.10/dist-packages (from torch) (11.0.2.54)\n",
            "Requirement already satisfied: nvidia-curand-cu12==10.3.2.106 in /usr/local/lib/python3.10/dist-packages (from torch) (10.3.2.106)\n",
            "Requirement already satisfied: nvidia-cusolver-cu12==11.4.5.107 in /usr/local/lib/python3.10/dist-packages (from torch) (11.4.5.107)\n",
            "Requirement already satisfied: nvidia-cusparse-cu12==12.1.0.106 in /usr/local/lib/python3.10/dist-packages (from torch) (12.1.0.106)\n",
            "Requirement already satisfied: nvidia-nccl-cu12==2.20.5 in /usr/local/lib/python3.10/dist-packages (from torch) (2.20.5)\n",
            "Requirement already satisfied: nvidia-nvtx-cu12==12.1.105 in /usr/local/lib/python3.10/dist-packages (from torch) (12.1.105)\n",
            "Requirement already satisfied: triton==2.3.0 in /usr/local/lib/python3.10/dist-packages (from torch) (2.3.0)\n",
            "Requirement already satisfied: nvidia-nvjitlink-cu12 in /usr/local/lib/python3.10/dist-packages (from nvidia-cusolver-cu12==11.4.5.107->torch) (12.5.40)\n",
            "Requirement already satisfied: MarkupSafe>=2.0 in /usr/local/lib/python3.10/dist-packages (from jinja2->torch) (2.1.5)\n",
            "Requirement already satisfied: mpmath>=0.19 in /usr/local/lib/python3.10/dist-packages (from sympy->torch) (1.3.0)\n"
          ]
        }
      ],
      "source": [
        "#!pip3 uninstall --yes torch torchaudio torchvision torchtext torchdata\n",
        "!pip3 install torch"
      ]
    },
    {
      "cell_type": "markdown",
      "metadata": {
        "id": "LH_JLvuAIbf-"
      },
      "source": [
        "Torch optimization."
      ]
    },
    {
      "cell_type": "markdown",
      "metadata": {
        "id": "Ajkx476vCNeg"
      },
      "source": [
        "##All libraries needed for training"
      ]
    },
    {
      "cell_type": "code",
      "execution_count": null,
      "metadata": {
        "id": "HdSZUMUnOd6t"
      },
      "outputs": [],
      "source": [
        "import os\n",
        "import math\n",
        "import numpy as np\n",
        "import random\n",
        "import logging\n",
        "\n",
        "# Bring in PyTorch\n",
        "import torch\n",
        "import torch.nn as nn\n",
        "import torch.optim as optim\n",
        "# Most of the examples have typing on the signatures for readability\n",
        "from typing import Optional, Callable, List, Tuple\n",
        "from Bio import SeqIO\n",
        "# For data loading\n",
        "from torch.utils.data import Dataset, IterableDataset, TensorDataset, DataLoader\n",
        "import json\n",
        "import glob\n",
        "import gzip\n",
        "import bz2\n",
        "\n",
        "# For progress and timing\n",
        "from tqdm import tqdm\n",
        "import time\n",
        "import shutil\n",
        "from Bio.PDB import PDBList\n",
        "from Bio.PDB.MMCIFParser import MMCIFParser\n",
        "import re"
      ]
    },
    {
      "cell_type": "code",
      "execution_count": null,
      "metadata": {
        "id": "MLizYwG0Iaf_"
      },
      "outputs": [],
      "source": [
        "device = torch.device(\"cuda\" if torch.cuda.is_available() else \"cpu\")"
      ]
    },
    {
      "cell_type": "markdown",
      "metadata": {
        "id": "pmLGfrATCu2f"
      },
      "source": [
        "##Data processing"
      ]
    },
    {
      "cell_type": "markdown",
      "metadata": {
        "id": "OROe4HxxCz93"
      },
      "source": [
        "Getting rid of the sequences which are outside of the threshold (64-128)."
      ]
    },
    {
      "cell_type": "markdown",
      "metadata": {
        "id": "rxCNl4b7DEjK"
      },
      "source": [
        "Getting the sequence of a given file in the target folder (contains only the files with desired sequences)."
      ]
    },
    {
      "cell_type": "code",
      "execution_count": null,
      "metadata": {
        "colab": {
          "base_uri": "https://localhost:8080/"
        },
        "id": "fsWswnTdTXNk",
        "outputId": "6308ed44-c717-4927-ba4d-dc0c0fa7d180"
      },
      "outputs": [
        {
          "output_type": "stream",
          "name": "stdout",
          "text": [
            "MSSSNTDNQYPKYINDTTPPTITLKEYDNASWASTTCLDHNPIKNQYIVVVMENPNQIVAIIDQQDNMILDILFKNAHDAHSKQEYSTK\n"
          ]
        }
      ],
      "source": [
        "file_path = \"/content/AF-A0A1D8PD42-F1-model_v4.cif\"\n",
        "file_model = \"AF-A0A1D8PD42-F1-model_v4.cif\"\n",
        "pdbl = PDBList()\n",
        "#pdbl.retrieve_pdb_file(file_path, file_format='mmCif', pdir=\".\")\n",
        "# import the needed class\n",
        "# instantiate the class to prepare the parser\n",
        "cif_parser = MMCIFParser()\n",
        "#structure = cif_parser.get_structure(\"3goe\", \"3goe.cif\")\n",
        "structure = cif_parser.get_structure(file_model, file_path)\n",
        "model0 = structure[0]\n",
        "chain_A = model0['A']  # and we get chain A\n",
        "# dictionary converting 3-letter codes to 1-letter codes\n",
        "# this is a very common need in bioinformatics of proteins\n",
        "d3to1 = {'CYS': 'C', 'ASP': 'D', 'SER': 'S', 'GLN': 'Q', 'LYS': 'K',\n",
        " 'ILE': 'I', 'PRO': 'P', 'THR': 'T', 'PHE': 'F', 'ASN': 'N',\n",
        " 'GLY': 'G', 'HIS': 'H', 'LEU': 'L', 'ARG': 'R', 'TRP': 'W',\n",
        " 'ALA': 'A', 'VAL':'V', 'GLU': 'E', 'TYR': 'Y', 'MET': 'M'}\n",
        "\n",
        "sequence = []\n",
        "for residue in chain_A:\n",
        "    # for simplicity we can use X for heteroatoms (ions and water)\n",
        "    sequence.append(d3to1.get(residue.get_resname(), 'X'))  #converts water and ions to X\n",
        "print(''.join(sequence))"
      ]
    },
    {
      "cell_type": "markdown",
      "metadata": {
        "id": "MPYE1LduF1So"
      },
      "source": [
        "Calculating the angles for the given sequence"
      ]
    },
    {
      "cell_type": "code",
      "source": [
        "\n",
        "atom_coords = []\n",
        "\n",
        "for residue in chain_A:\n",
        "\n",
        "    if 'N' in residue and 'CA' in residue and 'C' in residue:\n",
        "\n",
        "        n_coord = residue['N'].get_coord()\n",
        "        ca_coord = residue['CA'].get_coord()\n",
        "        c_coord = residue['C'].get_coord()\n",
        "\n",
        "        atom_coords.append(n_coord)\n",
        "        atom_coords.append(ca_coord)\n",
        "        atom_coords.append(c_coord)\n",
        "\n",
        "        #apparently this is also an extra atom that sometimes exist called Cb so we need to be careful but that will complicate things so for now im ignoring it\n",
        "        #if 'CB' in residue:\n",
        "        #    cb_coord = residue['CB'].get_coord()\n",
        "        #   atom_coords.append(cb_coord)\n",
        "\n",
        "atom_coords = np.array(atom_coords)\n",
        "# Now atom_coords contains the XYZ coordinates of the selected atoms\n",
        "print(atom_coords)"
      ],
      "metadata": {
        "colab": {
          "base_uri": "https://localhost:8080/"
        },
        "id": "-zQ2rv0wIYUu",
        "outputId": "c5f1b595-4c6a-476d-abbd-111fc03e8bf5"
      },
      "execution_count": null,
      "outputs": [
        {
          "output_type": "stream",
          "name": "stdout",
          "text": [
            "[[ 2.36229992e+01  2.66019993e+01  1.49000001e+00]\n",
            " [ 2.40100002e+01  2.52490005e+01  1.04799998e+00]\n",
            " [ 2.27509995e+01  2.44069996e+01  1.04200006e+00]\n",
            " [ 2.21219997e+01  2.42329998e+01 -1.19999997e-01]\n",
            " [ 2.08980007e+01  2.34360008e+01 -2.36000001e-01]\n",
            " [ 2.12859993e+01  2.19909992e+01 -5.14999986e-01]\n",
            " [ 2.16170006e+01  2.12560005e+01  5.42999983e-01]\n",
            " [ 2.17390003e+01  1.98010006e+01  4.74999994e-01]\n",
            " [ 2.03279991e+01  1.92169991e+01  4.90000010e-01]\n",
            " [ 1.96509991e+01  1.92420006e+01 -6.53999984e-01]\n",
            " [ 1.83269997e+01  1.86410007e+01 -8.19000006e-01]\n",
            " [ 1.83750000e+01  1.77010002e+01 -2.00699997e+00]\n",
            " [ 1.88470001e+01  1.64860001e+01 -1.76100004e+00]\n",
            " [ 1.84790001e+01  1.53079996e+01 -2.53900003e+00]\n",
            " [ 1.88820000e+01  1.40780001e+01 -1.72200000e+00]\n",
            " [ 1.83139992e+01  1.39480000e+01 -5.22000015e-01]\n",
            " [ 1.79039993e+01  1.26029997e+01 -1.28000006e-01]\n",
            " [ 1.68320007e+01  1.22519999e+01 -1.14300001e+00]\n",
            " [ 1.71770000e+01  1.14270000e+01 -2.13199997e+00]\n",
            " [ 1.62579994e+01  1.09359999e+01 -3.15400004e+00]\n",
            " [ 1.50850000e+01  1.02460003e+01 -2.44400001e+00]\n",
            " [ 1.40850000e+01  1.10349998e+01 -2.05100012e+00]\n",
            " [ 1.27510004e+01  1.05950003e+01 -1.65900004e+00]\n",
            " [ 1.20019999e+01  1.01820002e+01 -2.93000007e+00]\n",
            " [ 1.26949997e+01  9.46399975e+00 -3.81200004e+00]\n",
            " [ 1.21289997e+01  8.97200012e+00 -5.03999996e+00]\n",
            " [ 1.12600002e+01  7.78299999e+00 -4.69000006e+00]\n",
            " [ 1.00279999e+01  7.85400009e+00 -5.17100000e+00]\n",
            " [ 9.11499977e+00  6.73799992e+00 -5.10200024e+00]\n",
            " [ 9.68599987e+00  5.52500010e+00 -5.84299994e+00]\n",
            " [ 9.24499989e+00  4.31400013e+00 -5.47399998e+00]\n",
            " [ 9.62500000e+00  3.10599995e+00 -6.17700005e+00]\n",
            " [ 9.35099983e+00  3.23900008e+00 -7.67500019e+00]\n",
            " [ 1.02910004e+01  2.76200008e+00 -8.49400043e+00]\n",
            " [ 1.00760002e+01  2.71300006e+00 -9.93900013e+00]\n",
            " [ 8.93999958e+00  1.75100005e+00 -1.02379999e+01]\n",
            " [ 8.06900024e+00  2.15700006e+00 -1.11470003e+01]\n",
            " [ 7.03499985e+00  1.26900005e+00 -1.16379995e+01]\n",
            " [ 7.67199993e+00  8.60000029e-02 -1.23809996e+01]\n",
            " [ 7.04099989e+00 -1.08800006e+00 -1.22939997e+01]\n",
            " [ 7.50600004e+00 -2.31999993e+00 -1.29560003e+01]\n",
            " [ 7.51000023e+00 -2.13499999e+00 -1.44840002e+01]\n",
            " [ 6.54799986e+00 -1.36000001e+00 -1.49829998e+01]\n",
            " [ 6.42899990e+00 -8.66999984e-01 -1.63549995e+01]\n",
            " [ 5.88199997e+00  5.70999980e-01 -1.63069992e+01]\n",
            " [ 5.67600012e+00  1.25199997e+00 -1.74330006e+01]\n",
            " [ 5.22599983e+00  2.66100001e+00 -1.74440002e+01]\n",
            " [ 3.86400008e+00  2.93899989e+00 -1.67570000e+01]\n",
            " [ 3.14400005e+00  1.91100001e+00 -1.62870007e+01]\n",
            " [ 1.78199995e+00  2.03399992e+00 -1.57329998e+01]\n",
            " [ 1.52699995e+00  1.26499999e+00 -1.44340000e+01]\n",
            " [ 2.40599990e+00  3.38999987e-01 -1.40419998e+01]\n",
            " [ 2.15100002e+00 -6.06999993e-01 -1.29429998e+01]\n",
            " [ 3.06599998e+00 -3.17000002e-01 -1.17550001e+01]\n",
            " [ 2.52600002e+00  1.80000007e-01 -1.06269999e+01]\n",
            " [ 3.29699993e+00  3.56999993e-01 -9.40299988e+00]\n",
            " [ 3.88400006e+00 -9.78999972e-01 -8.92700005e+00]\n",
            " [ 5.05200005e+00 -9.75000024e-01 -8.26900005e+00]\n",
            " [ 5.60500002e+00 -2.19400001e+00 -7.70800018e+00]\n",
            " [ 4.78200006e+00 -2.68700004e+00 -6.51999998e+00]\n",
            " [ 4.85599995e+00 -3.99200010e+00 -6.28200006e+00]\n",
            " [ 4.36600018e+00 -4.60699987e+00 -5.05000019e+00]\n",
            " [ 5.47900009e+00 -4.58599997e+00 -4.00899982e+00]\n",
            " [ 5.16800022e+00 -4.11199999e+00 -2.80500007e+00]\n",
            " [ 6.07499981e+00 -4.08300018e+00 -1.65400004e+00]\n",
            " [ 5.36899996e+00 -4.64900017e+00 -4.23999995e-01]\n",
            " [ 6.13500023e+00 -5.10900021e+00  5.47999978e-01]\n",
            " [ 5.62300014e+00 -5.49300003e+00  1.86500001e+00]\n",
            " [ 5.36000013e+00 -4.26599979e+00  2.73799992e+00]\n",
            " [ 4.49300003e+00 -4.40899992e+00  3.73900008e+00]\n",
            " [ 4.26300001e+00 -3.38800001e+00  4.76100016e+00]\n",
            " [ 5.56099987e+00 -3.04399991e+00  5.50600004e+00]\n",
            " [ 6.42799997e+00 -4.03700018e+00  5.73000002e+00]\n",
            " [ 7.74499989e+00 -3.81900001e+00  6.33699989e+00]\n",
            " [ 8.65400028e+00 -2.94799995e+00  5.46700001e+00]\n",
            " [ 8.66199970e+00 -3.15100002e+00  4.15299988e+00]\n",
            " [ 9.42599964e+00 -2.29099989e+00  3.24099994e+00]\n",
            " [ 8.86900043e+00 -8.70999992e-01  3.23799992e+00]\n",
            " [ 7.54099989e+00 -7.30000019e-01  3.26900005e+00]\n",
            " [ 6.88500023e+00  5.64999998e-01  3.39800000e+00]\n",
            " [ 7.28599977e+00  1.29200006e+00  4.69000006e+00]\n",
            " [ 7.21799994e+00  6.35999978e-01  5.84999990e+00]\n",
            " [ 7.55999994e+00  1.23899996e+00  7.14900017e+00]\n",
            " [ 9.00300026e+00  1.76999998e+00  7.22200012e+00]\n",
            " [ 9.91899967e+00  1.17799997e+00  6.44899988e+00]\n",
            " [ 1.13319998e+01  1.56500006e+00  6.41300011e+00]\n",
            " [ 1.16879997e+01  2.45700002e+00  5.21299982e+00]\n",
            " [ 1.07270002e+01  2.77399993e+00  4.34600019e+00]\n",
            " [ 1.09799995e+01  3.56900001e+00  3.15899992e+00]\n",
            " [ 1.11929998e+01  5.04699993e+00  3.51500010e+00]\n",
            " [ 1.22430000e+01  5.65999985e+00  2.96000004e+00]\n",
            " [ 1.25330000e+01  7.09399986e+00  3.14800000e+00]\n",
            " [ 1.13839998e+01  8.00000000e+00  2.69099998e+00]\n",
            " [ 1.06459999e+01  7.55399990e+00  1.67600000e+00]\n",
            " [ 9.50699997e+00  8.25100040e+00  1.08800006e+00]\n",
            " [ 8.17199993e+00  7.96199989e+00  1.79900002e+00]\n",
            " [ 8.12399960e+00  7.07299995e+00  2.79999995e+00]\n",
            " [ 6.87699986e+00  6.73099995e+00  3.49900007e+00]\n",
            " [ 6.21600008e+00  7.94299984e+00  4.17500019e+00]\n",
            " [ 7.03000021e+00  8.90900040e+00  4.61299992e+00]\n",
            " [ 6.56500006e+00  1.01280003e+01  5.28399992e+00]\n",
            " [ 5.82700014e+00  1.11129999e+01  4.37300014e+00]\n",
            " [ 5.86399984e+00  1.09259996e+01  3.04900002e+00]\n",
            " [ 5.13500023e+00  1.17539997e+01  2.06999993e+00]\n",
            " [ 3.92000008e+00  1.10319996e+01  1.48300004e+00]\n",
            " [ 3.61400008e+00  9.84000015e+00  1.99100006e+00]\n",
            " [ 2.57200003e+00  8.95199966e+00  1.47899997e+00]\n",
            " [ 1.63600004e+00  8.47999954e+00  2.58299994e+00]\n",
            " [ 5.12000024e-01  7.89900017e+00  2.18799996e+00]\n",
            " [-3.81000012e-01  7.18800020e+00  3.08599997e+00]\n",
            " [-8.28999996e-01  5.85799980e+00  2.47600007e+00]\n",
            " [-1.21200001e+00  4.93400002e+00  3.35599995e+00]\n",
            " [-1.88100004e+00  3.69700003e+00  2.97900009e+00]\n",
            " [-3.35899997e+00  3.98499990e+00  2.73300004e+00]\n",
            " [-3.89299989e+00  3.42899990e+00  1.65600002e+00]\n",
            " [-5.30700016e+00  3.49799991e+00  1.30799997e+00]\n",
            " [-5.80100012e+00  2.13299990e+00  8.05999994e-01]\n",
            " [-7.11100006e+00  1.91199994e+00  8.50000024e-01]\n",
            " [-7.74599981e+00  7.17000008e-01  3.03000003e-01]\n",
            " [-8.37699986e+00  1.04200006e+00 -1.04799998e+00]\n",
            " [-7.99100018e+00  3.03999990e-01 -2.08699989e+00]\n",
            " [-8.62500000e+00  3.88999999e-01 -3.39499998e+00]\n",
            " [-9.76900005e+00 -6.35999978e-01 -3.47900009e+00]\n",
            " [-1.10469999e+01 -2.14000002e-01 -3.41400003e+00]\n",
            " [-1.21770000e+01 -1.13900006e+00 -3.39499998e+00]\n",
            " [-1.24340000e+01 -1.80400002e+00 -4.75199986e+00]\n",
            " [-1.20459995e+01 -1.16799998e+00 -5.86499977e+00]\n",
            " [-1.22600002e+01 -1.70700002e+00 -7.22100019e+00]\n",
            " [-1.14049997e+01 -2.95700002e+00 -7.43699980e+00]\n",
            " [-1.01560001e+01 -2.91499996e+00 -6.96400023e+00]\n",
            " [-9.19999981e+00 -4.02699995e+00 -7.06799984e+00]\n",
            " [-9.10499954e+00 -4.86700010e+00 -5.79300022e+00]\n",
            " [-9.79800034e+00 -4.46000004e+00 -4.73000002e+00]\n",
            " [-9.72599983e+00 -5.04199982e+00 -3.39299989e+00]\n",
            " [-8.27700043e+00 -5.25299978e+00 -2.91000009e+00]\n",
            " [-7.47900009e+00 -4.18699980e+00 -2.94199991e+00]\n",
            " [-6.06199980e+00 -4.22200012e+00 -2.57399988e+00]\n",
            " [-5.68499994e+00 -2.98200011e+00 -1.76800001e+00]\n",
            " [-4.69000006e+00 -3.11700010e+00 -8.99999976e-01]\n",
            " [-4.07999992e+00 -1.97300005e+00 -2.39999995e-01]\n",
            " [-3.02900004e+00 -1.33599997e+00 -1.14600003e+00]\n",
            " [-3.06100011e+00 -1.40000004e-02 -1.22599995e+00]\n",
            " [-2.18600011e+00  7.96999991e-01 -2.06399989e+00]\n",
            " [-1.51199996e+00  1.86699998e+00 -1.22599995e+00]\n",
            " [-3.68000001e-01  2.32299995e+00 -1.71000004e+00]\n",
            " [ 3.21999997e-01  3.47700000e+00 -1.15799999e+00]\n",
            " [ 1.42000005e-01  4.64099979e+00 -2.11599994e+00]\n",
            " [-3.63999993e-01  5.76200008e+00 -1.61399996e+00]\n",
            " [-6.48999989e-01  6.96700001e+00 -2.40199995e+00]\n",
            " [ 1.04000002e-01  8.17399979e+00 -1.86099994e+00]\n",
            " [ 3.61999989e-01  9.15799999e+00 -2.71799994e+00]\n",
            " [ 1.00199997e+00  1.04169998e+01 -2.30800009e+00]\n",
            " [ 4.00000019e-03  1.12679996e+01 -1.52400005e+00]\n",
            " [ 3.63999993e-01  1.17480001e+01 -3.28000009e-01]\n",
            " [-5.69000006e-01  1.25229998e+01  5.12000024e-01]\n",
            " [-1.06099999e+00  1.38070002e+01 -1.72000006e-01]\n",
            " [-1.72999993e-01  1.45080004e+01 -8.79999995e-01]\n",
            " [-5.08000016e-01  1.57360001e+01 -1.61899996e+00]\n",
            " [-1.31099999e+00  1.54670000e+01 -2.90300012e+00]\n",
            " [-1.27499998e+00  1.42320004e+01 -3.41199994e+00]\n",
            " [-1.99399996e+00  1.38120003e+01 -4.60900021e+00]\n",
            " [-2.46600008e+00  1.23520002e+01 -4.47599983e+00]\n",
            " [-3.58699989e+00  1.20930004e+01 -3.77300000e+00]\n",
            " [-4.03900003e+00  1.07270002e+01 -3.48000002e+00]\n",
            " [-4.40999985e+00  9.89500046e+00 -4.71700001e+00]\n",
            " [-4.56799984e+00  1.05290003e+01 -5.88399982e+00]\n",
            " [-4.77099991e+00  9.82299995e+00 -7.15199995e+00]\n",
            " [-3.48499990e+00  9.16300011e+00 -7.67899990e+00]\n",
            " [-2.31900001e+00  9.55799961e+00 -7.16599989e+00]\n",
            " [-1.03199995e+00  8.99899960e+00 -7.54500008e+00]\n",
            " [-6.83000028e-01  7.81599998e+00 -6.64400005e+00]\n",
            " [-8.11999977e-01  6.61600018e+00 -7.20300007e+00]\n",
            " [-4.12000000e-01  5.36499977e+00 -6.55600023e+00]\n",
            " [ 1.08800006e+00  5.15600014e+00 -6.76200008e+00]\n",
            " [ 1.85300004e+00  4.90999985e+00 -5.70499992e+00]\n",
            " [ 3.31299996e+00  4.70499992e+00 -5.78900003e+00]\n",
            " [ 3.74000001e+00  3.27099991e+00 -5.50299978e+00]\n",
            " [ 2.90199995e+00  2.49600005e+00 -4.81599998e+00]\n",
            " [ 3.11299992e+00  1.07299995e+00 -4.58799982e+00]\n",
            " [ 1.78600001e+00  3.56999993e-01 -4.30100012e+00]\n",
            " [ 1.80100000e+00 -9.63999987e-01 -4.42700005e+00]\n",
            " [ 7.45999992e-01 -1.87300003e+00 -3.97199988e+00]\n",
            " [ 1.31900001e+00 -2.66000009e+00 -2.79099989e+00]\n",
            " [ 5.47999978e-01 -2.85800004e+00 -1.72399998e+00]\n",
            " [ 9.90999997e-01 -3.71099997e+00 -6.17999971e-01]\n",
            " [ 7.36999989e-01 -5.18100023e+00 -9.57000017e-01]\n",
            " [ 1.72200000e+00 -6.02799988e+00 -6.69000030e-01]\n",
            " [ 1.63499999e+00 -7.47200012e+00 -8.42999995e-01]\n",
            " [ 4.72999990e-01 -8.06499958e+00 -3.29999998e-02]\n",
            " [-2.29000002e-01 -9.02900028e+00 -6.30999982e-01]\n",
            " [-1.41400003e+00 -9.63599968e+00 -3.20000015e-02]\n",
            " [-1.13300002e+00 -1.03439999e+01  1.29700005e+00]\n",
            " [ 1.04999997e-01 -1.07810001e+01  1.54499996e+00]\n",
            " [ 4.85000014e-01 -1.13970003e+01  2.81699991e+00]\n",
            " [ 2.80000001e-01 -1.04519997e+01  4.01499987e+00]\n",
            " [ 3.47999990e-01 -9.13599968e+00  3.79299998e+00]\n",
            " [ 2.09000006e-01 -8.11900043e+00  4.83699989e+00]\n",
            " [-1.24399996e+00 -7.63100004e+00  5.00099993e+00]\n",
            " [-2.17499995e+00 -8.09700012e+00  4.15500021e+00]\n",
            " [-3.57999992e+00 -7.67600012e+00  4.18200016e+00]\n",
            " [-4.23500013e+00 -7.90299988e+00  5.54300022e+00]\n",
            " [-3.96099997e+00 -9.02999973e+00  6.20900011e+00]\n",
            " [-4.54699993e+00 -9.30700016e+00  7.52600002e+00]\n",
            " [-4.17799997e+00 -8.24499989e+00  8.56700039e+00]\n",
            " [-2.94000006e+00 -7.74700022e+00  8.52900028e+00]\n",
            " [-2.47600007e+00 -6.70400000e+00  9.44699955e+00]\n",
            " [-3.19700003e+00 -5.39900017e+00  9.11699963e+00]\n",
            " [-3.27500010e+00 -5.05800009e+00  7.83199978e+00]\n",
            " [-3.94000006e+00 -3.84699988e+00  7.36899996e+00]\n",
            " [-5.44199991e+00 -3.86299992e+00  7.66599989e+00]\n",
            " [-6.13899994e+00 -4.97599983e+00  7.44999981e+00]\n",
            " [-7.55800009e+00 -5.12799978e+00  7.79199982e+00]\n",
            " [-7.81099987e+00 -4.81199980e+00  9.27200031e+00]\n",
            " [-6.95100021e+00 -5.31500006e+00  1.01639996e+01]\n",
            " [-7.03800011e+00 -5.03999996e+00  1.16020002e+01]\n",
            " [-6.77099991e+00 -3.55999994e+00  1.18870001e+01]\n",
            " [-5.74900007e+00 -2.96700001e+00  1.12670002e+01]\n",
            " [-5.40700006e+00 -1.55599999e+00  1.14569998e+01]\n",
            " [-6.53999996e+00 -6.34000003e-01  1.10000000e+01]\n",
            " [-7.06400013e+00 -8.39999974e-01  9.79300022e+00]\n",
            " [-8.16600037e+00 -5.20000011e-02  9.24199963e+00]\n",
            " [-9.44999981e+00 -2.37000003e-01  1.00500002e+01]\n",
            " [-9.76900005e+00 -1.46800005e+00  1.04680004e+01]\n",
            " [-1.09169998e+01 -1.72700000e+00  1.13439999e+01]\n",
            " [-1.07849998e+01 -1.00600004e+00  1.26840000e+01]\n",
            " [-9.63099957e+00 -1.10800004e+00  1.33389997e+01]\n",
            " [-9.39900017e+00 -4.51999992e-01  1.46260004e+01]\n",
            " [-9.44499969e+00  1.07599998e+00  1.45030003e+01]\n",
            " [-8.88000011e+00  1.63100004e+00  1.34270000e+01]\n",
            " [-8.93900013e+00  3.05900002e+00  1.31409998e+01]\n",
            " [-1.03859997e+01  3.52500010e+00  1.29289999e+01]\n",
            " [-1.11789999e+01  2.75500011e+00  1.21800003e+01]\n",
            " [-1.25970001e+01  3.02699995e+00  1.19779997e+01]\n",
            " [-1.33769999e+01  2.97900009e+00  1.32980003e+01]\n",
            " [-1.32320004e+01  1.90799999e+00  1.40839996e+01]\n",
            " [-1.39130001e+01  1.74500000e+00  1.53739996e+01]\n",
            " [-1.35570002e+01  2.86800003e+00  1.63649998e+01]\n",
            " [-1.22939997e+01  3.30299997e+00  1.63859997e+01]\n",
            " [-1.18430004e+01  4.41300011e+00  1.72189999e+01]\n",
            " [-1.24549999e+01  5.74499989e+00  1.67679996e+01]\n",
            " [-1.24849997e+01  6.00000000e+00  1.54580002e+01]\n",
            " [-1.30730000e+01  7.20900011e+00  1.48940001e+01]\n",
            " [-1.45850000e+01  7.26499987e+00  1.51459999e+01]\n",
            " [-1.53070002e+01  6.16400003e+00  1.49150000e+01]\n",
            " [-1.67460003e+01  6.08400011e+00  1.51840000e+01]\n",
            " [-1.70809994e+01  6.35799980e+00  1.66490002e+01]\n",
            " [-1.62590008e+01  5.90799999e+00  1.76079998e+01]\n",
            " [-1.64829998e+01  6.18900013e+00  1.90400009e+01]\n",
            " [-1.62980003e+01  7.66499996e+00  1.93969994e+01]\n",
            " [-1.53599997e+01  8.36299992e+00  1.87549992e+01]\n",
            " [-1.51359997e+01  9.79399967e+00  1.89979992e+01]\n",
            " [-1.63490009e+01  1.06420002e+01  1.85919991e+01]\n",
            " [-1.70590000e+01  1.02539997e+01  1.75279999e+01]\n",
            " [-1.83020000e+01  1.09209995e+01  1.71110001e+01]\n",
            " [-1.94370003e+01  1.07860003e+01  1.81420002e+01]\n",
            " [-1.94279995e+01  9.73799992e+00  1.89740009e+01]\n",
            " [-2.04190006e+01  9.57499981e+00  2.00450001e+01]\n",
            " [-2.00510006e+01  1.03170004e+01  2.13290005e+01]\n",
            " [-1.87619991e+01  1.05050001e+01  2.16259995e+01]\n",
            " [-1.83299999e+01  1.12180004e+01  2.28409996e+01]\n",
            " [-1.83999996e+01  1.27460003e+01  2.27320004e+01]\n",
            " [-1.87530003e+01  1.32900000e+01  2.15639992e+01]\n",
            " [-1.88460007e+01  1.47399998e+01  2.13139992e+01]\n",
            " [-2.02810001e+01  1.52729998e+01  2.11879997e+01]\n",
            " [-2.13029995e+01  1.44680004e+01  2.15070000e+01]\n",
            " [-2.27040005e+01  1.49119997e+01  2.16429996e+01]\n",
            " [-2.31429996e+01  1.49160004e+01  2.30990009e+01]]\n"
          ]
        }
      ]
    },
    {
      "cell_type": "code",
      "source": [
        "import numpy as np\n",
        "\n",
        "#use this code to update the predicted matrix into pdb file\n",
        "#should have dimensions of atom_coords, im printing it so you can check the dimensions\n",
        "print(np.shape(atom_coords))\n",
        "\n",
        "# Initialize a counter for your new coordinates\n",
        "coord_idx = 0\n",
        "residue_cnt = 0\n",
        "\n",
        "# Loop through each residue and update the coordinates of the N, CA, and C atoms\n",
        "for model in structure:\n",
        "    for chain in model:\n",
        "        for residue in chain:\n",
        "            residue_cnt += 1\n",
        "            if 'N' in residue and 'CA' in residue and 'C' in residue:\n",
        "                # Update N atom\n",
        "                residue['N'].set_coord(atom_coords[coord_idx])\n",
        "                coord_idx += 1\n",
        "                # Update CA atom\n",
        "                residue['CA'].set_coord(atom_coords[coord_idx])\n",
        "                coord_idx += 1\n",
        "                # Update C atom\n",
        "                residue['C'].set_coord(atom_coords[coord_idx])\n",
        "                coord_idx += 1\n",
        "\n",
        "print(residue_cnt)\n",
        "#notice how there are"
      ],
      "metadata": {
        "colab": {
          "base_uri": "https://localhost:8080/"
        },
        "id": "Rq6MOOSEKiRN",
        "outputId": "01ec554c-a68b-437a-feb5-02116915d2f1"
      },
      "execution_count": null,
      "outputs": [
        {
          "output_type": "stream",
          "name": "stdout",
          "text": [
            "(267, 3)\n",
            "89\n"
          ]
        }
      ]
    }
  ],
  "metadata": {
    "colab": {
      "provenance": []
    },
    "kernelspec": {
      "display_name": "Python 3",
      "name": "python3"
    },
    "language_info": {
      "codemirror_mode": {
        "name": "ipython",
        "version": 3
      },
      "file_extension": ".py",
      "mimetype": "text/x-python",
      "name": "python",
      "nbconvert_exporter": "python",
      "pygments_lexer": "ipython3",
      "version": "3.11.5"
    }
  },
  "nbformat": 4,
  "nbformat_minor": 0
}